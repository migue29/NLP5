{
 "cells": [
  {
   "cell_type": "markdown",
   "metadata": {},
   "source": [
    "Primero importamos las librerias a utilizar"
   ]
  },
  {
   "cell_type": "code",
   "execution_count": 27,
   "metadata": {},
   "outputs": [],
   "source": [
    "import pandas as pd\n",
    "import numpy as np\n",
    "import matplotlib.patches as mpatches\n",
    "import matplotlib.pyplot as plt\n",
    "import plotly.graph_objects as go\n",
    "import plotly.express as px\n",
    "from pandasgui import show"
   ]
  },
  {
   "cell_type": "markdown",
   "metadata": {},
   "source": [
    "Observamos cuales son las cabeceras a utilizar"
   ]
  },
  {
   "cell_type": "code",
   "execution_count": 28,
   "metadata": {},
   "outputs": [],
   "source": [
    "df = pd.read_csv('youtoxic_english_1000.csv')"
   ]
  },
  {
   "cell_type": "code",
   "execution_count": 29,
   "metadata": {},
   "outputs": [
    {
     "data": {
      "text/html": [
       "<div>\n",
       "<style scoped>\n",
       "    .dataframe tbody tr th:only-of-type {\n",
       "        vertical-align: middle;\n",
       "    }\n",
       "\n",
       "    .dataframe tbody tr th {\n",
       "        vertical-align: top;\n",
       "    }\n",
       "\n",
       "    .dataframe thead th {\n",
       "        text-align: right;\n",
       "    }\n",
       "</style>\n",
       "<table border=\"1\" class=\"dataframe\">\n",
       "  <thead>\n",
       "    <tr style=\"text-align: right;\">\n",
       "      <th></th>\n",
       "      <th>CommentId</th>\n",
       "      <th>VideoId</th>\n",
       "      <th>Text</th>\n",
       "      <th>IsToxic</th>\n",
       "      <th>IsAbusive</th>\n",
       "      <th>IsThreat</th>\n",
       "      <th>IsProvocative</th>\n",
       "      <th>IsObscene</th>\n",
       "      <th>IsHatespeech</th>\n",
       "      <th>IsRacist</th>\n",
       "      <th>IsNationalist</th>\n",
       "      <th>IsSexist</th>\n",
       "      <th>IsHomophobic</th>\n",
       "      <th>IsReligiousHate</th>\n",
       "      <th>IsRadicalism</th>\n",
       "    </tr>\n",
       "  </thead>\n",
       "  <tbody>\n",
       "    <tr>\n",
       "      <th>0</th>\n",
       "      <td>Ugg2KwwX0V8-aXgCoAEC</td>\n",
       "      <td>04kJtp6pVXI</td>\n",
       "      <td>If only people would just take a step back and...</td>\n",
       "      <td>False</td>\n",
       "      <td>False</td>\n",
       "      <td>False</td>\n",
       "      <td>False</td>\n",
       "      <td>False</td>\n",
       "      <td>False</td>\n",
       "      <td>False</td>\n",
       "      <td>False</td>\n",
       "      <td>False</td>\n",
       "      <td>False</td>\n",
       "      <td>False</td>\n",
       "      <td>False</td>\n",
       "    </tr>\n",
       "    <tr>\n",
       "      <th>1</th>\n",
       "      <td>Ugg2s5AzSPioEXgCoAEC</td>\n",
       "      <td>04kJtp6pVXI</td>\n",
       "      <td>Law enforcement is not trained to shoot to app...</td>\n",
       "      <td>True</td>\n",
       "      <td>True</td>\n",
       "      <td>False</td>\n",
       "      <td>False</td>\n",
       "      <td>False</td>\n",
       "      <td>False</td>\n",
       "      <td>False</td>\n",
       "      <td>False</td>\n",
       "      <td>False</td>\n",
       "      <td>False</td>\n",
       "      <td>False</td>\n",
       "      <td>False</td>\n",
       "    </tr>\n",
       "    <tr>\n",
       "      <th>2</th>\n",
       "      <td>Ugg3dWTOxryFfHgCoAEC</td>\n",
       "      <td>04kJtp6pVXI</td>\n",
       "      <td>\\nDont you reckon them 'black lives matter' ba...</td>\n",
       "      <td>True</td>\n",
       "      <td>True</td>\n",
       "      <td>False</td>\n",
       "      <td>False</td>\n",
       "      <td>True</td>\n",
       "      <td>False</td>\n",
       "      <td>False</td>\n",
       "      <td>False</td>\n",
       "      <td>False</td>\n",
       "      <td>False</td>\n",
       "      <td>False</td>\n",
       "      <td>False</td>\n",
       "    </tr>\n",
       "    <tr>\n",
       "      <th>3</th>\n",
       "      <td>Ugg7Gd006w1MPngCoAEC</td>\n",
       "      <td>04kJtp6pVXI</td>\n",
       "      <td>There are a very large number of people who do...</td>\n",
       "      <td>False</td>\n",
       "      <td>False</td>\n",
       "      <td>False</td>\n",
       "      <td>False</td>\n",
       "      <td>False</td>\n",
       "      <td>False</td>\n",
       "      <td>False</td>\n",
       "      <td>False</td>\n",
       "      <td>False</td>\n",
       "      <td>False</td>\n",
       "      <td>False</td>\n",
       "      <td>False</td>\n",
       "    </tr>\n",
       "    <tr>\n",
       "      <th>4</th>\n",
       "      <td>Ugg8FfTbbNF8IngCoAEC</td>\n",
       "      <td>04kJtp6pVXI</td>\n",
       "      <td>The Arab dude is absolutely right, he should h...</td>\n",
       "      <td>False</td>\n",
       "      <td>False</td>\n",
       "      <td>False</td>\n",
       "      <td>False</td>\n",
       "      <td>False</td>\n",
       "      <td>False</td>\n",
       "      <td>False</td>\n",
       "      <td>False</td>\n",
       "      <td>False</td>\n",
       "      <td>False</td>\n",
       "      <td>False</td>\n",
       "      <td>False</td>\n",
       "    </tr>\n",
       "    <tr>\n",
       "      <th>5</th>\n",
       "      <td>Ugg9a6FtoXdxmXgCoAEC</td>\n",
       "      <td>04kJtp6pVXI</td>\n",
       "      <td>here people his facebook is https://www.facebo...</td>\n",
       "      <td>True</td>\n",
       "      <td>False</td>\n",
       "      <td>False</td>\n",
       "      <td>False</td>\n",
       "      <td>False</td>\n",
       "      <td>True</td>\n",
       "      <td>False</td>\n",
       "      <td>False</td>\n",
       "      <td>False</td>\n",
       "      <td>False</td>\n",
       "      <td>True</td>\n",
       "      <td>False</td>\n",
       "    </tr>\n",
       "    <tr>\n",
       "      <th>6</th>\n",
       "      <td>Ugga9KzkNDGvlXgCoAEC</td>\n",
       "      <td>04kJtp6pVXI</td>\n",
       "      <td>Check out this you tube post. \"Black man goes ...</td>\n",
       "      <td>True</td>\n",
       "      <td>False</td>\n",
       "      <td>False</td>\n",
       "      <td>False</td>\n",
       "      <td>False</td>\n",
       "      <td>True</td>\n",
       "      <td>True</td>\n",
       "      <td>False</td>\n",
       "      <td>False</td>\n",
       "      <td>False</td>\n",
       "      <td>False</td>\n",
       "      <td>False</td>\n",
       "    </tr>\n",
       "    <tr>\n",
       "      <th>7</th>\n",
       "      <td>UggBlIXoph7p-3gCoAEC</td>\n",
       "      <td>04kJtp6pVXI</td>\n",
       "      <td>I would LOVE to see this pussy go to Staten Is...</td>\n",
       "      <td>True</td>\n",
       "      <td>True</td>\n",
       "      <td>False</td>\n",
       "      <td>False</td>\n",
       "      <td>True</td>\n",
       "      <td>True</td>\n",
       "      <td>True</td>\n",
       "      <td>False</td>\n",
       "      <td>False</td>\n",
       "      <td>False</td>\n",
       "      <td>False</td>\n",
       "      <td>False</td>\n",
       "    </tr>\n",
       "    <tr>\n",
       "      <th>8</th>\n",
       "      <td>UggD1aYSn7KOR3gCoAEC</td>\n",
       "      <td>04kJtp6pVXI</td>\n",
       "      <td>I agree with the protestor.</td>\n",
       "      <td>False</td>\n",
       "      <td>False</td>\n",
       "      <td>False</td>\n",
       "      <td>False</td>\n",
       "      <td>False</td>\n",
       "      <td>False</td>\n",
       "      <td>False</td>\n",
       "      <td>False</td>\n",
       "      <td>False</td>\n",
       "      <td>False</td>\n",
       "      <td>False</td>\n",
       "      <td>False</td>\n",
       "    </tr>\n",
       "    <tr>\n",
       "      <th>9</th>\n",
       "      <td>UggGm8a1fu8brngCoAEC</td>\n",
       "      <td>04kJtp6pVXI</td>\n",
       "      <td>mike browns father was made to say that boooshit</td>\n",
       "      <td>True</td>\n",
       "      <td>True</td>\n",
       "      <td>False</td>\n",
       "      <td>False</td>\n",
       "      <td>True</td>\n",
       "      <td>False</td>\n",
       "      <td>False</td>\n",
       "      <td>False</td>\n",
       "      <td>False</td>\n",
       "      <td>False</td>\n",
       "      <td>False</td>\n",
       "      <td>False</td>\n",
       "    </tr>\n",
       "    <tr>\n",
       "      <th>10</th>\n",
       "      <td>UggguNlx1Uu89HgCoAEC</td>\n",
       "      <td>04kJtp6pVXI</td>\n",
       "      <td>the guy on the right is so on point. don't jud...</td>\n",
       "      <td>True</td>\n",
       "      <td>True</td>\n",
       "      <td>False</td>\n",
       "      <td>False</td>\n",
       "      <td>True</td>\n",
       "      <td>False</td>\n",
       "      <td>False</td>\n",
       "      <td>False</td>\n",
       "      <td>False</td>\n",
       "      <td>False</td>\n",
       "      <td>False</td>\n",
       "      <td>False</td>\n",
       "    </tr>\n",
       "    <tr>\n",
       "      <th>11</th>\n",
       "      <td>UggHKcxZ-FvsJ3gCoAEC</td>\n",
       "      <td>04kJtp6pVXI</td>\n",
       "      <td>moral of the story, don't reach for a cops gun...</td>\n",
       "      <td>False</td>\n",
       "      <td>False</td>\n",
       "      <td>False</td>\n",
       "      <td>False</td>\n",
       "      <td>False</td>\n",
       "      <td>False</td>\n",
       "      <td>False</td>\n",
       "      <td>False</td>\n",
       "      <td>False</td>\n",
       "      <td>False</td>\n",
       "      <td>False</td>\n",
       "      <td>False</td>\n",
       "    </tr>\n",
       "    <tr>\n",
       "      <th>12</th>\n",
       "      <td>UggLbJp619j8BHgCoAEC</td>\n",
       "      <td>04kJtp6pVXI</td>\n",
       "      <td>Masri is about as close as you can get to ISIS...</td>\n",
       "      <td>True</td>\n",
       "      <td>True</td>\n",
       "      <td>False</td>\n",
       "      <td>False</td>\n",
       "      <td>False</td>\n",
       "      <td>False</td>\n",
       "      <td>False</td>\n",
       "      <td>False</td>\n",
       "      <td>False</td>\n",
       "      <td>False</td>\n",
       "      <td>False</td>\n",
       "      <td>False</td>\n",
       "    </tr>\n",
       "    <tr>\n",
       "      <th>13</th>\n",
       "      <td>UggMY2Oggks5LngCoAEC</td>\n",
       "      <td>04kJtp6pVXI</td>\n",
       "      <td>We all know with the chimpers there is no comp...</td>\n",
       "      <td>True</td>\n",
       "      <td>False</td>\n",
       "      <td>False</td>\n",
       "      <td>False</td>\n",
       "      <td>False</td>\n",
       "      <td>True</td>\n",
       "      <td>True</td>\n",
       "      <td>False</td>\n",
       "      <td>False</td>\n",
       "      <td>False</td>\n",
       "      <td>False</td>\n",
       "      <td>False</td>\n",
       "    </tr>\n",
       "    <tr>\n",
       "      <th>14</th>\n",
       "      <td>UggNrFQh7L5JuXgCoAEC</td>\n",
       "      <td>04kJtp6pVXI</td>\n",
       "      <td>\"I can believe whatever I wanna believe, I don...</td>\n",
       "      <td>True</td>\n",
       "      <td>True</td>\n",
       "      <td>False</td>\n",
       "      <td>False</td>\n",
       "      <td>False</td>\n",
       "      <td>False</td>\n",
       "      <td>False</td>\n",
       "      <td>False</td>\n",
       "      <td>False</td>\n",
       "      <td>False</td>\n",
       "      <td>False</td>\n",
       "      <td>False</td>\n",
       "    </tr>\n",
       "    <tr>\n",
       "      <th>15</th>\n",
       "      <td>UggPT9Z38D5yt3gCoAEC</td>\n",
       "      <td>04kJtp6pVXI</td>\n",
       "      <td>Bassem Masri is a terrorist part of isis</td>\n",
       "      <td>True</td>\n",
       "      <td>False</td>\n",
       "      <td>False</td>\n",
       "      <td>False</td>\n",
       "      <td>False</td>\n",
       "      <td>True</td>\n",
       "      <td>False</td>\n",
       "      <td>False</td>\n",
       "      <td>False</td>\n",
       "      <td>False</td>\n",
       "      <td>True</td>\n",
       "      <td>False</td>\n",
       "    </tr>\n",
       "    <tr>\n",
       "      <th>16</th>\n",
       "      <td>UggRCZiMOIRLg3gCoAEC</td>\n",
       "      <td>04kJtp6pVXI</td>\n",
       "      <td>I would'nt waist my time trying to reason with...</td>\n",
       "      <td>True</td>\n",
       "      <td>True</td>\n",
       "      <td>False</td>\n",
       "      <td>True</td>\n",
       "      <td>False</td>\n",
       "      <td>False</td>\n",
       "      <td>False</td>\n",
       "      <td>False</td>\n",
       "      <td>False</td>\n",
       "      <td>False</td>\n",
       "      <td>False</td>\n",
       "      <td>False</td>\n",
       "    </tr>\n",
       "    <tr>\n",
       "      <th>17</th>\n",
       "      <td>UggSYiWItbnmgngCoAEC</td>\n",
       "      <td>04kJtp6pVXI</td>\n",
       "      <td>I wish mr masri was dead,,</td>\n",
       "      <td>True</td>\n",
       "      <td>True</td>\n",
       "      <td>False</td>\n",
       "      <td>False</td>\n",
       "      <td>False</td>\n",
       "      <td>False</td>\n",
       "      <td>False</td>\n",
       "      <td>False</td>\n",
       "      <td>False</td>\n",
       "      <td>False</td>\n",
       "      <td>False</td>\n",
       "      <td>False</td>\n",
       "    </tr>\n",
       "    <tr>\n",
       "      <th>18</th>\n",
       "      <td>Uggt6lvUxwS-7XgCoAEC</td>\n",
       "      <td>04kJtp6pVXI</td>\n",
       "      <td>Thus, with a collapse of the USA, only two pos...</td>\n",
       "      <td>False</td>\n",
       "      <td>False</td>\n",
       "      <td>False</td>\n",
       "      <td>False</td>\n",
       "      <td>False</td>\n",
       "      <td>False</td>\n",
       "      <td>False</td>\n",
       "      <td>False</td>\n",
       "      <td>False</td>\n",
       "      <td>False</td>\n",
       "      <td>False</td>\n",
       "      <td>False</td>\n",
       "    </tr>\n",
       "    <tr>\n",
       "      <th>19</th>\n",
       "      <td>Uggte-vb2ZLTQ3gCoAEC</td>\n",
       "      <td>04kJtp6pVXI</td>\n",
       "      <td>You actually CAN shout \"fire\" in a crowded the...</td>\n",
       "      <td>True</td>\n",
       "      <td>True</td>\n",
       "      <td>False</td>\n",
       "      <td>False</td>\n",
       "      <td>True</td>\n",
       "      <td>False</td>\n",
       "      <td>False</td>\n",
       "      <td>False</td>\n",
       "      <td>False</td>\n",
       "      <td>False</td>\n",
       "      <td>False</td>\n",
       "      <td>False</td>\n",
       "    </tr>\n",
       "  </tbody>\n",
       "</table>\n",
       "</div>"
      ],
      "text/plain": [
       "               CommentId      VideoId  \\\n",
       "0   Ugg2KwwX0V8-aXgCoAEC  04kJtp6pVXI   \n",
       "1   Ugg2s5AzSPioEXgCoAEC  04kJtp6pVXI   \n",
       "2   Ugg3dWTOxryFfHgCoAEC  04kJtp6pVXI   \n",
       "3   Ugg7Gd006w1MPngCoAEC  04kJtp6pVXI   \n",
       "4   Ugg8FfTbbNF8IngCoAEC  04kJtp6pVXI   \n",
       "5   Ugg9a6FtoXdxmXgCoAEC  04kJtp6pVXI   \n",
       "6   Ugga9KzkNDGvlXgCoAEC  04kJtp6pVXI   \n",
       "7   UggBlIXoph7p-3gCoAEC  04kJtp6pVXI   \n",
       "8   UggD1aYSn7KOR3gCoAEC  04kJtp6pVXI   \n",
       "9   UggGm8a1fu8brngCoAEC  04kJtp6pVXI   \n",
       "10  UggguNlx1Uu89HgCoAEC  04kJtp6pVXI   \n",
       "11  UggHKcxZ-FvsJ3gCoAEC  04kJtp6pVXI   \n",
       "12  UggLbJp619j8BHgCoAEC  04kJtp6pVXI   \n",
       "13  UggMY2Oggks5LngCoAEC  04kJtp6pVXI   \n",
       "14  UggNrFQh7L5JuXgCoAEC  04kJtp6pVXI   \n",
       "15  UggPT9Z38D5yt3gCoAEC  04kJtp6pVXI   \n",
       "16  UggRCZiMOIRLg3gCoAEC  04kJtp6pVXI   \n",
       "17  UggSYiWItbnmgngCoAEC  04kJtp6pVXI   \n",
       "18  Uggt6lvUxwS-7XgCoAEC  04kJtp6pVXI   \n",
       "19  Uggte-vb2ZLTQ3gCoAEC  04kJtp6pVXI   \n",
       "\n",
       "                                                 Text  IsToxic  IsAbusive  \\\n",
       "0   If only people would just take a step back and...    False      False   \n",
       "1   Law enforcement is not trained to shoot to app...     True       True   \n",
       "2   \\nDont you reckon them 'black lives matter' ba...     True       True   \n",
       "3   There are a very large number of people who do...    False      False   \n",
       "4   The Arab dude is absolutely right, he should h...    False      False   \n",
       "5   here people his facebook is https://www.facebo...     True      False   \n",
       "6   Check out this you tube post. \"Black man goes ...     True      False   \n",
       "7   I would LOVE to see this pussy go to Staten Is...     True       True   \n",
       "8                         I agree with the protestor.    False      False   \n",
       "9    mike browns father was made to say that boooshit     True       True   \n",
       "10  the guy on the right is so on point. don't jud...     True       True   \n",
       "11  moral of the story, don't reach for a cops gun...    False      False   \n",
       "12  Masri is about as close as you can get to ISIS...     True       True   \n",
       "13  We all know with the chimpers there is no comp...     True      False   \n",
       "14  \"I can believe whatever I wanna believe, I don...     True       True   \n",
       "15           Bassem Masri is a terrorist part of isis     True      False   \n",
       "16  I would'nt waist my time trying to reason with...     True       True   \n",
       "17                         I wish mr masri was dead,,     True       True   \n",
       "18  Thus, with a collapse of the USA, only two pos...    False      False   \n",
       "19  You actually CAN shout \"fire\" in a crowded the...     True       True   \n",
       "\n",
       "    IsThreat  IsProvocative  IsObscene  IsHatespeech  IsRacist  IsNationalist  \\\n",
       "0      False          False      False         False     False          False   \n",
       "1      False          False      False         False     False          False   \n",
       "2      False          False       True         False     False          False   \n",
       "3      False          False      False         False     False          False   \n",
       "4      False          False      False         False     False          False   \n",
       "5      False          False      False          True     False          False   \n",
       "6      False          False      False          True      True          False   \n",
       "7      False          False       True          True      True          False   \n",
       "8      False          False      False         False     False          False   \n",
       "9      False          False       True         False     False          False   \n",
       "10     False          False       True         False     False          False   \n",
       "11     False          False      False         False     False          False   \n",
       "12     False          False      False         False     False          False   \n",
       "13     False          False      False          True      True          False   \n",
       "14     False          False      False         False     False          False   \n",
       "15     False          False      False          True     False          False   \n",
       "16     False           True      False         False     False          False   \n",
       "17     False          False      False         False     False          False   \n",
       "18     False          False      False         False     False          False   \n",
       "19     False          False       True         False     False          False   \n",
       "\n",
       "    IsSexist  IsHomophobic  IsReligiousHate  IsRadicalism  \n",
       "0      False         False            False         False  \n",
       "1      False         False            False         False  \n",
       "2      False         False            False         False  \n",
       "3      False         False            False         False  \n",
       "4      False         False            False         False  \n",
       "5      False         False             True         False  \n",
       "6      False         False            False         False  \n",
       "7      False         False            False         False  \n",
       "8      False         False            False         False  \n",
       "9      False         False            False         False  \n",
       "10     False         False            False         False  \n",
       "11     False         False            False         False  \n",
       "12     False         False            False         False  \n",
       "13     False         False            False         False  \n",
       "14     False         False            False         False  \n",
       "15     False         False             True         False  \n",
       "16     False         False            False         False  \n",
       "17     False         False            False         False  \n",
       "18     False         False            False         False  \n",
       "19     False         False            False         False  "
      ]
     },
     "execution_count": 29,
     "metadata": {},
     "output_type": "execute_result"
    }
   ],
   "source": [
    "df.head(20)"
   ]
  },
  {
   "cell_type": "markdown",
   "metadata": {},
   "source": [
    "Verificamos la cantidad y la calidad de los datos que detectamos dentro del dataframe"
   ]
  },
  {
   "cell_type": "code",
   "execution_count": 30,
   "metadata": {},
   "outputs": [
    {
     "name": "stdout",
     "output_type": "stream",
     "text": [
      "Dataset has 15 features and 1000 rows.\n",
      "                 Unique  Missing  Missing %  Duplicated   Types\n",
      "CommentId          1000        0        0.0           0  object\n",
      "VideoId              13        0        0.0           0  object\n",
      "Text                997        0        0.0           0  object\n",
      "IsToxic               2        0        0.0           0    bool\n",
      "IsAbusive             2        0        0.0           0    bool\n",
      "IsThreat              2        0        0.0           0    bool\n",
      "IsProvocative         2        0        0.0           0    bool\n",
      "IsObscene             2        0        0.0           0    bool\n",
      "IsHatespeech          2        0        0.0           0    bool\n",
      "IsRacist              2        0        0.0           0    bool\n",
      "IsNationalist         2        0        0.0           0    bool\n",
      "IsSexist              2        0        0.0           0    bool\n",
      "IsHomophobic          1        0        0.0           0    bool\n",
      "IsReligiousHate       2        0        0.0           0    bool\n",
      "IsRadicalism          1        0        0.0           0    bool\n"
     ]
    }
   ],
   "source": [
    "def summary(df):\n",
    "    total_values = df.shape[0]\n",
    "    missing_data = df.isnull().sum()\n",
    "    missing_percentage = (missing_data / total_values) * 100\n",
    "    print(f\"Dataset has {df.shape[1]} features and {df.shape[0]} rows.\")\n",
    "    summary = pd.DataFrame(index=df.columns)\n",
    "    summary[\"Unique\"] = df.nunique().values\n",
    "    summary[\"Missing\"] = df.isnull().sum().values\n",
    "    summary['Missing %'] = ((missing_data / total_values) * 100).round(2)\n",
    "    summary[\"Duplicated\"] = df.duplicated().sum()\n",
    "    summary[\"Types\"] = df.dtypes\n",
    "    return summary\n",
    "\n",
    "# Call the summary function and pass the DataFrame df as an argument\n",
    "resumen_datos = summary(df)\n",
    "\n",
    "# Print the data summary\n",
    "print(resumen_datos)"
   ]
  },
  {
   "cell_type": "code",
   "execution_count": 31,
   "metadata": {},
   "outputs": [
    {
     "data": {
      "text/html": [
       "<div>\n",
       "<style scoped>\n",
       "    .dataframe tbody tr th:only-of-type {\n",
       "        vertical-align: middle;\n",
       "    }\n",
       "\n",
       "    .dataframe tbody tr th {\n",
       "        vertical-align: top;\n",
       "    }\n",
       "\n",
       "    .dataframe thead th {\n",
       "        text-align: right;\n",
       "    }\n",
       "</style>\n",
       "<table border=\"1\" class=\"dataframe\">\n",
       "  <thead>\n",
       "    <tr style=\"text-align: right;\">\n",
       "      <th></th>\n",
       "      <th>CommentId</th>\n",
       "      <th>VideoId</th>\n",
       "      <th>Text</th>\n",
       "      <th>IsToxic</th>\n",
       "      <th>IsAbusive</th>\n",
       "      <th>IsThreat</th>\n",
       "      <th>IsProvocative</th>\n",
       "      <th>IsObscene</th>\n",
       "      <th>IsHatespeech</th>\n",
       "      <th>IsRacist</th>\n",
       "      <th>IsNationalist</th>\n",
       "      <th>IsSexist</th>\n",
       "      <th>IsHomophobic</th>\n",
       "      <th>IsReligiousHate</th>\n",
       "      <th>IsRadicalism</th>\n",
       "    </tr>\n",
       "  </thead>\n",
       "  <tbody>\n",
       "    <tr>\n",
       "      <th>count</th>\n",
       "      <td>1000</td>\n",
       "      <td>1000</td>\n",
       "      <td>1000</td>\n",
       "      <td>1000</td>\n",
       "      <td>1000</td>\n",
       "      <td>1000</td>\n",
       "      <td>1000</td>\n",
       "      <td>1000</td>\n",
       "      <td>1000</td>\n",
       "      <td>1000</td>\n",
       "      <td>1000</td>\n",
       "      <td>1000</td>\n",
       "      <td>1000</td>\n",
       "      <td>1000</td>\n",
       "      <td>1000</td>\n",
       "    </tr>\n",
       "    <tr>\n",
       "      <th>unique</th>\n",
       "      <td>1000</td>\n",
       "      <td>13</td>\n",
       "      <td>997</td>\n",
       "      <td>2</td>\n",
       "      <td>2</td>\n",
       "      <td>2</td>\n",
       "      <td>2</td>\n",
       "      <td>2</td>\n",
       "      <td>2</td>\n",
       "      <td>2</td>\n",
       "      <td>2</td>\n",
       "      <td>2</td>\n",
       "      <td>1</td>\n",
       "      <td>2</td>\n",
       "      <td>1</td>\n",
       "    </tr>\n",
       "    <tr>\n",
       "      <th>top</th>\n",
       "      <td>Ugg2KwwX0V8-aXgCoAEC</td>\n",
       "      <td>9pr1oE34bIM</td>\n",
       "      <td>run them over</td>\n",
       "      <td>False</td>\n",
       "      <td>False</td>\n",
       "      <td>False</td>\n",
       "      <td>False</td>\n",
       "      <td>False</td>\n",
       "      <td>False</td>\n",
       "      <td>False</td>\n",
       "      <td>False</td>\n",
       "      <td>False</td>\n",
       "      <td>False</td>\n",
       "      <td>False</td>\n",
       "      <td>False</td>\n",
       "    </tr>\n",
       "    <tr>\n",
       "      <th>freq</th>\n",
       "      <td>1</td>\n",
       "      <td>274</td>\n",
       "      <td>3</td>\n",
       "      <td>538</td>\n",
       "      <td>647</td>\n",
       "      <td>979</td>\n",
       "      <td>839</td>\n",
       "      <td>900</td>\n",
       "      <td>862</td>\n",
       "      <td>875</td>\n",
       "      <td>992</td>\n",
       "      <td>999</td>\n",
       "      <td>1000</td>\n",
       "      <td>988</td>\n",
       "      <td>1000</td>\n",
       "    </tr>\n",
       "  </tbody>\n",
       "</table>\n",
       "</div>"
      ],
      "text/plain": [
       "                   CommentId      VideoId           Text IsToxic IsAbusive  \\\n",
       "count                   1000         1000           1000    1000      1000   \n",
       "unique                  1000           13            997       2         2   \n",
       "top     Ugg2KwwX0V8-aXgCoAEC  9pr1oE34bIM  run them over   False     False   \n",
       "freq                       1          274              3     538       647   \n",
       "\n",
       "       IsThreat IsProvocative IsObscene IsHatespeech IsRacist IsNationalist  \\\n",
       "count      1000          1000      1000         1000     1000          1000   \n",
       "unique        2             2         2            2        2             2   \n",
       "top       False         False     False        False    False         False   \n",
       "freq        979           839       900          862      875           992   \n",
       "\n",
       "       IsSexist IsHomophobic IsReligiousHate IsRadicalism  \n",
       "count      1000         1000            1000         1000  \n",
       "unique        2            1               2            1  \n",
       "top       False        False           False        False  \n",
       "freq        999         1000             988         1000  "
      ]
     },
     "execution_count": 31,
     "metadata": {},
     "output_type": "execute_result"
    }
   ],
   "source": [
    "df.describe()"
   ]
  },
  {
   "cell_type": "code",
   "execution_count": 32,
   "metadata": {},
   "outputs": [
    {
     "name": "stdout",
     "output_type": "stream",
     "text": [
      "|     | CommentId            | VideoId     | Text                                                                                                                                                                                                                                                                                                                                                                                                                                                                                                                                                                                                                                                                                                                                                                                                                                                                                                                                                                                                                                                                                                                                                                                                                                                                                                                                                                                                                                                                                                                                                                                                                   | IsToxic   | IsAbusive   | IsThreat   | IsProvocative   | IsObscene   | IsHatespeech   | IsRacist   | IsNationalist   | IsSexist   | IsHomophobic   | IsReligiousHate   | IsRadicalism   |\n",
      "|----:|:---------------------|:------------|:-----------------------------------------------------------------------------------------------------------------------------------------------------------------------------------------------------------------------------------------------------------------------------------------------------------------------------------------------------------------------------------------------------------------------------------------------------------------------------------------------------------------------------------------------------------------------------------------------------------------------------------------------------------------------------------------------------------------------------------------------------------------------------------------------------------------------------------------------------------------------------------------------------------------------------------------------------------------------------------------------------------------------------------------------------------------------------------------------------------------------------------------------------------------------------------------------------------------------------------------------------------------------------------------------------------------------------------------------------------------------------------------------------------------------------------------------------------------------------------------------------------------------------------------------------------------------------------------------------------------------|:----------|:------------|:-----------|:----------------|:------------|:---------------|:-----------|:----------------|:-----------|:---------------|:------------------|:---------------|\n",
      "|   0 | Ugg2KwwX0V8-aXgCoAEC | 04kJtp6pVXI | If only people would just take a step back and not make this case about them, because it wasn't about anyone except the two people in that situation.  To lump yourself into this mess and take matters into your own hands makes these kinds of protests selfish and without rational thought and investigation.  The guy in this video is heavily emotional and hyped up and wants to be heard, and when he gets heard he just presses more and more.  He was never out to have a reasonable discussion.  Kudos to the Smerconish for keeping level the whole time and letting Masri make himself out to be a fool.  How dare he and those that tore that city down in protest make this about themselves and to dishonor the entire incident with their own hate.  By the way, since when did police brutality become an epidemic?  I wish everyone would just stop pretending like they were there and they knew EXACTLY what was going on, because there's no measurable amount of people that honestly witnessed this incident, so none of us have a clue on which way this whole issue should have swung.  The grand jury were the most informed, we have to trust the majority rule was the right course of action and let it be.  Also, thank you to the 99.999% of police officers in America that actually serve & protect, even if you're a bit of a jerk when you pull me over, I respect your job and know that someone has to do it and that many people are going to pout about being held accountable to their actions.  People hate police until they need an officer or two around in an emergency. | False     | False       | False      | False           | False       | False          | False      | False           | False      | False          | False             | False          |\n",
      "| 172 | Ugg1pPxlPlgCFXgCoAEC | 4rCweDxDqdw | wait if they are in an area that has a majority of African Americans, doesn't it make since that the majority of people pulled over and searched or arrested in that same area would be African American as well?                                                                                                                                                                                                                                                                                                                                                                                                                                                                                                                                                                                                                                                                                                                                                                                                                                                                                                                                                                                                                                                                                                                                                                                                                                                                                                                                                                                                      | False     | False       | False      | False           | False       | False          | False      | False           | False      | False          | False             | False          |\n",
      "| 209 | UggLdovvjLOAV3gCoAEC | 5vF4si3hoRA | Fucking savages! Protest sumthing real... Like how your government is robbing you and sendin your kids to an elegal WAR! You are the laughing stock of America congrats!                                                                                                                                                                                                                                                                                                                                                                                                                                                                                                                                                                                                                                                                                                                                                                                                                                                                                                                                                                                                                                                                                                                                                                                                                                                                                                                                                                                                                                               | True      | True        | False      | False           | False       | False          | False      | False           | False      | False          | False             | False          |\n",
      "| 217 | Ugg6zFEJoC75_3gCoAEC | 8HB18hZrhXc | Guy @ 0:34 just got a hard on.....                                                                                                                                                                                                                                                                                                                                                                                                                                                                                                                                                                                                                                                                                                                                                                                                                                                                                                                                                                                                                                                                                                                                                                                                                                                                                                                                                                                                                                                                                                                                                                                     | False     | False       | False      | False           | False       | False          | False      | False           | False      | False          | False             | False          |\n",
      "| 255 | Ugg_vc9Qh3OaNHgCoAEC | 9pr1oE34bIM | Our shit serving media concocts a story, white cop kills an innocent black teenager, which is bullshit, to get the \"black community\" up in arms, they burn shit down..more stories for these useless talking heads to get in front of a camera with. At least once a week i see a black on white crime reported on the news..no national attention , no federal involvement...wtf? Black men need to stand up and be fathers and stop looking for excuses.. fuck yall.. all yall.                                                                                                                                                                                                                                                                                                                                                                                                                                                                                                                                                                                                                                                                                                                                                                                                                                                                                                                                                                                                                                                                                                                                      | True      | True        | False      | False           | True        | True           | True       | False           | False      | False          | False             | False          |\n",
      "| 529 | Uggag40IEfpGlXgCoAEC | bUgKZMSxr3E | If the injustice was against white kids, would there be ANY excuse?                                                                                                                                                                                                                                                                                                                                                                                                                                                                                                                                                                                                                                                                                                                                                                                                                                                                                                                                                                                                                                                                                                                                                                                                                                                                                                                                                                                                                                                                                                                                                    | True      | True        | False      | True            | False       | False          | False      | False           | False      | False          | False             | False          |\n",
      "| 568 | Ugg_LN-zUkz_PngCoAEC | cT14IbTDW2c | As if the traffic on the 5 isn't bad enough.                                                                                                                                                                                                                                                                                                                                                                                                                                                                                                                                                                                                                                                                                                                                                                                                                                                                                                                                                                                                                                                                                                                                                                                                                                                                                                                                                                                                                                                                                                                                                                           | False     | False       | False      | False           | False       | False          | False      | False           | False      | False          | False             | False          |\n",
      "| 714 | Ugg_G6d9ehvFo3gCoAEC | dDbRyFIkNII | I'm not informed 100% about what exactly is going on but that was fucked up! I'm trying to find reliable resources to understand this. I can't believe that it is 2014 and thing like this is still happening.                                                                                                                                                                                                                                                                                                                                                                                                                                                                                                                                                                                                                                                                                                                                                                                                                                                                                                                                                                                                                                                                                                                                                                                                                                                                                                                                                                                                         | False     | False       | False      | False           | False       | False          | False      | False           | False      | False          | False             | False          |\n",
      "| 724 | Ugg_tHGB8ZFbpXgCoAEC | dG7mZQvaQDk | I love this lady!!!                                                                                                                                                                                                                                                                                                                                                                                                                                                                                                                                                                                                                                                                                                                                                                                                                                                                                                                                                                                                                                                                                                                                                                                                                                                                                                                                                                                                                                                                                                                                                                                                    | False     | False       | False      | False           | False       | False          | False      | False           | False      | False          | False             | False          |\n",
      "|     |                      |             |                                                                                                                                                                                                                                                                                                                                                                                                                                                                                                                                                                                                                                                                                                                                                                                                                                                                                                                                                                                                                                                                                                                                                                                                                                                                                                                                                                                                                                                                                                                                                                                                                        |           |             |            |                 |             |                |            |                 |            |                |                   |                |\n",
      "|     |                      |             | We need more strong women like Peggy Hubbard!!                                                                                                                                                                                                                                                                                                                                                                                                                                                                                                                                                                                                                                                                                                                                                                                                                                                                                                                                                                                                                                                                                                                                                                                                                                                                                                                                                                                                                                                                                                                                                                         |           |             |            |                 |             |                |            |                 |            |                |                   |                |\n",
      "| 836 | Ugg_n-nSlkkSSXgCoAEC | Dt9-byUhPdg | Yea! We should beat up all white people, rob black owned stores, and cause massive riots wasting money! I bet 90% of yall don't work, stop wasting people money and just off yourself....I hope every single person their got shot...that didn't happen though, sadly.                                                                                                                                                                                                                                                                                                                                                                                                                                                                                                                                                                                                                                                                                                                                                                                                                                                                                                                                                                                                                                                                                                                                                                                                                                                                                                                                                 | True      | True        | False      | True            | False       | True           | True       | False           | False      | False          | False             | False          |\n",
      "| 870 | UggFX4zCcHRPtXgCoAEC | #NAME?      | Now your tax dollars will get them a spanking new cop car 😔                                                                                                                                                                                                                                                                                                                                                                                                                                                                                                                                                                                                                                                                                                                                                                                                                                                                                                                                                                                                                                                                                                                                                                                                                                                                                                                                                                                                                                                                                                                                                           | False     | False       | False      | False           | False       | False          | False      | False           | False      | False          | False             | False          |\n",
      "| 886 | UggCqc7cB_wHgXgCoAEC | TZxEyoplYbI | I hate it how people have to read everything for me. Because I can't read. Because I'm black.                                                                                                                                                                                                                                                                                                                                                                                                                                                                                                                                                                                                                                                                                                                                                                                                                                                                                                                                                                                                                                                                                                                                                                                                                                                                                                                                                                                                                                                                                                                          | True      | False       | False      | False           | False       | True           | True       | False           | False      | False          | False             | False          |\n",
      "| 990 | Ugh07S5UNzXDWngCoAEC | XRuCW80L9mA | Remember..Michael Brown was just a young, teen boy, who happened to be built like a linerbacker and robbed a convenience store..he was a pillar to his community.                                                                                                                                                                                                                                                                                                                                                                                                                                                                                                                                                                                                                                                                                                                                                                                                                                                                                                                                                                                                                                                                                                                                                                                                                                                                                                                                                                                                                                                      | False     | False       | False      | False           | False       | False          | False      | False           | False      | False          | False             | False          |\n",
      "|     |                      |             |                                                                                                                                                                                                                                                                                                                                                                                                                                                                                                                                                                                                                                                                                                                                                                                                                                                                                                                                                                                                                                                                                                                                                                                                                                                                                                                                                                                                                                                                                                                                                                                                                        |           |             |            |                 |             |                |            |                 |            |                |                   |                |\n",
      "|     |                      |             | http://www.liveleak.com/view?i=464_1408123040                                                                                                                                                                                                                                                                                                                                                                                                                                                                                                                                                                                                                                                                                                                                                                                                                                                                                                                                                                                                                                                                                                                                                                                                                                                                                                                                                                                                                                                                                                                                                                          |           |             |            |                 |             |                |            |                 |            |                |                   |                |\n"
     ]
    }
   ],
   "source": [
    "# Crear un nuevo DataFrame con filas únicas basadas en 'VideoId'\n",
    "df_unicos = df.drop_duplicates(subset='VideoId')\n",
    "\n",
    "# Utiliza to_markdown() para mostrar el DataFrame en un formato de tabla\n",
    "tabla_markdown = df_unicos.to_markdown()\n",
    "\n",
    "# Imprime la tabla en formato Markdown\n",
    "print(tabla_markdown)\n"
   ]
  },
  {
   "cell_type": "code",
   "execution_count": 33,
   "metadata": {},
   "outputs": [
    {
     "data": {
      "image/png": "[encoded data removed]",
      "text/plain": [
       "<Figure size 2000x1200 with 1 Axes>"
      ]
     },
     "metadata": {},
     "output_type": "display_data"
    }
   ],
   "source": [
    "columns_names = df.columns.tolist()\n",
    "bar_data = {}\n",
    "for name in columns_names[1:]:\n",
    "    bar_data[name] = len(df.loc[df[name] == 1]) / len(df[name])\n",
    "    \n",
    "    \n",
    "bar_name = list(bar_data.keys())\n",
    "values = list(bar_data.values())\n",
    "fig = plt.figure(figsize = (20, 12))\n",
    "colors = plt.cm.Paired(np.arange(12))\n",
    "\n",
    "plt.bar(bar_name, values, color = colors,\n",
    "        width = 0.4)\n",
    "plt.xticks(fontsize=12)\n",
    "plt.yticks(fontsize=15)\n",
    "plt.xlabel(\"Feature Name\", fontsize=15)\n",
    "plt.ylabel(\"Abundance ratio\", fontsize=15)\n",
    "#plt.title(\"Percentage of each feature from all comments\", fontsize=30)\n",
    "\n",
    "patch = [mpatches.Patch(color=color, label=f\"{bar_name} - {value*100}%\") \n",
    "         for color,value, bar_name in zip(colors, values, bar_name)]\n",
    "plt.legend(handles=patch, fontsize=13)\n",
    "plt.grid()\n",
    "plt.show()"
   ]
  },
  {
   "cell_type": "code",
   "execution_count": 34,
   "metadata": {},
   "outputs": [
    {
     "data": {
      "application/vnd.plotly.v1+json": {
       "config": {
        "plotlyServerURL": "https://plot.ly"
       },
       "data": [
        {
         "alignmentgroup": "True",
         "hovertemplate": "Porcentaje de participación=%{x}<br>Clasificación de Hate=%{y}<extra></extra>",
         "legendgroup": "",
         "marker": {
          "color": "#636efa",
          "pattern": {
           "shape": ""
          }
         },
         "name": "",
         "offsetgroup": "",
         "orientation": "v",
         "showlegend": false,
         "textposition": "auto",
         "type": "bar",
         "x": [
          "VideoId",
          "Text",
          "IsToxic",
          "IsAbusive",
          "IsThreat",
          "IsProvocative",
          "IsObscene",
          "IsHatespeech",
          "IsRacist",
          "IsNationalist",
          "IsSexist",
          "IsHomophobic",
          "IsReligiousHate",
          "IsRadicalism"
         ],
         "xaxis": "x",
         "y": [
          0,
          0,
          0.462,
          0.353,
          0.021,
          0.161,
          0.1,
          0.138,
          0.125,
          0.008,
          0.001,
          0,
          0.012,
          0
         ],
         "yaxis": "y"
        }
       ],
       "layout": {
        "barmode": "relative",
        "height": 500,
        "legend": {
         "tracegroupgap": 0
        },
        "showlegend": false,
        "template": {
         "data": {
          "bar": [
           {
            "error_x": {
             "color": "#2a3f5f"
            },
            "error_y": {
             "color": "#2a3f5f"
            },
            "marker": {
             "line": {
              "color": "#E5ECF6",
              "width": 0.5
             },
             "pattern": {
              "fillmode": "overlay",
              "size": 10,
              "solidity": 0.2
             }
            },
            "type": "bar"
           }
          ],
          "barpolar": [
           {
            "marker": {
             "line": {
              "color": "#E5ECF6",
              "width": 0.5
             },
             "pattern": {
              "fillmode": "overlay",
              "size": 10,
              "solidity": 0.2
             }
            },
            "type": "barpolar"
           }
          ],
          "carpet": [
           {
            "aaxis": {
             "endlinecolor": "#2a3f5f",
             "gridcolor": "white",
             "linecolor": "white",
             "minorgridcolor": "white",
             "startlinecolor": "#2a3f5f"
            },
            "baxis": {
             "endlinecolor": "#2a3f5f",
             "gridcolor": "white",
             "linecolor": "white",
             "minorgridcolor": "white",
             "startlinecolor": "#2a3f5f"
            },
            "type": "carpet"
           }
          ],
          "choropleth": [
           {
            "colorbar": {
             "outlinewidth": 0,
             "ticks": ""
            },
            "type": "choropleth"
           }
          ],
          "contour": [
           {
            "colorbar": {
             "outlinewidth": 0,
             "ticks": ""
            },
            "colorscale": [
             [
              0,
              "#0d0887"
             ],
             [
              0.1111111111111111,
              "#46039f"
             ],
             [
              0.2222222222222222,
              "#7201a8"
             ],
             [
              0.3333333333333333,
              "#9c179e"
             ],
             [
              0.4444444444444444,
              "#bd3786"
             ],
             [
              0.5555555555555556,
              "#d8576b"
             ],
             [
              0.6666666666666666,
              "#ed7953"
             ],
             [
              0.7777777777777778,
              "#fb9f3a"
             ],
             [
              0.8888888888888888,
              "#fdca26"
             ],
             [
              1,
              "#f0f921"
             ]
            ],
            "type": "contour"
           }
          ],
          "contourcarpet": [
           {
            "colorbar": {
             "outlinewidth": 0,
             "ticks": ""
            },
            "type": "contourcarpet"
           }
          ],
          "heatmap": [
           {
            "colorbar": {
             "outlinewidth": 0,
             "ticks": ""
            },
            "colorscale": [
             [
              0,
              "#0d0887"
             ],
             [
              0.1111111111111111,
              "#46039f"
             ],
             [
              0.2222222222222222,
              "#7201a8"
             ],
             [
              0.3333333333333333,
              "#9c179e"
             ],
             [
              0.4444444444444444,
              "#bd3786"
             ],
             [
              0.5555555555555556,
              "#d8576b"
             ],
             [
              0.6666666666666666,
              "#ed7953"
             ],
             [
              0.7777777777777778,
              "#fb9f3a"
             ],
             [
              0.8888888888888888,
              "#fdca26"
             ],
             [
              1,
              "#f0f921"
             ]
            ],
            "type": "heatmap"
           }
          ],
          "heatmapgl": [
           {
            "colorbar": {
             "outlinewidth": 0,
             "ticks": ""
            },
            "colorscale": [
             [
              0,
              "#0d0887"
             ],
             [
              0.1111111111111111,
              "#46039f"
             ],
             [
              0.2222222222222222,
              "#7201a8"
             ],
             [
              0.3333333333333333,
              "#9c179e"
             ],
             [
              0.4444444444444444,
              "#bd3786"
             ],
             [
              0.5555555555555556,
              "#d8576b"
             ],
             [
              0.6666666666666666,
              "#ed7953"
             ],
             [
              0.7777777777777778,
              "#fb9f3a"
             ],
             [
              0.8888888888888888,
              "#fdca26"
             ],
             [
              1,
              "#f0f921"
             ]
            ],
            "type": "heatmapgl"
           }
          ],
          "histogram": [
           {
            "marker": {
             "pattern": {
              "fillmode": "overlay",
              "size": 10,
              "solidity": 0.2
             }
            },
            "type": "histogram"
           }
          ],
          "histogram2d": [
           {
            "colorbar": {
             "outlinewidth": 0,
             "ticks": ""
            },
            "colorscale": [
             [
              0,
              "#0d0887"
             ],
             [
              0.1111111111111111,
              "#46039f"
             ],
             [
              0.2222222222222222,
              "#7201a8"
             ],
             [
              0.3333333333333333,
              "#9c179e"
             ],
             [
              0.4444444444444444,
              "#bd3786"
             ],
             [
              0.5555555555555556,
              "#d8576b"
             ],
             [
              0.6666666666666666,
              "#ed7953"
             ],
             [
              0.7777777777777778,
              "#fb9f3a"
             ],
             [
              0.8888888888888888,
              "#fdca26"
             ],
             [
              1,
              "#f0f921"
             ]
            ],
            "type": "histogram2d"
           }
          ],
          "histogram2dcontour": [
           {
            "colorbar": {
             "outlinewidth": 0,
             "ticks": ""
            },
            "colorscale": [
             [
              0,
              "#0d0887"
             ],
             [
              0.1111111111111111,
              "#46039f"
             ],
             [
              0.2222222222222222,
              "#7201a8"
             ],
             [
              0.3333333333333333,
              "#9c179e"
             ],
             [
              0.4444444444444444,
              "#bd3786"
             ],
             [
              0.5555555555555556,
              "#d8576b"
             ],
             [
              0.6666666666666666,
              "#ed7953"
             ],
             [
              0.7777777777777778,
              "#fb9f3a"
             ],
             [
              0.8888888888888888,
              "#fdca26"
             ],
             [
              1,
              "#f0f921"
             ]
            ],
            "type": "histogram2dcontour"
           }
          ],
          "mesh3d": [
           {
            "colorbar": {
             "outlinewidth": 0,
             "ticks": ""
            },
            "type": "mesh3d"
           }
          ],
          "parcoords": [
           {
            "line": {
             "colorbar": {
              "outlinewidth": 0,
              "ticks": ""
             }
            },
            "type": "parcoords"
           }
          ],
          "pie": [
           {
            "automargin": true,
            "type": "pie"
           }
          ],
          "scatter": [
           {
            "fillpattern": {
             "fillmode": "overlay",
             "size": 10,
             "solidity": 0.2
            },
            "type": "scatter"
           }
          ],
          "scatter3d": [
           {
            "line": {
             "colorbar": {
              "outlinewidth": 0,
              "ticks": ""
             }
            },
            "marker": {
             "colorbar": {
              "outlinewidth": 0,
              "ticks": ""
             }
            },
            "type": "scatter3d"
           }
          ],
          "scattercarpet": [
           {
            "marker": {
             "colorbar": {
              "outlinewidth": 0,
              "ticks": ""
             }
            },
            "type": "scattercarpet"
           }
          ],
          "scattergeo": [
           {
            "marker": {
             "colorbar": {
              "outlinewidth": 0,
              "ticks": ""
             }
            },
            "type": "scattergeo"
           }
          ],
          "scattergl": [
           {
            "marker": {
             "colorbar": {
              "outlinewidth": 0,
              "ticks": ""
             }
            },
            "type": "scattergl"
           }
          ],
          "scattermapbox": [
           {
            "marker": {
             "colorbar": {
              "outlinewidth": 0,
              "ticks": ""
             }
            },
            "type": "scattermapbox"
           }
          ],
          "scatterpolar": [
           {
            "marker": {
             "colorbar": {
              "outlinewidth": 0,
              "ticks": ""
             }
            },
            "type": "scatterpolar"
           }
          ],
          "scatterpolargl": [
           {
            "marker": {
             "colorbar": {
              "outlinewidth": 0,
              "ticks": ""
             }
            },
            "type": "scatterpolargl"
           }
          ],
          "scatterternary": [
           {
            "marker": {
             "colorbar": {
              "outlinewidth": 0,
              "ticks": ""
             }
            },
            "type": "scatterternary"
           }
          ],
          "surface": [
           {
            "colorbar": {
             "outlinewidth": 0,
             "ticks": ""
            },
            "colorscale": [
             [
              0,
              "#0d0887"
             ],
             [
              0.1111111111111111,
              "#46039f"
             ],
             [
              0.2222222222222222,
              "#7201a8"
             ],
             [
              0.3333333333333333,
              "#9c179e"
             ],
             [
              0.4444444444444444,
              "#bd3786"
             ],
             [
              0.5555555555555556,
              "#d8576b"
             ],
             [
              0.6666666666666666,
              "#ed7953"
             ],
             [
              0.7777777777777778,
              "#fb9f3a"
             ],
             [
              0.8888888888888888,
              "#fdca26"
             ],
             [
              1,
              "#f0f921"
             ]
            ],
            "type": "surface"
           }
          ],
          "table": [
           {
            "cells": {
             "fill": {
              "color": "#EBF0F8"
             },
             "line": {
              "color": "white"
             }
            },
            "header": {
             "fill": {
              "color": "#C8D4E3"
             },
             "line": {
              "color": "white"
             }
            },
            "type": "table"
           }
          ]
         },
         "layout": {
          "annotationdefaults": {
           "arrowcolor": "#2a3f5f",
           "arrowhead": 0,
           "arrowwidth": 1
          },
          "autotypenumbers": "strict",
          "coloraxis": {
           "colorbar": {
            "outlinewidth": 0,
            "ticks": ""
           }
          },
          "colorscale": {
           "diverging": [
            [
             0,
             "#8e0152"
            ],
            [
             0.1,
             "#c51b7d"
            ],
            [
             0.2,
             "#de77ae"
            ],
            [
             0.3,
             "#f1b6da"
            ],
            [
             0.4,
             "#fde0ef"
            ],
            [
             0.5,
             "#f7f7f7"
            ],
            [
             0.6,
             "#e6f5d0"
            ],
            [
             0.7,
             "#b8e186"
            ],
            [
             0.8,
             "#7fbc41"
            ],
            [
             0.9,
             "#4d9221"
            ],
            [
             1,
             "#276419"
            ]
           ],
           "sequential": [
            [
             0,
             "#0d0887"
            ],
            [
             0.1111111111111111,
             "#46039f"
            ],
            [
             0.2222222222222222,
             "#7201a8"
            ],
            [
             0.3333333333333333,
             "#9c179e"
            ],
            [
             0.4444444444444444,
             "#bd3786"
            ],
            [
             0.5555555555555556,
             "#d8576b"
            ],
            [
             0.6666666666666666,
             "#ed7953"
            ],
            [
             0.7777777777777778,
             "#fb9f3a"
            ],
            [
             0.8888888888888888,
             "#fdca26"
            ],
            [
             1,
             "#f0f921"
            ]
           ],
           "sequentialminus": [
            [
             0,
             "#0d0887"
            ],
            [
             0.1111111111111111,
             "#46039f"
            ],
            [
             0.2222222222222222,
             "#7201a8"
            ],
            [
             0.3333333333333333,
             "#9c179e"
            ],
            [
             0.4444444444444444,
             "#bd3786"
            ],
            [
             0.5555555555555556,
             "#d8576b"
            ],
            [
             0.6666666666666666,
             "#ed7953"
            ],
            [
             0.7777777777777778,
             "#fb9f3a"
            ],
            [
             0.8888888888888888,
             "#fdca26"
            ],
            [
             1,
             "#f0f921"
            ]
           ]
          },
          "colorway": [
           "#636efa",
           "#EF553B",
           "#00cc96",
           "#ab63fa",
           "#FFA15A",
           "#19d3f3",
           "#FF6692",
           "#B6E880",
           "#FF97FF",
           "#FECB52"
          ],
          "font": {
           "color": "#2a3f5f"
          },
          "geo": {
           "bgcolor": "white",
           "lakecolor": "white",
           "landcolor": "#E5ECF6",
           "showlakes": true,
           "showland": true,
           "subunitcolor": "white"
          },
          "hoverlabel": {
           "align": "left"
          },
          "hovermode": "closest",
          "mapbox": {
           "style": "light"
          },
          "paper_bgcolor": "white",
          "plot_bgcolor": "#E5ECF6",
          "polar": {
           "angularaxis": {
            "gridcolor": "white",
            "linecolor": "white",
            "ticks": ""
           },
           "bgcolor": "#E5ECF6",
           "radialaxis": {
            "gridcolor": "white",
            "linecolor": "white",
            "ticks": ""
           }
          },
          "scene": {
           "xaxis": {
            "backgroundcolor": "#E5ECF6",
            "gridcolor": "white",
            "gridwidth": 2,
            "linecolor": "white",
            "showbackground": true,
            "ticks": "",
            "zerolinecolor": "white"
           },
           "yaxis": {
            "backgroundcolor": "#E5ECF6",
            "gridcolor": "white",
            "gridwidth": 2,
            "linecolor": "white",
            "showbackground": true,
            "ticks": "",
            "zerolinecolor": "white"
           },
           "zaxis": {
            "backgroundcolor": "#E5ECF6",
            "gridcolor": "white",
            "gridwidth": 2,
            "linecolor": "white",
            "showbackground": true,
            "ticks": "",
            "zerolinecolor": "white"
           }
          },
          "shapedefaults": {
           "line": {
            "color": "#2a3f5f"
           }
          },
          "ternary": {
           "aaxis": {
            "gridcolor": "white",
            "linecolor": "white",
            "ticks": ""
           },
           "baxis": {
            "gridcolor": "white",
            "linecolor": "white",
            "ticks": ""
           },
           "bgcolor": "#E5ECF6",
           "caxis": {
            "gridcolor": "white",
            "linecolor": "white",
            "ticks": ""
           }
          },
          "title": {
           "x": 0.05
          },
          "xaxis": {
           "automargin": true,
           "gridcolor": "white",
           "linecolor": "white",
           "ticks": "",
           "title": {
            "standoff": 15
           },
           "zerolinecolor": "white",
           "zerolinewidth": 2
          },
          "yaxis": {
           "automargin": true,
           "gridcolor": "white",
           "linecolor": "white",
           "ticks": "",
           "title": {
            "standoff": 15
           },
           "zerolinecolor": "white",
           "zerolinewidth": 2
          }
         }
        },
        "title": {
         "text": "Porcentaje de participación por característica"
        },
        "width": 800,
        "xaxis": {
         "anchor": "y",
         "domain": [
          0,
          1
         ],
         "tickfont": {
          "size": 12
         },
         "title": {
          "text": "Clasificación de Hate"
         }
        },
        "yaxis": {
         "anchor": "x",
         "domain": [
          0,
          1
         ],
         "tickfont": {
          "size": 15
         },
         "title": {
          "text": "Porcentaje de participación"
         }
        }
       }
      }
     },
     "metadata": {},
     "output_type": "display_data"
    }
   ],
   "source": [
    "columns_names = df.columns.tolist()\n",
    "bar_data = {}\n",
    "\n",
    "for name in columns_names[1:]:\n",
    "    bar_data[name] = len(df.loc[df[name] == 1]) / len(df[name])\n",
    "\n",
    "bar_df = pd.DataFrame(list(bar_data.items()), columns=['Porcentaje de participación', 'Clasificación de Hate'])\n",
    "\n",
    "fig = px.bar(bar_df, x='Porcentaje de participación', y='Clasificación de Hate', \n",
    "             title='Porcentaje de participación por característica',\n",
    "             labels={'Porcentaje de participación': 'Porcentaje de participación', 'Clasificación de Hate': 'Clasificación de Hate'},\n",
    "             width=800, height=500)\n",
    "\n",
    "fig.update_layout(xaxis=dict(tickfont=dict(size=12)), \n",
    "                  yaxis=dict(tickfont=dict(size=15)),\n",
    "                  xaxis_title='Clasificación de Hate', \n",
    "                  yaxis_title='Porcentaje de participación',\n",
    "                  showlegend=False)\n",
    "\n",
    "fig.show()"
   ]
  },
  {
   "cell_type": "code",
   "execution_count": 35,
   "metadata": {},
   "outputs": [
    {
     "data": {
      "application/vnd.plotly.v1+json": {
       "config": {
        "plotlyServerURL": "https://plot.ly"
       },
       "data": [
        {
         "alignmentgroup": "True",
         "hovertemplate": "IsToxic=%{x}<br>Conteo=%{y}<extra></extra>",
         "legendgroup": "",
         "marker": {
          "color": "#636efa",
          "pattern": {
           "shape": ""
          }
         },
         "name": "",
         "offsetgroup": "",
         "orientation": "v",
         "showlegend": false,
         "textposition": "auto",
         "type": "bar",
         "x": [
          false,
          true
         ],
         "xaxis": "x",
         "y": [
          538,
          462
         ],
         "yaxis": "y"
        }
       ],
       "layout": {
        "barmode": "relative",
        "height": 400,
        "legend": {
         "tracegroupgap": 0
        },
        "showlegend": false,
        "template": {
         "data": {
          "bar": [
           {
            "error_x": {
             "color": "#2a3f5f"
            },
            "error_y": {
             "color": "#2a3f5f"
            },
            "marker": {
             "line": {
              "color": "#E5ECF6",
              "width": 0.5
             },
             "pattern": {
              "fillmode": "overlay",
              "size": 10,
              "solidity": 0.2
             }
            },
            "type": "bar"
           }
          ],
          "barpolar": [
           {
            "marker": {
             "line": {
              "color": "#E5ECF6",
              "width": 0.5
             },
             "pattern": {
              "fillmode": "overlay",
              "size": 10,
              "solidity": 0.2
             }
            },
            "type": "barpolar"
           }
          ],
          "carpet": [
           {
            "aaxis": {
             "endlinecolor": "#2a3f5f",
             "gridcolor": "white",
             "linecolor": "white",
             "minorgridcolor": "white",
             "startlinecolor": "#2a3f5f"
            },
            "baxis": {
             "endlinecolor": "#2a3f5f",
             "gridcolor": "white",
             "linecolor": "white",
             "minorgridcolor": "white",
             "startlinecolor": "#2a3f5f"
            },
            "type": "carpet"
           }
          ],
          "choropleth": [
           {
            "colorbar": {
             "outlinewidth": 0,
             "ticks": ""
            },
            "type": "choropleth"
           }
          ],
          "contour": [
           {
            "colorbar": {
             "outlinewidth": 0,
             "ticks": ""
            },
            "colorscale": [
             [
              0,
              "#0d0887"
             ],
             [
              0.1111111111111111,
              "#46039f"
             ],
             [
              0.2222222222222222,
              "#7201a8"
             ],
             [
              0.3333333333333333,
              "#9c179e"
             ],
             [
              0.4444444444444444,
              "#bd3786"
             ],
             [
              0.5555555555555556,
              "#d8576b"
             ],
             [
              0.6666666666666666,
              "#ed7953"
             ],
             [
              0.7777777777777778,
              "#fb9f3a"
             ],
             [
              0.8888888888888888,
              "#fdca26"
             ],
             [
              1,
              "#f0f921"
             ]
            ],
            "type": "contour"
           }
          ],
          "contourcarpet": [
           {
            "colorbar": {
             "outlinewidth": 0,
             "ticks": ""
            },
            "type": "contourcarpet"
           }
          ],
          "heatmap": [
           {
            "colorbar": {
             "outlinewidth": 0,
             "ticks": ""
            },
            "colorscale": [
             [
              0,
              "#0d0887"
             ],
             [
              0.1111111111111111,
              "#46039f"
             ],
             [
              0.2222222222222222,
              "#7201a8"
             ],
             [
              0.3333333333333333,
              "#9c179e"
             ],
             [
              0.4444444444444444,
              "#bd3786"
             ],
             [
              0.5555555555555556,
              "#d8576b"
             ],
             [
              0.6666666666666666,
              "#ed7953"
             ],
             [
              0.7777777777777778,
              "#fb9f3a"
             ],
             [
              0.8888888888888888,
              "#fdca26"
             ],
             [
              1,
              "#f0f921"
             ]
            ],
            "type": "heatmap"
           }
          ],
          "heatmapgl": [
           {
            "colorbar": {
             "outlinewidth": 0,
             "ticks": ""
            },
            "colorscale": [
             [
              0,
              "#0d0887"
             ],
             [
              0.1111111111111111,
              "#46039f"
             ],
             [
              0.2222222222222222,
              "#7201a8"
             ],
             [
              0.3333333333333333,
              "#9c179e"
             ],
             [
              0.4444444444444444,
              "#bd3786"
             ],
             [
              0.5555555555555556,
              "#d8576b"
             ],
             [
              0.6666666666666666,
              "#ed7953"
             ],
             [
              0.7777777777777778,
              "#fb9f3a"
             ],
             [
              0.8888888888888888,
              "#fdca26"
             ],
             [
              1,
              "#f0f921"
             ]
            ],
            "type": "heatmapgl"
           }
          ],
          "histogram": [
           {
            "marker": {
             "pattern": {
              "fillmode": "overlay",
              "size": 10,
              "solidity": 0.2
             }
            },
            "type": "histogram"
           }
          ],
          "histogram2d": [
           {
            "colorbar": {
             "outlinewidth": 0,
             "ticks": ""
            },
            "colorscale": [
             [
              0,
              "#0d0887"
             ],
             [
              0.1111111111111111,
              "#46039f"
             ],
             [
              0.2222222222222222,
              "#7201a8"
             ],
             [
              0.3333333333333333,
              "#9c179e"
             ],
             [
              0.4444444444444444,
              "#bd3786"
             ],
             [
              0.5555555555555556,
              "#d8576b"
             ],
             [
              0.6666666666666666,
              "#ed7953"
             ],
             [
              0.7777777777777778,
              "#fb9f3a"
             ],
             [
              0.8888888888888888,
              "#fdca26"
             ],
             [
              1,
              "#f0f921"
             ]
            ],
            "type": "histogram2d"
           }
          ],
          "histogram2dcontour": [
           {
            "colorbar": {
             "outlinewidth": 0,
             "ticks": ""
            },
            "colorscale": [
             [
              0,
              "#0d0887"
             ],
             [
              0.1111111111111111,
              "#46039f"
             ],
             [
              0.2222222222222222,
              "#7201a8"
             ],
             [
              0.3333333333333333,
              "#9c179e"
             ],
             [
              0.4444444444444444,
              "#bd3786"
             ],
             [
              0.5555555555555556,
              "#d8576b"
             ],
             [
              0.6666666666666666,
              "#ed7953"
             ],
             [
              0.7777777777777778,
              "#fb9f3a"
             ],
             [
              0.8888888888888888,
              "#fdca26"
             ],
             [
              1,
              "#f0f921"
             ]
            ],
            "type": "histogram2dcontour"
           }
          ],
          "mesh3d": [
           {
            "colorbar": {
             "outlinewidth": 0,
             "ticks": ""
            },
            "type": "mesh3d"
           }
          ],
          "parcoords": [
           {
            "line": {
             "colorbar": {
              "outlinewidth": 0,
              "ticks": ""
             }
            },
            "type": "parcoords"
           }
          ],
          "pie": [
           {
            "automargin": true,
            "type": "pie"
           }
          ],
          "scatter": [
           {
            "fillpattern": {
             "fillmode": "overlay",
             "size": 10,
             "solidity": 0.2
            },
            "type": "scatter"
           }
          ],
          "scatter3d": [
           {
            "line": {
             "colorbar": {
              "outlinewidth": 0,
              "ticks": ""
             }
            },
            "marker": {
             "colorbar": {
              "outlinewidth": 0,
              "ticks": ""
             }
            },
            "type": "scatter3d"
           }
          ],
          "scattercarpet": [
           {
            "marker": {
             "colorbar": {
              "outlinewidth": 0,
              "ticks": ""
             }
            },
            "type": "scattercarpet"
           }
          ],
          "scattergeo": [
           {
            "marker": {
             "colorbar": {
              "outlinewidth": 0,
              "ticks": ""
             }
            },
            "type": "scattergeo"
           }
          ],
          "scattergl": [
           {
            "marker": {
             "colorbar": {
              "outlinewidth": 0,
              "ticks": ""
             }
            },
            "type": "scattergl"
           }
          ],
          "scattermapbox": [
           {
            "marker": {
             "colorbar": {
              "outlinewidth": 0,
              "ticks": ""
             }
            },
            "type": "scattermapbox"
           }
          ],
          "scatterpolar": [
           {
            "marker": {
             "colorbar": {
              "outlinewidth": 0,
              "ticks": ""
             }
            },
            "type": "scatterpolar"
           }
          ],
          "scatterpolargl": [
           {
            "marker": {
             "colorbar": {
              "outlinewidth": 0,
              "ticks": ""
             }
            },
            "type": "scatterpolargl"
           }
          ],
          "scatterternary": [
           {
            "marker": {
             "colorbar": {
              "outlinewidth": 0,
              "ticks": ""
             }
            },
            "type": "scatterternary"
           }
          ],
          "surface": [
           {
            "colorbar": {
             "outlinewidth": 0,
             "ticks": ""
            },
            "colorscale": [
             [
              0,
              "#0d0887"
             ],
             [
              0.1111111111111111,
              "#46039f"
             ],
             [
              0.2222222222222222,
              "#7201a8"
             ],
             [
              0.3333333333333333,
              "#9c179e"
             ],
             [
              0.4444444444444444,
              "#bd3786"
             ],
             [
              0.5555555555555556,
              "#d8576b"
             ],
             [
              0.6666666666666666,
              "#ed7953"
             ],
             [
              0.7777777777777778,
              "#fb9f3a"
             ],
             [
              0.8888888888888888,
              "#fdca26"
             ],
             [
              1,
              "#f0f921"
             ]
            ],
            "type": "surface"
           }
          ],
          "table": [
           {
            "cells": {
             "fill": {
              "color": "#EBF0F8"
             },
             "line": {
              "color": "white"
             }
            },
            "header": {
             "fill": {
              "color": "#C8D4E3"
             },
             "line": {
              "color": "white"
             }
            },
            "type": "table"
           }
          ]
         },
         "layout": {
          "annotationdefaults": {
           "arrowcolor": "#2a3f5f",
           "arrowhead": 0,
           "arrowwidth": 1
          },
          "autotypenumbers": "strict",
          "coloraxis": {
           "colorbar": {
            "outlinewidth": 0,
            "ticks": ""
           }
          },
          "colorscale": {
           "diverging": [
            [
             0,
             "#8e0152"
            ],
            [
             0.1,
             "#c51b7d"
            ],
            [
             0.2,
             "#de77ae"
            ],
            [
             0.3,
             "#f1b6da"
            ],
            [
             0.4,
             "#fde0ef"
            ],
            [
             0.5,
             "#f7f7f7"
            ],
            [
             0.6,
             "#e6f5d0"
            ],
            [
             0.7,
             "#b8e186"
            ],
            [
             0.8,
             "#7fbc41"
            ],
            [
             0.9,
             "#4d9221"
            ],
            [
             1,
             "#276419"
            ]
           ],
           "sequential": [
            [
             0,
             "#0d0887"
            ],
            [
             0.1111111111111111,
             "#46039f"
            ],
            [
             0.2222222222222222,
             "#7201a8"
            ],
            [
             0.3333333333333333,
             "#9c179e"
            ],
            [
             0.4444444444444444,
             "#bd3786"
            ],
            [
             0.5555555555555556,
             "#d8576b"
            ],
            [
             0.6666666666666666,
             "#ed7953"
            ],
            [
             0.7777777777777778,
             "#fb9f3a"
            ],
            [
             0.8888888888888888,
             "#fdca26"
            ],
            [
             1,
             "#f0f921"
            ]
           ],
           "sequentialminus": [
            [
             0,
             "#0d0887"
            ],
            [
             0.1111111111111111,
             "#46039f"
            ],
            [
             0.2222222222222222,
             "#7201a8"
            ],
            [
             0.3333333333333333,
             "#9c179e"
            ],
            [
             0.4444444444444444,
             "#bd3786"
            ],
            [
             0.5555555555555556,
             "#d8576b"
            ],
            [
             0.6666666666666666,
             "#ed7953"
            ],
            [
             0.7777777777777778,
             "#fb9f3a"
            ],
            [
             0.8888888888888888,
             "#fdca26"
            ],
            [
             1,
             "#f0f921"
            ]
           ]
          },
          "colorway": [
           "#636efa",
           "#EF553B",
           "#00cc96",
           "#ab63fa",
           "#FFA15A",
           "#19d3f3",
           "#FF6692",
           "#B6E880",
           "#FF97FF",
           "#FECB52"
          ],
          "font": {
           "color": "#2a3f5f"
          },
          "geo": {
           "bgcolor": "white",
           "lakecolor": "white",
           "landcolor": "#E5ECF6",
           "showlakes": true,
           "showland": true,
           "subunitcolor": "white"
          },
          "hoverlabel": {
           "align": "left"
          },
          "hovermode": "closest",
          "mapbox": {
           "style": "light"
          },
          "paper_bgcolor": "white",
          "plot_bgcolor": "#E5ECF6",
          "polar": {
           "angularaxis": {
            "gridcolor": "white",
            "linecolor": "white",
            "ticks": ""
           },
           "bgcolor": "#E5ECF6",
           "radialaxis": {
            "gridcolor": "white",
            "linecolor": "white",
            "ticks": ""
           }
          },
          "scene": {
           "xaxis": {
            "backgroundcolor": "#E5ECF6",
            "gridcolor": "white",
            "gridwidth": 2,
            "linecolor": "white",
            "showbackground": true,
            "ticks": "",
            "zerolinecolor": "white"
           },
           "yaxis": {
            "backgroundcolor": "#E5ECF6",
            "gridcolor": "white",
            "gridwidth": 2,
            "linecolor": "white",
            "showbackground": true,
            "ticks": "",
            "zerolinecolor": "white"
           },
           "zaxis": {
            "backgroundcolor": "#E5ECF6",
            "gridcolor": "white",
            "gridwidth": 2,
            "linecolor": "white",
            "showbackground": true,
            "ticks": "",
            "zerolinecolor": "white"
           }
          },
          "shapedefaults": {
           "line": {
            "color": "#2a3f5f"
           }
          },
          "ternary": {
           "aaxis": {
            "gridcolor": "white",
            "linecolor": "white",
            "ticks": ""
           },
           "baxis": {
            "gridcolor": "white",
            "linecolor": "white",
            "ticks": ""
           },
           "bgcolor": "#E5ECF6",
           "caxis": {
            "gridcolor": "white",
            "linecolor": "white",
            "ticks": ""
           }
          },
          "title": {
           "x": 0.05
          },
          "xaxis": {
           "automargin": true,
           "gridcolor": "white",
           "linecolor": "white",
           "ticks": "",
           "title": {
            "standoff": 15
           },
           "zerolinecolor": "white",
           "zerolinewidth": 2
          },
          "yaxis": {
           "automargin": true,
           "gridcolor": "white",
           "linecolor": "white",
           "ticks": "",
           "title": {
            "standoff": 15
           },
           "zerolinecolor": "white",
           "zerolinewidth": 2
          }
         }
        },
        "title": {
         "text": "Participación de \"IsToxic\""
        },
        "width": 600,
        "xaxis": {
         "anchor": "y",
         "domain": [
          0,
          1
         ],
         "tickfont": {
          "size": 12
         },
         "title": {
          "text": "IsToxic"
         }
        },
        "yaxis": {
         "anchor": "x",
         "domain": [
          0,
          1
         ],
         "tickfont": {
          "size": 15
         },
         "title": {
          "text": "Conteo"
         }
        }
       }
      }
     },
     "metadata": {},
     "output_type": "display_data"
    }
   ],
   "source": [
    "toxic_counts = df['IsToxic'].value_counts()\n",
    "\n",
    "data = {'IsToxic': toxic_counts.index, 'Conteo': toxic_counts.values}\n",
    "toxic_counts_df = pd.DataFrame(data)\n",
    "\n",
    "fig = px.bar(toxic_counts_df, x='IsToxic', y='Conteo',\n",
    "             title='Participación de \"IsToxic\"',\n",
    "             labels={'IsToxic': 'IsToxic', 'Conteo': 'Conteo'},\n",
    "             width=600, height=400)\n",
    "\n",
    "fig.update_layout(xaxis=dict(tickfont=dict(size=12)),\n",
    "                  yaxis=dict(tickfont=dict(size=15)),\n",
    "                  xaxis_title='IsToxic', yaxis_title='Conteo',\n",
    "                  showlegend=False)\n",
    "\n",
    "fig.show()\n"
   ]
  },
  {
   "cell_type": "code",
   "execution_count": 36,
   "metadata": {},
   "outputs": [
    {
     "data": {
      "application/vnd.plotly.v1+json": {
       "config": {
        "plotlyServerURL": "https://plot.ly"
       },
       "data": [
        {
         "alignmentgroup": "True",
         "hovertemplate": "Columna=%{x}<br>Conteo=%{y}<extra></extra>",
         "legendgroup": "",
         "marker": {
          "color": "#636efa",
          "pattern": {
           "shape": ""
          }
         },
         "name": "",
         "offsetgroup": "",
         "orientation": "v",
         "showlegend": false,
         "textposition": "auto",
         "type": "bar",
         "x": [
          "CommentId",
          "VideoId",
          "Text",
          "IsAbusive",
          "IsThreat",
          "IsProvocative",
          "IsObscene",
          "IsHatespeech",
          "IsRacist",
          "IsNationalist",
          "IsSexist",
          "IsHomophobic",
          "IsReligiousHate",
          "IsRadicalism"
         ],
         "xaxis": "x",
         "y": [
          "Ugg2s5AzSPioEXgCoAECUgg3dWTOxryFfHgCoAECUgg9a6FtoXdxmXgCoAECUgga9KzkNDGvlXgCoAECUggBlIXoph7p-3gCoAECUggGm8a1fu8brngCoAECUggguNlx1Uu89HgCoAECUggLbJp619j8BHgCoAECUggMY2Oggks5LngCoAECUggNrFQh7L5JuXgCoAECUggPT9Z38D5yt3gCoAECUggRCZiMOIRLg3gCoAECUggSYiWItbnmgngCoAECUggte-vb2ZLTQ3gCoAECUggtH27r-TTcZHgCoAECUgguFITdgu455HgCoAECUggwBWh5il3cfXgCoAECUggWg1MBoBR7x3gCoAECUggxCL2J1VOhLHgCoAECUggy6MHKQWnfo3gCoAECUggYHsvinXkgM3gCoAECUgh0tf8ZI_s6z3gCoAECUgh1YgMkYS1iingCoAECUgh4DQdAIl3qUXgCoAECUgh6foWeFvORtXgCoAECUghANuDr-RLrqXgCoAECUghBkatZ4WY1uXgCoAECUghBYihvgoUqcHgCoAECUghCqsUPSUHkF3gCoAECUghEcCSj9amFtXgCoAECUgheEXayk90xIngCoAECUghIBNvkzZh-xHgCoAECUghICkPqoL9jJ3gCoAECUghlkAzZr3_fI3gCoAECUghm_dpizWFohHgCoAECUghmRzgOUqMozXgCoAECUghnjn7WwwIgbHgCoAECUghnzyBgv-jQ9ngCoAECUgholOxRzEdkW3gCoAECUghP0v4pSXeRY3gCoAECUghPM1HvcyCWxHgCoAECUghR9QQYvJx-RHgCoAECUghRKLaioSvLOHgCoAECUghRygE9vO9A83gCoAECUghs3w350i3DvXgCoAECUghTCrl4YYJ-qHgCoAECUghVbr3QCu8ckngCoAECUghVVDZrCYMG_3gCoAECUghvxEUB679Ug3gCoAECUghWdXOwEJc0eHgCoAECUgi0Cfb82xGsongCoAECUgi1CjkwLYHcvHgCoAECUgi2H0FCe-_y4ngCoAECUgiBZnwqmnNYUXgCoAECUgi-hbdDmIuKVHgCoAECUgi-HtibDw0eongCoAECUgiIASdSnR-gi3gCoAECUgiId66Fu7KrDXgCoAECUgiiIyWpe1-9H3gCoAECUgiLaetJkobicXgCoAECUgilJs0s4YO3engCoAECUgilNUPOY8iZqHgCoAECUgiLP4HQY3jn8ngCoAECUgilQ0CFxc2R2ngCoAECUgiLu77_0Psl-ngCoAECUgim0ATq1CahpXgCoAECUgimdJUjeexMSXgCoAECUgiphX72LCH4DHgCoAECUgiSRMPdr7U1M3gCoAECUgiStOF4aTGzkHgCoAECUgiW57FWwW2b7ngCoAECUgiXAtoQ6AKQh3gCoAECUgiYpjIfcTkpz3gCoAECUgj6hV7kfq8NZ3gCoAECUgj7h6FZ9x14_3gCoAECUgj9JrBQSvQ1mHgCoAECUgjAbTq8jPYe-3gCoAECUgjaIDpGIJRjungCoAECUgj-d4OvbPSsp3gCoAECUgjDj4EdLYK2DHgCoAECUgjDkqFGun9P7XgCoAECUgjek7V9EALpd3gCoAECUgjfhaN-0hZ-l3gCoAECUgjI7Oy_v6z_k3gCoAECUgjKH2wDH7jQ3ngCoAECUgjM74PGGbwFY3gCoAECUgjmzNGyJF1uzHgCoAECUgjNiAdoDPMUW3gCoAECUgjodqpHT_cLnHgCoAECUgj-OPIvnk0plHgCoAECUgjP7lbdAZIARXgCoAECUgjQHirhwcgJDXgCoAECUgjqOULoobsFBXgCoAECUgjrGaGIqNBEk3gCoAECUgjsJRASPa3OWHgCoAECUgjUmLh6NzcUIHgCoAECUgjuofaJSKK4uXgCoAECUgjuogKZIaJQBHgCoAECUgjuxrM3xLeDeHgCoAECUgjV8NXrlSv2VngCoAECUgjVBYXVv7PQf3gCoAECUgjVMgqlNAhoK3gCoAECUgjvtB3VfyMZK3gCoAECUgjvVnP2cOilnngCoAECUgjYlZFb9Q4INXgCoAECUgjzR_tdZMjDS3gCoAECUgxLEI53zv4W0gHViIZ4AaABAgUgy6oqzu8FkIxZzVJyJ4AaABAgUgzC_c8tgugNMnlG48N4AaABAgUgzqKHuL0a2Rw3aQw3J4AaABAgUgzrlizM92NKM2eGpvl4AaABAgUggOHjEF4Yr5p3gCoAECUggrBEWmmOsJq3gCoAECUghaNFtOPqPjvXgCoAECUghGHkOxrTnznngCoAECUghSrKWXiIw663gCoAECUgi4kKODyEmlvXgCoAECUgignRhfXmAlhXgCoAECUgjeXpjsshe9GHgCoAECUgjhYhKJO47d-XgCoAECUgjWd_JsIlOo9XgCoAECUggLdovvjLOAV3gCoAECUgjTdFn9GIs9dngCoAECUgwz4Qt5dHpq1CN3e6x4AaABAgUggk77ZgVKBK7ngCoAECUghBlbV9tbPVqXgCoAECUghFKFz1sE6uOXgCoAECUghuRUmx8vyL8HgCoAECUgi_8PajECy1t3gCoAECUgi4NlXtbb117ngCoAECUgi8q6P9SfsxSHgCoAECUgibkIHcKYp4UHgCoAECUgiE08q1WAgicHgCoAECUgj0Rz556abCWXgCoAECUgjJk7DGYGixbXgCoAECUgjsa_VIAXYDB3gCoAECUgjvMt-VLLvyA3gCoAECUgw0Vori1c-fkupDw1d4AaABAgUgwLke0YX9B8KLIuM3x4AaABAgUgwo8nzTZpq35EEUSfJ4AaABAgUgwzfTejqSMgq_kKC9t4AaABAgUgwzOgIFyi7D7CbU4Nt4AaABAgUgy3x2UAt4XUcipNTeZ4AaABAgUgy8ASEo1XznyO4B0tR4AaABAgUgyg_kgb1QWkAWdEKsd4AaABAgUgy-S1A2qBkifEb2E-94AaABAgUgzpYKnjIcmB7Ch15YR4AaABAgUgg_vc9Qh3OaNHgCoAECUgg3C07ZWc-6fngCoAECUgg5cceWlk2wKXgCoAECUgg7tmaAPXIEingCoAECUgg8-b12nbu2-XgCoAECUgg9WO2fOME-kXgCoAECUggbUWQabAV4KHgCoAECUggd4V1_xBv7c3gCoAECUggdxGw2fbcT0XgCoAECUggFEwIh2dDAhXgCoAECUgghcjortIFxa3gCoAECUggi2Qoy2TduPHgCoAECUggIbSwrByxGXXgCoAECUggKO3TBRdgPF3gCoAECUggktxNeAtmCR3gCoAECUggl6OZkHnqeeXgCoAECUggmnZVP_3mtZngCoAECUggN23XYVd645HgCoAECUgg-OnOaqwandHgCoAECUggOThSsQKcee3gCoAECUggRpy1F0-C0j3gCoAECUggrYrgxQrVjj3gCoAECUggtDZYM0C-TVngCoAECUggyfw4IbkIqE3gCoAECUggZG-0eAz_w4ngCoAECUgh0cRtTZI7i4ngCoAECUgh3WIcv7jaQDXgCoAECUgh4W1Xv2z1RHHgCoAECUgh6Rrla1CUaKHgCoAECUgh8Gxx774pX-ngCoAECUghBotl7zRd2y3gCoAECUghCYfz3QB2s-ngCoAECUghFx20XhyTsHngCoAECUghivPrM-uOduXgCoAECUghjgdd4UTKJxXgCoAECUghlR9W-Id-xQ3gCoAECUghm4XDePtNnD3gCoAECUghnBX5IHvqDxHgCoAECUghNyPsvZ8Jm-HgCoAECUghpgVkCd2y1k3gCoAECUghqB5l4L4hbbngCoAECUghR_lflp3-nJngCoAECUghr2JCuQY5mhXgCoAECUghRGHXTHqudOXgCoAECUghV86XDpeXqN3gCoAECUghx0GLGJMIon3gCoAECUghx64L4ti9Xd3gCoAECUghxzBEM7k_5oHgCoAECUgi_6fj40d8GBngCoAECUgi3jDCc-p-YU3gCoAECUgiAxtQoe6zezHgCoAECUgidFDMnBCsYXngCoAECUgiDwqea9kPlTXgCoAECUgihE6xeiPTihHgCoAECUgihxPDXGDbsyXgCoAECUgiIiGH-eTP3AXgCoAECUgij7I2Fqtdb8HgCoAECUgiLoDtsZBccZXgCoAECUgiQjn-ai72EUXgCoAECUgiqp9Y1iGeKg3gCoAECUgj0S6GYM3yCc3gCoAECUgj2qHC0gktMKXgCoAECUgj40v4M5IYEGHgCoAECUgj5pbZpyIAJUHgCoAECUgj6nZkcYnmMc3gCoAECUgj96ojKH5Ui7XgCoAECUgjA7WCImkpudXgCoAECUgjaLYTtVFDllngCoAECUgjapiiA0aT2eHgCoAECUgjBydVrwgC-AHgCoAECUgjCNouAV9C-w3gCoAECUgjcP20e0dVo9XgCoAECUgjDzjqZ_dYyA3gCoAECUgjE9_GvZ2H4wngCoAECUgjeQVBkW-0liXgCoAECUgjGgOEMa0zTS3gCoAECUgjJye9wwqEitngCoAECUgjQXRKNdpUPu3gCoAECUgjR2vUGwXV6ongCoAECUgjSbD2eqrAQKngCoAECUgjusmCgePNI53gCoAECUgjvXESe-olTwXgCoAECUgjx67U-tfj-TXgCoAECUgjXMssPhZkGtngCoAECUgw1_MGpTQQb8j6dhN14AaABAgUgwD8sHTmb1Qc3ZCTTZ4AaABAgUgxPdrXfTjuUJOZC8L94AaABAgUgz6NJwviJUnV-eT2rp4AaABAgUggag40IEfpGlXgCoAECUggGaHoBXiLwX3gCoAECUggmJR4_UwYwvngCoAECUggpRw9EaIbrr3gCoAECUggsPfVvKN6mIXgCoAECUgh2-272oJjWFXgCoAECUghd2Wge6XyijngCoAECUgi5cUBWjgz7yHgCoAECUgiF5ETsIyVBzngCoAECUgiIDbm79QJxW3gCoAECUgiJNNlr-YtRP3gCoAECUgiQwbFNDy7UDHgCoAECUgiXGE6Nphx0HXgCoAECUgiY2XNo_8ncNngCoAECUgjZfQ0pFSjRTngCoAECUgwmCnUQnl3h1ueHgYJ4AaABAgUgxCr9meQNvZCGIKSk54AaABAgUgzVltWFV2cUp6ovHg94AaABAgUggF_MnS30YLE3gCoAECUggGXzt_2290engCoAECUggj8J2x-OYpCngCoAECUggNBH1r_XI433gCoAECUggxaTAMg799zngCoAECUggXNfJ2-tu843gCoAECUghd4n_Ov0nWmngCoAECUghfCPYziwel63gCoAECUghowP95HYyzrXgCoAECUghRGM0aDMSjRXgCoAECUghrQePFFLNuKHgCoAECUghuUfcTyW0VWXgCoAECUghYIMGnsNsUU3gCoAECUgi4LI1VSkQrvXgCoAECUgiDk3TGZC1ID3gCoAECUgiEnteK6LhZvHgCoAECUgitW5q7dCpHhngCoAECUgiXm5jxvkdIxHgCoAECUgi-Y6XWZdsDxHgCoAECUgj7tZH39yyfSHgCoAECUgjAHCc0hQVZ33gCoAECUgjiDAos1TdUc3gCoAECUgjKHzF3IwSEzXgCoAECUgjKtaWR8tJkpHgCoAECUgjwfZG_znrrvXgCoAECUgjY_1PbjqkGAXgCoAECUgw1DPfPxRKkqstwYSF4AaABAgUgw1WBm0HR6ROuXddkB4AaABAgUgw8jq5cgS-RXTqVycp4AaABAgUgw9izboxYcGQRhAvnJ4AaABAgUgwBQ2I1InAYXkCfjjl4AaABAgUgwC2npAVTV2ntQnbFN4AaABAgUgwcTdelaycKIp3db5B4AaABAgUgwcv4PS9DgsQzom8Ct4AaABAgUgwD99RQc_KskXUni-N4AaABAgUgwDlz2kjxmATeJPerZ4AaABAgUgwGQPbw_8P6dzHCGRh4AaABAgUgwHs2oma581XZi185h4AaABAgUgwIoeJwHSLIKr0CF5F4AaABAgUgwIPMNl703BvRgN2xd4AaABAgUgwla1Q4HunztX1h0xh4AaABAgUgwnX3GUap-kq8dvXJV4AaABAgUgwoTWt1cKkzHhhyNmd4AaABAgUgwtXu7YMEIHialybkx4AaABAgUgwU6iBhWreyw_Dlwet4AaABAgUgwvRtbtvm1UbBGc04t4AaABAgUgwvutE1n6s6vUvCcud4AaABAgUgw-xcxTGPIeaHRdU1x4AaABAgUgwYA9r7GnhqHp9S-mB4AaABAgUgwZHsXqN6cNgyRhxlV4AaABAgUgwzPApmvBPh1_Rk84B4AaABAgUgx_b0BA1QECOSVPhM54AaABAgUgx0VHABFGxwIfF_zOV4AaABAgUgx4fyjV8vfvS_V7eEN4AaABAgUgx5MxIFbn3pC6XPf054AaABAgUgxaUXctuuNgCxySkv14AaABAgUgxbYx5xwD3ym0keB7x4AaABAgUgxCHPKIg1x0Y1y4idt4AaABAgUgxen2QgJYhNiRrMegR4AaABAgUgxFyLqR0jYPwbN5QbR4AaABAgUgxg0WuW6HaACEmc1Up4AaABAgUgxjYl0SwKhN8nKkkaF4AaABAgUgxmGhvN6FJROvP0AC14AaABAgUgxn7SN75hu9Zy7b3b14AaABAgUgxos9bXUEzH70sVxC14AaABAgUgxp1q-tChDL1j_n_g94AaABAgUgxswrh35tG9Qi1NKZd4AaABAgUgxT6FXbbEukLXW5mXR4AaABAgUgxu5q_q_JeqBMT2pqZ4AaABAgUgxVdIh7xa5TFPpCN5J4AaABAgUgxXtUmfp0rdwXB8qld4AaABAgUgy_DN9MzdmZKFMbeWR4AaABAgUgy0IpiM6lrJHHQilvh4AaABAgUgy2Wc3ZRDsMcDYmoKF4AaABAgUgy35wGBq4aJlQAdGFt4AaABAgUgy7BbmfzEwfwqThTmV4AaABAgUgy7qa1kqoitoxDef5l4AaABAgUgy8G7eYaZQHeGhDnZZ4AaABAgUgyDPebKZNOABtNWGa54AaABAgUgyEGPZKTp4il8B8hG94AaABAgUgyFQZ1GXkkmCrx9ER54AaABAgUgyGS6uoENDrrZZYqxR4AaABAgUgyjhPsMlWKlFNmG-h94AaABAgUgyJiThWVO-eQ03ikjt4AaABAgUgykEnpNZrYgnb7a9f14AaABAgUgyntYC4VsUQWM96NQ54AaABAgUgyoh9Elhz856YJ2ZDl4AaABAgUgyZEc_uJD4vYnPrVrF4AaABAgUgyzLLxqkDmZuUjzEzZ4AaABAgUgyzusIwl5ZLuxzwqcd4AaABAgUgz2VPdKFw4EYB9K3eJ4AaABAgUgz6EEhwYEn3AbhrPJh4AaABAgUgz6twWBrqe70jW9z6J4AaABAgUgz7CcHZjpOHvajlZrJ4AaABAgUgz7lS0OMX9VAL_UXp94AaABAgUgz9ivFXd1rsMNs395p4AaABAgUgzAej8Aoh233cA7cPh4AaABAgUgzFhLRYl2-Jw_RjykN4AaABAgUgzFZGnqcjZcW7wejI54AaABAgUgzjY5FCQAraiLWUyid4AaABAgUgzlVLIiuPxm40LF05d4AaABAgUgztQfNqz2zUnZYpUZJ4AaABAgUgzW7M99erZM-ouQ0yV4AaABAgUgzWOM1fvgg5rw_W1XB4AaABAgUgzwrS37qzfArRXP80p4AaABAgUgzxit7UlcE33xXThIt4AaABAgUgzXPP-nnSNB9qnH7zh4AaABAgUgzYz6sKfL9eDiVZ1DR4AaABAgUghAbXMwBZQ043gCoAECUgj4CNrg0w8ufngCoAECUgj-DZyJ6rJBOXgCoAECUgw5-xcVE7UQ-Su23j94AaABAgUgyq7vvHf_dWdP8HIAB4AaABAgUggfMgHywO3pmHgCoAECUggJvtBuY7918HgCoAECUggLqnLTe5a1sngCoAECUggPDp4D0K-7xngCoAECUggrbvWF1tW0pHgCoAECUgh3UPrEeTTHtHgCoAECUghcaI1aYuZeLngCoAECUghcJ70N2jvmUXgCoAECUghjSQWibrNXbHgCoAECUghkOHwrD0EFVXgCoAECUghS3N0TuPkVzXgCoAECUghZ4FemHXJvdXgCoAECUgiFcOu0kpU9Q3gCoAECUgiTvwSX5Z1bzXgCoAECUgixdxuPaLDtAXgCoAECUgj4EBpIx3VZw3gCoAECUgj6D2gOXUlNNHgCoAECUgjAkZxH7p-SjHgCoAECUgjDETjpfRQL6HgCoAECUgjIO0MtrVIAtXgCoAECUgjJKgiUy9A1F3gCoAECUgjNs-GTt9JfJXgCoAECUgg_n-nSlkkSSXgCoAECUgg2ItA50j3R8HgCoAECUggCzcniRCJgSHgCoAECUggIwAmWsxlVnHgCoAECUgib2tzAuq79fngCoAECUgiis9d5ISpuzXgCoAECUgiqj5jU7LxKZXgCoAECUgjg3V4G0V1Lw3gCoAECUgji5Puu6CdNSXgCoAECUgjm1PBJxlAajXgCoAECUgjOJxjEAvGohHgCoAECUgwZlQcZUvX_tdLv5tN4AaABAgUgx3he2JevffnBpSued4AaABAgUgxIVUSZlDsjmgCaUmt4AaABAgUgzFM74WZ6HhHJsCzMh4AaABAgUgzNIAq2vYdrNzAZaH94AaABAgUgzUf9F0khnqHuHTte54AaABAgUgh9zSFwedOxLngCoAECUgi_omORbF-Z3ngCoAECUgj3eMyAlM8y93gCoAECUgjIdl7xRx3PongCoAECUgxDqO6xOisRs_SBeP54AaABAgUggCqc7cB_wHgXgCoAECUggET3p1k5qYrHgCoAECUgggne7gvPn-3XgCoAECUgghcbyFz_IQS3gCoAECUggIG_k0Vua7F3gCoAECUggm1WPouk0MIngCoAECUggmqtyPp-xTR3gCoAECUggOb2fi4tyFtHgCoAECUggP1BY4vFHGkngCoAECUggP3N8B465De3gCoAECUggugXtbHOq9K3gCoAECUggWR9u2JPciZngCoAECUggYk20DDlQ_j3gCoAECUgh0caYD_br7pngCoAECUgh8t5rTT_Og93gCoAECUgh9MDuFB3NFo3gCoAECUghAc1_M66sZz3gCoAECUghGhGHVxbAhI3gCoAECUghhDn1xpBorongCoAECUghjJWezfp-IzngCoAECUghLaQCwPLXVRngCoAECUghqtY2edp17RngCoAECUghSNjvLuGZuIngCoAECUghtw3XZuDFVBngCoAECUgi_AH9_ogoQwXgCoAECUgi1QQc_sSCiNXgCoAECUgi1T97xocHCCngCoAECUgi9U-8vbnXhQHgCoAECUgiboQqhqNOupngCoAECUgiDCU8p--JNoHgCoAECUgiE9T6NGGsGPHgCoAECUgigjv4HQyxatHgCoAECUgim7HUsL6xP13gCoAECUgin-dBfgSlydXgCoAECUgiouZAP4Uof2XgCoAECUgiPsH0ehnKBqHgCoAECUgiq80OCkfSt93gCoAECUgi-QnlAnwXgZXgCoAECUgiR5LCZ_-DKW3gCoAECUgiSldS-T_z0nHgCoAECUgiWauybsgSl7XgCoAECUgiyMebIj-yfdHgCoAECUgjhnVoNm4rcbngCoAECUgjIY-px1iXxtngCoAECUgjNoLg1Rz27nHgCoAECUgjRwOEG-KGWMHgCoAECUgjTW65H46WOzngCoAECUgw_Tl3Y0RyGKDAF7wp4AaABAgUgxSdrxMVF1TuxIq7VB4AaABAgUgyCg0SltxnjiXzfFdV4AaABAgUghGyVemEvDEqXgCoAECUgifh2DMhBbDkHgCoAEC",
          "04kJtp6pVXI04kJtp6pVXI04kJtp6pVXI04kJtp6pVXI04kJtp6pVXI04kJtp6pVXI04kJtp6pVXI04kJtp6pVXI04kJtp6pVXI04kJtp6pVXI04kJtp6pVXI04kJtp6pVXI04kJtp6pVXI04kJtp6pVXI04kJtp6pVXI04kJtp6pVXI04kJtp6pVXI04kJtp6pVXI04kJtp6pVXI04kJtp6pVXI04kJtp6pVXI04kJtp6pVXI04kJtp6pVXI04kJtp6pVXI04kJtp6pVXI04kJtp6pVXI04kJtp6pVXI04kJtp6pVXI04kJtp6pVXI04kJtp6pVXI04kJtp6pVXI04kJtp6pVXI04kJtp6pVXI04kJtp6pVXI04kJtp6pVXI04kJtp6pVXI04kJtp6pVXI04kJtp6pVXI04kJtp6pVXI04kJtp6pVXI04kJtp6pVXI04kJtp6pVXI04kJtp6pVXI04kJtp6pVXI04kJtp6pVXI04kJtp6pVXI04kJtp6pVXI04kJtp6pVXI04kJtp6pVXI04kJtp6pVXI04kJtp6pVXI04kJtp6pVXI04kJtp6pVXI04kJtp6pVXI04kJtp6pVXI04kJtp6pVXI04kJtp6pVXI04kJtp6pVXI04kJtp6pVXI04kJtp6pVXI04kJtp6pVXI04kJtp6pVXI04kJtp6pVXI04kJtp6pVXI04kJtp6pVXI04kJtp6pVXI04kJtp6pVXI04kJtp6pVXI04kJtp6pVXI04kJtp6pVXI04kJtp6pVXI04kJtp6pVXI04kJtp6pVXI04kJtp6pVXI04kJtp6pVXI04kJtp6pVXI04kJtp6pVXI04kJtp6pVXI04kJtp6pVXI04kJtp6pVXI04kJtp6pVXI04kJtp6pVXI04kJtp6pVXI04kJtp6pVXI04kJtp6pVXI04kJtp6pVXI04kJtp6pVXI04kJtp6pVXI04kJtp6pVXI04kJtp6pVXI04kJtp6pVXI04kJtp6pVXI04kJtp6pVXI04kJtp6pVXI04kJtp6pVXI04kJtp6pVXI04kJtp6pVXI04kJtp6pVXI04kJtp6pVXI04kJtp6pVXI04kJtp6pVXI04kJtp6pVXI04kJtp6pVXI04kJtp6pVXI04kJtp6pVXI04kJtp6pVXI04kJtp6pVXI04kJtp6pVXI04kJtp6pVXI04kJtp6pVXI04kJtp6pVXI4rCweDxDqdw4rCweDxDqdw4rCweDxDqdw4rCweDxDqdw4rCweDxDqdw4rCweDxDqdw4rCweDxDqdw4rCweDxDqdw4rCweDxDqdw4rCweDxDqdw5vF4si3hoRA5vF4si3hoRA5vF4si3hoRA8HB18hZrhXc8HB18hZrhXc8HB18hZrhXc8HB18hZrhXc8HB18hZrhXc8HB18hZrhXc8HB18hZrhXc8HB18hZrhXc8HB18hZrhXc8HB18hZrhXc8HB18hZrhXc8HB18hZrhXc8HB18hZrhXc8HB18hZrhXc8HB18hZrhXc8HB18hZrhXc8HB18hZrhXc8HB18hZrhXc8HB18hZrhXc8HB18hZrhXc8HB18hZrhXc8HB18hZrhXc8HB18hZrhXc9pr1oE34bIM9pr1oE34bIM9pr1oE34bIM9pr1oE34bIM9pr1oE34bIM9pr1oE34bIM9pr1oE34bIM9pr1oE34bIM9pr1oE34bIM9pr1oE34bIM9pr1oE34bIM9pr1oE34bIM9pr1oE34bIM9pr1oE34bIM9pr1oE34bIM9pr1oE34bIM9pr1oE34bIM9pr1oE34bIM9pr1oE34bIM9pr1oE34bIM9pr1oE34bIM9pr1oE34bIM9pr1oE34bIM9pr1oE34bIM9pr1oE34bIM9pr1oE34bIM9pr1oE34bIM9pr1oE34bIM9pr1oE34bIM9pr1oE34bIM9pr1oE34bIM9pr1oE34bIM9pr1oE34bIM9pr1oE34bIM9pr1oE34bIM9pr1oE34bIM9pr1oE34bIM9pr1oE34bIM9pr1oE34bIM9pr1oE34bIM9pr1oE34bIM9pr1oE34bIM9pr1oE34bIM9pr1oE34bIM9pr1oE34bIM9pr1oE34bIM9pr1oE34bIM9pr1oE34bIM9pr1oE34bIM9pr1oE34bIM9pr1oE34bIM9pr1oE34bIM9pr1oE34bIM9pr1oE34bIM9pr1oE34bIM9pr1oE34bIM9pr1oE34bIM9pr1oE34bIM9pr1oE34bIM9pr1oE34bIM9pr1oE34bIM9pr1oE34bIM9pr1oE34bIM9pr1oE34bIM9pr1oE34bIM9pr1oE34bIM9pr1oE34bIM9pr1oE34bIM9pr1oE34bIM9pr1oE34bIM9pr1oE34bIM9pr1oE34bIM9pr1oE34bIM9pr1oE34bIM9pr1oE34bIM9pr1oE34bIM9pr1oE34bIM9pr1oE34bIM9pr1oE34bIM9pr1oE34bIM9pr1oE34bIM9pr1oE34bIM9pr1oE34bIM9pr1oE34bIM9pr1oE34bIM9pr1oE34bIM9pr1oE34bIM9pr1oE34bIMbUgKZMSxr3EbUgKZMSxr3EbUgKZMSxr3EbUgKZMSxr3EbUgKZMSxr3EbUgKZMSxr3EbUgKZMSxr3EbUgKZMSxr3EbUgKZMSxr3EbUgKZMSxr3EbUgKZMSxr3EbUgKZMSxr3EbUgKZMSxr3EbUgKZMSxr3EbUgKZMSxr3EbUgKZMSxr3EbUgKZMSxr3EbUgKZMSxr3EcT14IbTDW2ccT14IbTDW2ccT14IbTDW2ccT14IbTDW2ccT14IbTDW2ccT14IbTDW2ccT14IbTDW2ccT14IbTDW2ccT14IbTDW2ccT14IbTDW2ccT14IbTDW2ccT14IbTDW2ccT14IbTDW2ccT14IbTDW2ccT14IbTDW2ccT14IbTDW2ccT14IbTDW2ccT14IbTDW2ccT14IbTDW2ccT14IbTDW2ccT14IbTDW2ccT14IbTDW2ccT14IbTDW2ccT14IbTDW2ccT14IbTDW2ccT14IbTDW2ccT14IbTDW2ccT14IbTDW2ccT14IbTDW2ccT14IbTDW2ccT14IbTDW2ccT14IbTDW2ccT14IbTDW2ccT14IbTDW2ccT14IbTDW2ccT14IbTDW2ccT14IbTDW2ccT14IbTDW2ccT14IbTDW2ccT14IbTDW2ccT14IbTDW2ccT14IbTDW2ccT14IbTDW2ccT14IbTDW2ccT14IbTDW2ccT14IbTDW2ccT14IbTDW2ccT14IbTDW2ccT14IbTDW2ccT14IbTDW2ccT14IbTDW2ccT14IbTDW2ccT14IbTDW2ccT14IbTDW2ccT14IbTDW2ccT14IbTDW2ccT14IbTDW2ccT14IbTDW2ccT14IbTDW2ccT14IbTDW2ccT14IbTDW2ccT14IbTDW2ccT14IbTDW2ccT14IbTDW2ccT14IbTDW2ccT14IbTDW2ccT14IbTDW2ccT14IbTDW2ccT14IbTDW2ccT14IbTDW2ccT14IbTDW2ccT14IbTDW2ccT14IbTDW2ccT14IbTDW2ccT14IbTDW2ccT14IbTDW2ccT14IbTDW2ccT14IbTDW2ccT14IbTDW2ccT14IbTDW2ccT14IbTDW2ccT14IbTDW2ccT14IbTDW2ccT14IbTDW2ccT14IbTDW2ccT14IbTDW2ccT14IbTDW2ccT14IbTDW2ccT14IbTDW2ccT14IbTDW2ccT14IbTDW2ccT14IbTDW2ccT14IbTDW2ccT14IbTDW2ccT14IbTDW2ccT14IbTDW2ccT14IbTDW2ccT14IbTDW2ccT14IbTDW2ccT14IbTDW2ccT14IbTDW2ccT14IbTDW2ccT14IbTDW2ccT14IbTDW2ccT14IbTDW2ccT14IbTDW2ccT14IbTDW2ccT14IbTDW2cdDbRyFIkNIIdDbRyFIkNIIdDbRyFIkNIIdDbRyFIkNIIdDbRyFIkNIIdG7mZQvaQDkdG7mZQvaQDkdG7mZQvaQDkdG7mZQvaQDkdG7mZQvaQDkdG7mZQvaQDkdG7mZQvaQDkdG7mZQvaQDkdG7mZQvaQDkdG7mZQvaQDkdG7mZQvaQDkdG7mZQvaQDkdG7mZQvaQDkdG7mZQvaQDkdG7mZQvaQDkdG7mZQvaQDkdG7mZQvaQDkdG7mZQvaQDkdG7mZQvaQDkdG7mZQvaQDkdG7mZQvaQDkdG7mZQvaQDkDt9-byUhPdgDt9-byUhPdgDt9-byUhPdgDt9-byUhPdgDt9-byUhPdgDt9-byUhPdgDt9-byUhPdgDt9-byUhPdgDt9-byUhPdgDt9-byUhPdgDt9-byUhPdgDt9-byUhPdgDt9-byUhPdgDt9-byUhPdgDt9-byUhPdgDt9-byUhPdgDt9-byUhPdg#NAME?#NAME?#NAME?#NAME?#NAME?TZxEyoplYbITZxEyoplYbITZxEyoplYbITZxEyoplYbITZxEyoplYbITZxEyoplYbITZxEyoplYbITZxEyoplYbITZxEyoplYbITZxEyoplYbITZxEyoplYbITZxEyoplYbITZxEyoplYbITZxEyoplYbITZxEyoplYbITZxEyoplYbITZxEyoplYbITZxEyoplYbITZxEyoplYbITZxEyoplYbITZxEyoplYbITZxEyoplYbITZxEyoplYbITZxEyoplYbITZxEyoplYbITZxEyoplYbITZxEyoplYbITZxEyoplYbITZxEyoplYbITZxEyoplYbITZxEyoplYbITZxEyoplYbITZxEyoplYbITZxEyoplYbITZxEyoplYbITZxEyoplYbITZxEyoplYbITZxEyoplYbITZxEyoplYbITZxEyoplYbITZxEyoplYbITZxEyoplYbITZxEyoplYbITZxEyoplYbITZxEyoplYbITZxEyoplYbITZxEyoplYbITZxEyoplYbITZxEyoplYbITZxEyoplYbIXRuCW80L9mAXRuCW80L9mA",
          "Law enforcement is not trained to shoot to apprehend.  They are trained to shoot to kill.  And I thank Wilson for killing that punk bitch.\nDont you reckon them 'black lives matter' banners being held by white cunts is  kinda patronizing and ironically racist. could they have not come up with somethin better.. or is it just what white folks do to give them selves pride. 'ooo look at me im being nice for the black people' why does it always have to be about race actually the whole world is pussyfootin around for fear of being racist. its fuckin daft man.here people his facebook is https://www.facebook.com/bassem.masri.520 he has ties with isis and other terrorist groups he is a muslim extremist Check out this you tube post. \"Black man goes on an epic rant against Ferguson rioters.\"\n\nAlthough his message is delivered with childish, cartoon-ish emotions.... He is one of the very few African American's who gets it.I would LOVE to see this pussy go to Staten Island and spit on a cop. I would LOVE to see it happen. Mike Brown was a strong arm thug and people are burning Ferguson down. Eric Garnier did nothing wrong and was choked to death. No protest on mafia controlled Staten Island. No burning cars. Nothing. mike browns father was made to say that boooshitthe guy on the right is so on point. don't judge on his speaking abilities but judge him on his messege! you racist fucks can suck my dick. and like always the media focusing on the thing that don't matter. CNN is shit.Masri is about as close as you can get to ISIS in America.  We all know with the chimpers there is no compassion in their mud pumping hearts. \"I can believe whatever I wanna believe, I don't care what any of them have to say.\"\nBassem Masri, you are an idiot.Bassem Masri is a terrorist part of isisI would'nt waist my time trying to reason with this Police spitting Thug.  Trying to defend Criminal Brown is a losing matter.  The Grand Jury has made they're decision.   Live with it.I wish mr masri was dead,,You actually CAN shout \"fire\" in a crowded theater. Christopher Hitchens demonstrated this in his talk about \"free speech.\" Look it up. The interviewee is correct. Cops serve the public, not the other way around. And it is consistent with serving that public that the police department represent that public's race and ethnicity in its ranks. Hire a bunch of big, tough, black guys to the police department and you will have fewer blacks being shot to death by a puny white guy who felt humiliated when he got bitch slapped by a teenager. I think ,he kill himLol. This is what happens when the greedy rich slime keep the masses uneducated & ignorant. Now deal with the stupid that you created. Trying to reason with the irrational is an exercise in futility. Get the popcorn ready bc it's about to boil over. If you fall for the talk you will fall just walking. The legal system is inherently racist, same as this CNN reporterHe looks ready to cut heads off he must be a isis sympathizer and I'm going to say maybe 5% care about the issue at hand and other 95% just want to go loot stores and fuck shit up...lol, \"shoot to apprehend\". He is an idiot.This man is a zionist jew look at ypu can see the jewnesss in his face  cnn only employ zionist sympathisers and neo-con racists and wolf blitzer is the emplpyeee stop being criminals and you wont get shot, that simpleMassri needs an education.CNN mother fuckers....fuck you peace of shit!Hers my statement, I think ali sheep butt fucker masri should take an ak and go fight in syria..Hahahahaha.  This guy is Ed Bassmaster's character ALWAYS TESTE. Ed Bassmaster has a semi-retarded character who is cross-eyed just like this guyA completely idiot having his minutrs of fameI hope to god you guys is still not falling for the same ol banana in the tailpipe bullshit news that they're giving youCNN is such Bullcrap!Ayy CNN are lookin like pussies Smirconnish is the most even-handed guy in the world.  This guy Masri is an idiot.Masri is a total idiot \"I don't have to know the evidence, I can just come to my own conclusions instead\"\nHere is a clue, dont attack a cop and try to take his gun and then rush him after he finally gets out of his car and you wont get shot duhhh.\nSo what would Masri do, take Brown out for a icecream as he is beating him into the ground and not defend himself?\nBTW, Browns momma and gramma violently assaulted some people who were selling T-shirts in memory of Brown and put two people in the hospital, stole their money and trashed their shop and will probably be charged for it, so we all know what sort of mentality Brown was raised in and he was a thug wanna be, who caused his own death.Let's reverse the rolls! Black racist cops in rich white communities.(but you can't prove there racist) When a white man gets pissed off at this intolerable condition. We unload several clips of high caliber ammo at point blank range for his audacity at questioning authority. All Americans need to be on full alert of this elitist agenda to set presidents of questioning authority. The elitist upper-class is the problem. Prison culture CIA drug Cartels. Exporting jobs and importing cheap labor, While the elitist get bailed out and support this corrupt system. We can turn this around when we c get past the race issue the Govt. incites to divide the working class, but you can hardly call it a working class because the Govt put everyone out of work. We are more of a homeless class. Let us not for get Western history and the role big money plays in this clusterfuck designed to destroy a Nation that is Destroyed at this point. We can get it back, ask me how.This moron is talking about being peaceful?  Their burning the nation's flag idiot.  Even though that's what you are suppose to do when it's old so they have no knowledge.  They are babies making noise. Can someone shoot this black idiot too? That would make me giggle inside :)You people are sick! This man is speaking the truth and y'all are just mad. Trying to justify why a young boy who did nothing was shot and killed smh. Y'all are the devil and a disease to this earth! I'll be glad when the sun burns all your asses into extinction and we can have our planet back! Half animal half devil cave beasts!!! The world is changing im mad at the police too but id be dam if isis gonna come in here thats when its time to kill these faucksWhat a waste of time talking to that idiot. \"You know what Im sayin.\" \"I'll believe what I want to believe.\"- Yup- hell with facts or evidence. Loser.News fucktards...........puppet players,,,,,all they are paid liars does this guy riot before or after work? Orrrr, let me guess he fucks off all day doing nothing.Racial profiling and police intimidation? He robbed a store and got killed as a result. Fucking excuses man. Black people shouldn't have to get arrested when they commit a strong arm robbery. When black people get violent they shouldn't have to fear getting put down like an animal. He actually said we shouldn't have to worry about warrants. lol. Fucking piece of human garbage.Wrong Mother Fucker. No shoot to apprehendThis Muslim man does not have anything in mind of peace. He wants to stir up dissonance and trouble among Americans by using racist accusations . THAT IS HIS MAN GOAL.Add another imbecile to the bunch, reporter is a incompetent bastardThis interviewer is right. This guy should show some respect to the paramilitary police that are killing and getting away with it. Ha!You all are some dumb as peoplebassem I think walmart is hiring for the holidays. get a job loser!!!YEah  You are right 1 white shot a  black all hell break  lose , black shot black no protest maybe if they start doing  protest on black shotting black , you can buy in thier story ,Lets Steal from a convenience store then lets go and punch a cop in the face and get shot 6 times, then lets get all the black people and white apologists to run around the street setting buildings on fire, fucking dirty gutter rats all living on welfare and causing violence , just look where the rest of black people live... on the dirties Ebola plague ridden continent, lucky white countries can come over and cure their dumb asses.I'm with this dude fuck the punk police What a stupid arab. Police shoot to apprehend? Lmao That's not how it works when they are being attacked!What an ignorant coward, full of emotion, estrogen and apathy. And where the hell did you come from? Fuckin racially ambiguous blackwashed loudmouth. They really chose a pathetic man to interview. That motherfucker was angry,and I understand whyLet's get this straight and present the facts as the mass media should have from the beginning. 18 yr old (by all legal aspects an adult) robs a convince store. The criminal later flees the seen and is aprehended by the police. Resists arrest and altercation occurs between the two. The police (as in every case similar to this uses force). Criminal is killed. The killing goes to court. A randomly selected jury views all the evidence and hears out all witnesses which pertain to the case.  Radom jury reaches unanimous verdict of not guilty. Im sorry protestors I can't here over all this DEMOCRACY!If you act like animals you get treated like animalsSure...they totally looked at FACTUAL evidence during that trial...\n\nMore like special treatment. BUT HEY, we all knew that was going to happen, didn't we?You tellin me if he did in fact steal swisher sweets is the value of his life...Just admit you all are racist quit being a bunch of FAGGOTT bitches Proof Blacks aren't victims:\n1. Statistically Cops kill more whites than blacks, yet whites see them as necessary because they save more lives than they cost, while places like Ferguson lose their minds.\n2. Statistically 93% of murdered blacks are killed by other blacks, with whites consisting of 3% of the murderers and 4% being the other races.\n3. Whites were enslaved by blacks first, and for over 150 years. This was when Europeans(the same race that started America and later enslaved Africans) began searching North Africa to establish trade of goods between natives. From the 1520s to the late 1600s whites were enslaved first. Later the tables turned. This boys and girls is called 'Karma.'\n4. Statistically over 50% of murders in the US alone are from Blacks, despite them making up only 14.1% of the entire US population, while despite whites make up 63% of the US population they only make up 46% of the murders.\n5. Whites make up 38% of welfare recipients with blacks making up 39%. This doesn't seem extreme until you realize that 39%(blacks) consists of that 14.1%, whith that 38%(whites) making up 63% of the US. Meaning each individual black person is about 5 times as likely than whites to use welfare.White man can't finish his sentence\nAmerica needs to wake up!!the truth of murder is there!FUCK MEDIA \nBassem was right find something real to investigate. You're just exaggerating because you want more views and more MONEY.\n\nFUCK YOU SELFISH FUCKS\n\nThese people are DISGUSTING. I don't know how they bare with their NASTY selves.Shoot to apprehend? Easier said than done.. When the evidence was presented, Michael brown was still attackin darren after he was shot twice.... People have this misconception, like in the movies, that one gun shot anywhere to the body, will disable an attacker. This is a false belief.. There are cases of people still attacking or running after they've been shot 2-3 times. For god sake, 50 cent was shot 9 times and he's alive... When you're being attacked by a 6 ft 3 200 somthing pound person, and you're on your back, it's hard to say I\"m just goin to shoot to apprehend. Had michael brown copnducted himself like a gentleman, this wouldn't have happened. He was an aggresive piece of shit, and this muslim shit head isn't any better. He's filled with rage and doesn't have the answer for anything. Progression comes from tolerance not violence.How was this guy hired?\nWhat an idiotThis guy is a moron.Cnn...so out of touch..close up idiots.. people are watching for the comedy of reporting.lolBassem Masri is a criminal, a thug and a psychopath. He has no credibility, and no humanity. He needs to be locked in a jail cell. Time for the rubber-room and straight-jacket for Bassem. Get his intellectually dishonest butt out of the community. CNN this is why you are a joke!I wonder what the police expect will happen when they continually abuse and kill people  ? Do they honestly expect the public  to do nothing about it ? To just lay back and take it and let the cops just turn into one massive street gang who are allowed to kill without consequence? Even a rat when it's cornered will defend itself ..\"I don't want my sons death to be in vain.\" \"LET'S BURN THIS BITCH DOWN!\" Stupid fucks destroying livelihoods. Peaceful protests my fucking ass.This is a genuine failure of leadership by the President of the United States.  This nice town, Ferguson, should have been declared a state of emergency. It should have been put under martial law, federal troops should have stuffed the town, and non-residents should have been pushed out.  Everyone knew there was going to be another riot.  But...what did the President do?  He didn't want to offend the black community. He didn't want anyone else to get shot.  So he just let 'er burn baby burn.  Seems to me, that a real leader could have had it both ways.  Mr. President, sir, you have failed reprehensibly - and I do accuse you.﻿Arabs Hate black people. This ISIS sympathizer just wants to call it his community. Nonsense.I can't for the life of me understand why people think that Mike Brown was a martyr for some cause. The man was a criminal. Are all black people criminals? Absolutely not. Are there white criminals? Hispanic criminals? You betcha. If the situation was EXACTLY the same but the races were reversed there would not be an issue at all.Without that badge they a bitch and a half. So fuck the police!!THIS ARAB PIECE OF SHIT,,, ACTING LIKE HE GETS HARRASSED,, HE OR HIS PARENTS OWN A STORE AND YET HE ACTS LIKE HE GETS TREATED LIKE BLACK PEOPLE LOL... the same people who steals from his store,, what a moron piece of shitPolice brutality affects everyone.  It's not just a black issue, and when they made it a \"black\" issue that's when people who aren't black tend to stop listening.  End racial profiling as if police don't fuck with everyone?  Police don't care WHAT color you are, if you aren't  a policeman they will fuck with you.  If you look on youtube you will notice the brutality doesn't discriminate.  \n\nSo stop it with this racial bullshit, because if you want cops to finally be held accountable for their powertripping actions, you need to realize that playing the whole \"because I'm black, and only black, and black\" card, makes people who aren't black feel less sympathetic because every race here has had issues with them.Islamic Terrorist insighting hatred and violence under the disguise of an african citizen its time that american citizens realise their true enemy is islam and not black or white peopleFuck CNN you corrupt demon worshiping foolsThis guy is a dumbass. He claims that policed hired thugs took his phone and shot off rounds without any evidence to back his claims.Mike browns father does NOT buy into it....he got caught on video saying \"Burn the bitch down\" reffering to Ferguson................and this dude you are interviwing is just a thug and should not be given air time.............Brown isused as an excuse to loot take peoples shit and destroy neighborhoods , haaaa typical ghetto bullshit. Ya ain't even hood, ya just ghetto bitches collecting free rent from the govt while fighting the govt. same occupy Wall Street fagets have nothing else to do , go clean the highways !!!!!My thought of this \"waste of skin' catching his just  desert at 3300fps wouldn't make me a popular guy with  the \"no free people allowed\" party. But I don't live on the bookends of this country. The rest of you libshits' would do yourselves justice to know the MAJORITY of Real Americans despise you in every way. Know It and own it. Every day you continue to exist is because ying must have yang motherjumper!Wow, an a-hole that makes a CNN interviewer seem reasonable and balanced....Never argue with an idiot STFU YOU MUSLIM PIECE OF SHIT!  the cops should have fired ten rounds into his ass.\n\nor better still... lets cut his head off and pour pigs blood down his throat. I am willing to bet it was them dirty fckn Islamic bastards that set those fires and not even the blacks that did.Michael Smerconish is a little bitch. I like how he subtly tries to insult the guy and the guy laughs at him. This really shows how low CNN will stoop and what a garbage hole CNN has become.. And what a piece of ass sucking work Michael Smerconish is.  I guess it is no wonder why in my home we\nDON'T WATCH CNN.  (CRAP NEWS NETWORK)They are protecting and serving us, from people like Michael Brown. The guy deserved to be killed, cry more about it...I find it amusing how all of these protesters claim they're fighting against racism but yet they are blind to their own racism. There have been several reports of black people attacking white people. Just a couple of days ago, it was reported that a white man was beaten to death with a hammer by black teens in St. Louis. Yeah clearly no racial intent there. Fucking hypocrites. Michael Brown, rob a store assaulted the store owner. Then fought with a police officer Darren Wilson in and through the police window went for the officer gun, then was shot and killed. Brown did not have a shirt saying I'm not armed. This is what happens when you do criminal activity, regardless of the color of your skin. A linch mob mentality should not get there way, or public pressure when all the facts support Browns activity of the day. Some wonder if Brown wanted death (suicide) by cop for his family could sue.this fucking fuck can't even defend himself properly what a jokeWow.. Think I'm going to buy a bullet proof vest..shit! if your black it's like everybody is tryin' to shoot you.!If a black officer shot a white guy it would be fine by black people.  I'm not a racist. This delusional moron's anger is ONLY justified if Mike was, indeed, unjustly killed. If, on the other hand, Mike was a malicious person, and the shooting was justified, then all the rioting is not justified. NO ONE can know what happened there that day, so any riots are taking place on the basis of assumptions. OMG! IT'S A TERRORIST! AN ISIS UNDERCOVER-AGENT! What are you doing, Americans???? ARREST HIM!The city is full of really, really, really dumb people.  Can't try to reason with them.This is not your counties go back to he middle east that's your counties bWhy is it that in the history of mankind where people of all color, creed and cultures have found a way to rise out of the ashes of oppression for their self betterment and self preservation, EXCEPT for the blacks??????????????! WHY? Please enlighten me to this unknown phenomena.What a fucking douche bagCNN needs to hire that man. He is a real American. We are in trouble. One feral hoodlum put down, the rest of us no longer need to fear his thuggish behavior. Upset about that? Blame his parents- they failed to raise him right and provide proper supervision. Or, he was just defective from the start. Either way sounds like a case of quality control to me. Thank you Officer Wilson for doing your job.The US government is killing its population!FAKE!!...CNN IS BSWe need to get back to basics. When these savages riot or protest use the German Shepard's. then shoot these animals...Why the hell are they even interviewing him? This guy's such an idiot.Oh my God. I fucking love that Arab guy. Such wise words. He is seriously someone who has open eyes to the world. He sees things for how they are, which is so rare in our world today. A big fucking amen to that guy... Wake the fuck up AmericaMr. Smerconish, you Sir, are not a journalist. NO journalists say or claim to the interview object that he/she is searching for 15mins of fame just for being a part of the interview. And/or just because he/she did not speak in the direction you wanted them to.\n- If anything, it is you trying to DEFAME a person. And that is illegal! And you should definitively serve time for that! \nYou should go back to school because it is truly obvious that you do not handle the word of mouth with care NOR are you critical enough of the Authorities!\nWhy would you wait for tons of paper that shows what we all know...That he INDEED ran, stopped, hands in the air and got shot, multiple times. There should be no doubt from your side that this happened if the witnesses says so. There should be, however, an investigative journalist who goes out and ask the people.\n\nYour opinion is NOT superior! GET OFF YOUR CHAIR AND GO OUT AND DO SOME REAL REPORTING!  SHAME ON YOU!!! And SHAME ON CNN FOR NOT HIRING PROFESSIONALS!!That Arab is rapping 3:14\nGo ahead bro....LOL\nSo getto he isBassem Masri is an uneducated idiot. Just listen the words coming out of his mouth, he sounds like a stupid little kid. Sorry, but please grow the fuck up and learn the laws instead of repeating \"FREEDOM OF SPEECH\", \"I'M A CITIZEN\", \"GO AHEAD BRO, I'LL LISTEN TO YOU\".\n\nSomebody shut this guy up.“Do White children deserve to have a future?\nTens of millions of non-Whites flooding into White countries every year will, in a few decades, mean that Whites will be a minority in every country they founded.\nBlack countries will remain majority Black, and Asian countries will remain majority Asian.\nOnly White countries will be affected by this. This is genocide under international law.\nBut anti-Whites don’t call it genocide; they call it diversity.\nDiversity means chasing down every last White child.\nAnti-racist is a codeword for anti-White.”This guy an idiot, if that's the best you can do, you have lost already!!  WHAT A BOZO!!he can go back where he's from period big mouth MORONMuslims like to spit on white people.\nBrought in by Muslims or nggrs I still wait for my  big plasma cheap  tv looted in some shop.Yep a Muslim bitchMasri is unemployedTHE UGLY TRUTH:\n\nIf you talk like a THUG, act like a THUG, walk like a THUG, and live like a THUG... Then you will die like a THUG!\n\n\"Live by the sword die by the sword.\" - \"Don't hate the player, hate the game!\"\n\nThis was not an innocent little child just walking down the street who got shot in the back. If we cannot blame the parents then we must look at the individual who in this case was an adult. \n\nWhat kind of music did he listen to?\nWhat kind of videos did he view?\nWho were his role models?\nHow did his environment affect him?\nWho were the enablers?\nWho did he associate with?\nBut most importantly, when will he be accountable for his own actions? Unfortunately, on this day, he chose the wrong pathway to his fate. \n\nYou cannot rob a store and call it shoplifting. Heck, you might as well call it borrowing without permission. \n\nThis was not his first crime and there were probably many unrecorded (not caught) negative actions by Mike Brown (MB). You cannot assault another human being without consequences. Or should we say \"he was just playing, it was no big deal, or it was childish\". Get real folks. The riots, looting, attacks, and threats has nothing to do with MB. It has to do with a culture who feel they are entitled and will use any excuse or propaganda to find any excuse to commit crimes in the name of \"No Justice - No Peace!\"\n\nHands Up - Don't Shoot!\" - Please this culture needs to STOP, \"Pants on the ground, Pants on the Ground, Looking like a Fool, with your Pants on the Ground! Hat turned Sideways, Gold in your mouth, Looking like a Fool, with your Pants on the Ground!\"\n\nLet me say, THIS IS NOT ABOUT RACE! THIS IS NOT ABOUT LACK OF JUSTICE! \n\nJUSTICE, naturally in the street, will usually end in tragedy. This was the result of an immature with no respect THUG who believed he could use his size to intimidate. He probably did it in school and we know he did it in the street.\n\n--------- REAL PARENTS (or those around them) would have not called what MB did \"Childish\". That was not, nor is childish behaviors. His behaviors were felonious and criminal. And to be frank, would have probably cost him his life elsewhere at a different time. REAL PARENTS would have stated, \"This was my son. What he did was wrong in this store and to the clerk. If in fact, the evidence shows my son assaulted this officer, and posed a threat by going after the officer before the shots were fired... Then may our son rest in peace as his actions we do not condone but this consequence was just due to his own choices and actions. We unconditionally love our son. However, we also forgive the officer. We apologize to the store clerk and we hope as a family and people can move on only to learn, our actions and how we live dictate our consequences, be it positive or negative. We would also like to support alternate methods in the event this does happen again using non-lethal weapons such as rubber bullets, taser, mace, etc. ----------- And to those who truly support change - NO SILENCE - NO VIOLENCE.\n\nThere is no sugar coat here. As a human, as a race, we need to be accountable for what we say and do. \n\nLastly, If the officer was racist and he did shoot MB without rhyme or reason, or if he in fact, just targeted MB & DJ because they were black, and decided to gun down MB (in the back and front) even though he surrendered peacefully with his hands raised, THEN I would side with MB and those who support the cause.\n\nBut unfortunately, the evidence thus far does not support the above paragraph. \n\nQuestion 1: Would this still be the reaction, if the officer were a female?\n\nQuestion 2: Would this still be the reaction, if the officer were Black/African American?\n\nQuestion 3: Would this still be the reaction, if Mike Brown was gunned down by a peer of his own race?\n\nQuestion 4: Would this still be the reaction, if Mike Brown were White?\n\nQuestion 5: Would this still be the end result (death), if Mike Brown was productive at home, work, or school other than running the streets?\n\nTo the people:\n\n\"Nothing in the world is more dangerous than sincere ignorance and conscientious stupidity.\" - Martin Luther King, Jr.\nI think it is safe to say, we are living in dangerous times because of this simple fact proving  this Martin Luther King, Jr.'s quote.  Unfortunately, it is coming from his own race and those supporting a lost cause.\n\nTo the people who cry wolf...\n\nMJ\n\nPlease Repost!﻿People say blacks play the victim. \n\nBut according to the comments its our fault that  the elected officals are racists. \n\nWhites had a good thing going in Missouri but they had to be racist.  \n\nAll white folks do is point fingers.  \nTake these punk bitches out of power.  \n\nWe goin back to racism. \n\nDeport everyone else.  \n\n That punk did not get blasted for no reason!! If that cop didn't shoot him someone else would have!!A lot of people and the entire media is missing this huge crucial point: WHY was Micheal Brown even stopped in the first place??? The day it happened, the officer said that it was because Mike Brown was walking in the street. Then a few days later, it was because he had robbed a convenience store. Despite the fact that owner himself says that his store was never robbed. The officer was apparently in fear for his life. The PD claims he was \"seriously injured\" in the altercation with Mike Brown. Even though there is a video showing the officer, perfectly fine, standing by Mike's body an hour after the shooting. Also, Mike's body was 35 feet away from where the officer was when Mike apparently \"charged\" at him. Man, the police are full of shit. If you can't see that this shit was made up, then you're either a bigot or just a fucking idiot. Perhaps you should start teaching blacks that law and education is important, instead of treating them as special snowflakes?Someone has to say this so I will.\nWith the way most black people behave no wonder Ferguson is such a shitty place.\nMost black people in the US are so fucking lazy.\nI am saying this because of countless examples from my life:\n1. My grandmother got a black house nurse once and the bitch did nothing all day. When my grandmother complained to the agency they sent a different woman (wasn't black) that cleaned the entire house in 4 hours.\n2. My mom works at a hospital as a nurse and all her black co workers constantly do nothing and are lazy.\nNow once again. not all black people are like this (one of my best friends is black and I like him like a brother) but most of them are. The fucks expect to get everything they want only because their ancestors were once slaves. \nWell, Hitler killed most of my ancestors, do you see me with sagging pants and crying like a stupid bitch about it like those stupid black people?\n\nThe inequality of representation is probably because (again) black people are generally lazy or lack the skills required to hold such positions. \nThe household income ties into my previous point (lazy/lacking skill = lower income jobs).\nThe dropout rate from school need to be taken against the black people at Ferguson, because, once again, how will you hold a high paying job if you didn't even graduate fucking high school?\nThe 80% worse healthcare is once again tied into the low income. More money = better doctors.\nAs for the inequality of enforcement, I have to give you that one that is completely unfair, however, when looking at black officers they frisk mostly black people as well, hmmmm..... interesting? maybe.The more those people fuck up America, the more American will fucking hate them. What's with all the dislikes? White people are that offended? You thought racism wasn't an issue anymore....think again Did the IDIOT reporter do the survey on the percent of blacks that are involved in the following:- Gang Activities\nShopLifting\nCar Jacking\nRobberies\nRobberies with assault\nTeenage Pregnanciesheard a Billionaire funded these organised riots ,what a fucken suck jokeFucking savages! Protest sumthing real... Like how your government is robbing you and sendin your kids to an elegal WAR! You are the laughing stock of America congrats!And in this section ladies and gentlemen, you will see black people misbehaving. I wonder what would happen if everyone rioted when court decisions do not go their way.Dirtbags all of them. Including CNNAs I watched I kept muttering shoot, shoot, pull the trigger. Rubber bullets hurt like a MFer.how fucking brain dead do you have to be to let the Nazi police scum bags just take you in\"Dis be furgusun in de unitid stateth o' murka!\" - Retard starts violent protest and then tries to pawn off the 'police state' lie when the cops arrive.USA land of the free baby. HAHAHAHA! All you people not living in USA, should be thankful everyday. This is the worse country on earth.no dumber people on earth then americansAt .16  screw the price of crap that thinks he's cool to disrespect the AMERICAN FLAG.shoot first ask questions later hahahahahahashould have shotA true dictatorship ! Let's wait and check which of the coutries will start sanctioning on U.S government? I guess none of countries, because USA is a corrupted all of countries in the world except Russia and China.awesome job from our law enforcement now send off to disrupt & tear down all the Islamic extremist radicals in America thanks....to bad those weapons were not dischargedPolice cleaned that mess up quick! Nice.i find this satisfying for some reasonThose guns use rubber bullets, stupid Russian news channelProtesters sucka rocket launcher will take care of that lightly armored vehicle, lolToo bad that these were riot shotguns and not loaded with live rounds.Time to test the police guns fire fire.Buy ak47 shoot all USA copaAh, beautiful.Kill all protestersBlue lives let’s matter send those BLM commies our of our streetsI'm with cops. Those protesters steal, and destroy things. They aren't solving shitOur shit serving media concocts a story, white cop kills an innocent black teenager, which is bullshit, to get the \"black community\" up in arms, they burn shit down..more stories for these useless talking heads to get in front of a camera with. At least once a week i see a black on white crime reported on the news..no national attention , no federal involvement...wtf? Black men need to stand up and be fathers and stop looking for excuses.. fuck yall.. all yall.Funny to thing the government can be trusted to judge itself. Fucking disgusting. You know its crazy.... I actually came across your video about bitcoin while trying to learn more about it and knew you looked familiar.... I took the time to look at some of Mike Browns personal profiles myself specifically his soundcloud. While I do think he is guilty of representing himself in the wrong light and maybe of stealing he still didn't deserve to die. The fact that WHITE people like yourself continued to insinuate it is ridiculous and shows your clear lack of empathy and sympathy. It seems you all are more like the \"animals\" you think we are..... And its especially offensive looking back at these videos 3 years later when hip/hop rnb (OUR BLACK CULTURE) is the biggest thing and media and you still dont understand our perspectives. To say Trayvon Martin was making lean in on of your other videos shows how ignorant you truly are as well. Sprite or Fanta or a CARBONATED DRINK is used when making lean....Not tea....This is the typical mindset of white people ( not all white people but most). He deserved it . So I say to you, people like Sean Hannity are feuling the fires of prejudice and racism. Don't let these people influence you. They want a race war so they can start marshall law.You perform a basic snatch and grab robbery at a local convenience store which turns into a strong arm robbery on an immigrant midget store clerk and in less than 30 minutes later you get lit up by a yahoo cop who told you to get the fuck out of the middle of the road and proceeded on until he recognized you as fitting the description of the assailant which just came over his radio; talk about Mutherfuckin Karma! Stealing shit does not warrant deadly force but Karma's a Bitch and who the fuck has the ability to control it or direct it's measures of decree? Ain't no Mutherfucker who puts on his pant's one leg at a time, that's for sure!This dude sure seems to know a good bit about smoking weeds.  Hmmm.\nAccording this clown because this black man was somewhat on the gang side which is factual based on the photo's, that it was justified to MURDER AN UNARMED HUMAN BEING !  Its not ok you MF-er I wonder how big of a crater Thug Brown made in the street when he met the final shot to the melon. You get what you sew... \n\nBLM - When Truth and Facts Don't then they Shit in their own Kitchens before they get the right directions to the toilet.More of Your corrupt police will be harmed now. They are not safe from me. I will defend my self by fighting back and shooting them DEAD, so get your will's ready, cause its on!  catalyst? the facts of the city/town/government/usa, are the CATALYST. This pot has been boiling over for too many years, and now you have the generation that will bring the equalizer to your door step, We also have a PURGE; you will feel its effect. you are  clearly a racists shrill a canadian vegatable ,a plant that lives in a box of ivory snow and truly knows nothing about  the Negro race.    @Stefan Molyneux You sir, are the dumbest smart guy ever. You are a researcher? Research the enitre history of the Blackman in America and you will understand why things are the way they are. You are so detachted from reality it is comical.If blacks want respect, then speak, act, and dress like the Huxtable family. You want to be treated with prejudice then speak, act and dress like known gangsters, steal things, act like you own the street!.     Leaving out information when giving a police report because they didn't ask you for that info, *is* lying by omission. That's why it's not outright lying......because you omitted the information. These are some stupid lawyers.OK DIPSHITS: I don't care if he's 7 feet tall and 600 pounds.  \n1. Call for BACKUP   2. Use pepper spray  3. Use your baton   4. Use your taser  5. Wait for BACKUP  6. Use your GUN\nHOW DOES THE SAYING GO A MONKEY WITH BLINDFOLDS AND IT'S HANDS TIED BEHIND IT'S BACK?\nANYWAYS: The preliminary autopsy showed that he was shot 4 times IN LESS LETHAL AREAS before he was EXECUTED WITH 2 GUNSHOT WOUNDS TO THE HEAD!!!!!!!!!it''s freaking 2014 and some people are still racist, police are still awful Great video. Although I wish he would've focused more on all the shit police are doing, because that's the only thing keeping the rioters and their supporters from being complete idiots.a thug going to college  black people  are always  crying..    what about the American Indians  I don't see no one crying for them.....  Bullshit, the best places to live in America, are completely liberal, and the worst places to live in America, are overwhelmingly republican. And that is a fact jack.so you want to shoot them, can hardly wait till one of your kids gets in trouble with the police and gets killedCops NEED to be given a very wide latitude in self defense considering the threats they face and they if incapacitated, they have a very high chance of being executed with their own dam gun.Noone seems o care about this shit...since we now know that he never held his hands up.  Anyone who raises his hand up to show he is against the police of Ferguson is a racist scumbag.  Watch tv and count them.  There are a lot of racist scumbags out there.ALSO LOVE HOW THEY ONLY SHOW PICTURES OF BROWN AS AN ANGEL AND NOT AS A TUG.@23:00 hear what the guy is saying.. That a policemen stated that in his 31 years of service 8 officers have died by their own weapon and one was shoot execution style or whatever. So why the fuck does Officer Wilson let this 300 pound guy run 150ft--he's too big to run that fast I can assume? Shouldn't it take about 30-40 ft to tell Brown to freeze or he'll shoot? Bs all the way if you tell me.death ti the white devilYou honestly believe that Mike Brown was actually trying to take a cops gun while the cop was sitting in the car?  You would be stupid to think that a kid would charge at someone pointing a gun at them as if he was some beast and was high. \n\n If he was so high how could Mike go to the store and do everything else so easily..epic fail sir.  Why not make the officer take a toxicology test.  The officer was obviously scared and was going to use his weapon per being intimidated by Mike's size. \n\nThe officer didn't know that Mike had stolen anything and told the dispatcher that he knew nothing of a shooting in the area.\n\nGet your facts straight please. I don't care about Mike brown or any other bullshit. But it's clearly understood that this youtube guy is a racist and very dumb. His points do hold a little water but he's full of hate and lies100%There one was a thug named Brown,\nWho rushed at a cop with a frown.\nSix bullets later, he met his creator.\nAnd then his homies burn down the town.I watched your Zimmerman case video and you are full of SHIT. I can smell the hate seeping out of you. You bringing up RAP music and what he listens to it, or his sound-cloud is nothing more to make his charcter look as foolish and dangerous as possible. To who ever wants to respond to it this, FUCK YOU AZ WELL>..You go through so much effort to destroy Mike Brown's character by bringing up his smoking habits which have nothing to do with why he got shot. Your tone and the perfectly chosen words you use really makes Brown look like he was \"Unstable\". Look at how much detail u went trhu to slay Brown's character.Remember,the looting(stealing) by the blacks is purely and only to gain free goods.All in the name of Mike Brown.Yea right.It's an excuse to steal-pure and simple.A good ,concise introspective Steffan.Some folks live off grievance.This follows perfectly after the white guilt segment.Keep em rollin.You call yourself a researcher and that you plan is examine the facts yet you mention bullshit rumours. Trayvon martin had iced tea and skittles those were the FACTS. Speculation and victim blaming is what you are actually doing. Stop trying to pretend yo examining the facts Bottom line: Michael Brown was a drug addict criminal, a violent criminal.\nSo why should anyone feel bad he got killed, unless you're a criminal yourself?Here I was thinking I was getting a bunch of facts. Lean is not made with skittles and iced tea. Wilson did not know about the robbery. This video is a bunch of poppy cock! Thank you for wasting my time.LOL, trayvon's online name was \"nolimitnigga\". how is it again people got mad that a piece of human trash like that got shot?Yea fuck that store clerk to! how dare he try to do his job.This 18-year-old was just another useless negro who could barely pass inner-city high school. I'm glad he was shot dead on the street like a dog.﻿How can the police concentrate on any investigation with all these \"people\"  (if they can be called that) misbehaving. I hope this investigation gets all cancelled until they can behave and they let the police work. Everyone says this guy committed suicide by cop by attacking the police in the first place. how more clear can this be. You just don't disrespect the Police that way.He doesn't look like a \"gentle giant\" to me. (on the video of him robbing and stealing) \n\nHe looks like just another disgusting, thieving, thug. OMG Stefan that rap was so hysterical. anyway, good news I guess, to know that whatshisname is douche and deserved to die.\n\nPremptive strike made by Officer Darren Wilson. Huzzah for another trash taken off the streets. Probably should cure the disease rather than treat the symptoms though. the disease being the ignorance and self-entitlement of some communities in the lower class. Getting out of poverty isnt easy if your starting point isnt easy, but its still feasible with the right amount of drive.+Stefan Molyneux \t \t \t \t\nWhy do you hate Blacks so much? Actually I am not surprised, it's the bloody British in you. You people conquered us, when we did absolutely nothing to you. The more freedom we gain as the decades go on, the more you hate us.\n\nIf you weren't so pale, one would wonder if your mother was a Black woman.your an educated Dumb ASSSS!!!))) rap is rap its not real, its people like you I dispiseSeriously, YouTube?  Go FUCK yourself.  I find a comment on my Android phone I want to reply to, but OF COURSE I can't scroll, copy or paste while posting a comment on an android device because it's only fucking almost 2015 and our technology just isn't able to handle such a mountainous task!  So I hop on the computer and try looking for the goddamned comment but OF COURSE the comment system on YouTube is just SO beyond fucked up that searching for a comment is completely impossible!  An HOUR LATER and I still can't find the fucking thing.  I have to search for the string \"read more\" and then click on every single stupid fucking comment, to expand them all, before I can THEN search for a piece of the comment that I want to find, from a phrase I can remember.  AND THAT'S after having to click on every fucking \"view all xxx comments\" and expand THOSE!  And then, if by some MIRACLE OF CHRIST ALFUCKINGMIGHTY, I actually FOUND the piece of shit comment by some moron who it wouldn't even matter if I replied because he's a thick-skulled inbred troglodytic fucknut anyway?  It'd automatically scroll me down 200 pages of comments right after I clicked \"reply\" so I couldn't copy, paste, quote, etc., without having to scroll up and down for an hour because GOD FORFUCKINGBID the reply box was right underneath the ACTUAL comment I was replying to.Stefan,\nExcellent!You obviously have a better understanding of the events surrounding this unfortunate event than our president.I call it unfortunate because Officer Wilson life has been destroyed for doing his job. My fear is that police will hesitate when finding themselves in this rapidly growing situation. Thank you for your in-depth and honest dissertation.\n\nTom Kelver seek help go back to school and get off the drugs.\n                                     Your \"gentle giant\" seems to have robbed a store and later assaulted an armed police officer! So much for the school boy look you were hoping for, thug life comes with a high price.Bullshit Stef. Police officers have pepper spray, stun guns, and a number of non-lethal methods at their immediate disposal. The real question, should these versions of the events hold true, is why was the gun the first option the officer went for? It is better for society, for the \"greater good,\" that Michael Brown went off the rails now, before he got ushered through college life on an athletic scholarship and became a \"Brown killer\" like O.H.Simpson. became.  O.lJ. was found civilly liable, y'know.Was Stefan ever a victim of police discrimination? The game of white supremacy is to deny aNY involvement and play the victim when blacks complain..it never fails watch the commentsFACTS prove he was a THUG.If Michael Brown was Asian, his name would be Dindu Nuffin WongHey, last week in Kansas City, Mo. a Black man snuck into a retirement housing, broke into a house Beating 80 year old couple to death then went outside attempted to hot wire  antique car. Three neighbors  came out of their town-houses Mr. Howell (afro american) took his 12 gauge shot gun EXECUTED them by Blowing their heads off. He was only one armned a known felon, who had gotten out of a previous murder charge because they could not find the young girls body.Now, that is O.K. because they were ol d white people/caucasians.....Where is Al Sharpeton & Jesse Jackson NOW!Well, we all know the truth today and yet we still hear the \"hands up, don't shoot\" BULLSHIT lie (see Beyonce). . .Yet we still see this moniker being used as a reason (lie) to shoot at Cops and outright assassinate them.the guy was a monster, he got what he deserved, color didn't matter. anyone that attacks a guy with a gun is gonna get shot.......he did a stupid illegal act tried hurting someone and got blasted. give the cop a raiseracist piece of shit you reach for anything to justify murder. it is extremely shameful how you slant facts in order to justify your racist and biased views. Stop advertising swisher sweets lol , ur a racist point blank  .This man has an intelligence the average black man can't comprehend.  Its like a dog trying to figure out how man makes a house.Link between poor little tryvon martin and little mr brown? Yeah they were both thug's that tired to beat the white person into the ground and got shot for their effords...end of storyMichale brown got what he was asking for the black protestors are racist against whites that is what's happening As a white guy, if you are really concerned with the plight of the black community (which I doubt that you are) you should spend some time just hanging around black guys in the community just to see how the world reacts to them and how they react to the world.  And not just a few times either.  Secondly, if you think anyone even hoped up on drugs charges after feeling a gunshot after at first fleeing a shooter, what kind of fantasy do you live in.  You must think blacks will do shit anything with a survival mechanism in this world would not do.   Police officers doing the right thing gives us comfort in our lives and you want to believe the cops story.  \n\nHere is another story cop gets out to start some cop harassment type antics (as all cops do).  Kid gives him some 18 year old fat fuck that thinks he can whip everybody's ass sass.   He hits the kid with the door, dumb ass kid instead of passing out and getting the officer fired and paid and a few dollars for his injuries, pushes the door back.  Officer grabs him by the neck and a scuffle incurs.  Kid fires a punch to his grill.  Black guys hit pretty hard (see boxing) and the cop sees red.  Opens fire.  Kid runs. 15 feet is about how far his ass can get before his body reminds his fat ass he is not a sprinter or maybe the shots are starting to set in, now he wants to negotiate.  Cop executes him.  Is it lawful....., maybe, but my story makes more sense.I believe in those photos the gentle giant and his accomplice are giving gang signs, no? Even if Brown did raise his hands in surrender, maybe he realized he'd blown it, could get in trouble, and by then Officer Wilson's adrenaline was running high and reacted. Officers don't hesitate or they'd lose their lives. Lord knows there's no such thing as a thug that goes to college? Look at all those angelic professional athletes that keep getting arrested. What crap we're being fed. I'm disgusted.How da Fuck do this gay ass bald white frenchy nigga gonna set hisself up as a dang judge a this whole criminal conspiracy. Micheal brown had his MOTHAFUCKIN HANDS IN THE AIR SON! If u so smart then u should know that when a nigga has his hands in the mothafuckin air that's a sign SHOWIN HE WAS INNOCENT OF THA CRIME!  Sorry for the cussin, but that shit be internationally recognized as an indication of INNOCENCE ON THE PART OF THE PERPETRATOR!  What y'all niggas in the media have here is a plain old fashioned example a MURDER IN THE FIRST DEGREE on the part a Mr. Officer Darren Wilson, for takin the life a this nigga, who was a COLLEGE STUDENT!  Niggas at kent state be protestin , they get they asses shot, and it's a historic event.... Michael brown shot dead in the street while he takin part in the ferguson protests, and y'all media mothafuckas try to explain it awayThis is so far off base that you can't even call it propaganda! BS!It looks like M. Brown did the \"suicide\" by cop thing.Pathetic pseudo philosophy, you vile little man. exactly right Stefan , crime and bad decisions creates poverty and poor unattractive areas. criminals don't steal necessities .. it's just to get \"respect\" from their homies. patheticBrown was a piece of shit and the world is better off without him.BLACKS ARE TIRED OF BEING KILLED FOR NOTHING, HE DIDN'T HAD A WEAPON, SO YOU SHUT YOUR ASS WHITE DEVIL. ALL WHITE PEOPLE ARE EVIL.This makes me so damn angry.  All of this over some worthless thug who got himself shot?  The protests, those animals looting and tearing shit up in their own neighborhoods over this?  This is why everyone thinks the black community is fucked up, because it is fucked up.Criminal got shot... Great!Black cop kills white kid...Black kid kills white cop.  Does anyone riot, protest and engage national news?  No.  Race isn't mentioned in either of these circumstances.  So think about it, then ask yourself this question (and answer honestly): Who are the REAL racists in this country? That video of him pushing that clerk around really made me lose any sympathy for him. You can definitely tell from that the guy was most likely a dick.But hell, I need a new TV so I might as well riot and go loot one in his honorits easy to point out all the negative from the black man and point out the good point of the white man that shit is corny if you wanna be taken seriously tell all the facts good and bad from both parties\nfrom what i know couple a lyrics and pictures showing a middle finger doest justify to be shot 6times\nand what the media says is controlled look around the internet the store owner where micheal brown alledgedly stole the cigars said it wasnt micheal brown so the video is bogus\nif you think about it with everything that happened cops vs black men in the recent years does it make any sens for a black man to start beating on a policeman run away the policeman start firing micheal stop rush back to the police while his gun is drawn and already fired a shot this is pure bullshit ....!this dude is lying his azz off... racist crackaHoly shit! And I thought Trayvon Martin supporters were imbeciles...\n\nYou Michael Brown clowns must be on the dope!I guess it sucks that those 2 construction workers show up and prove this entire video to be wrong.Right on!!! Finally some Sane opinion on this event! These Black bastards are soooooooooo IGNORANT!!! Running around yelling and looting and carrying on, just like in LA Riots.... Same old shitThis video is so biased and full of shit.Okay but what in the literal fuck do Skittles and tea have to do with lean?So the autopsy showed a number of wounds to the right arm making the scenario of him being shot with his hands raised a lot less likely. Or are we still trying to claim that? Let's see, innocent unarmed gentle giant, minding his own business, gunned down in cold blood for jaywalking by a sadistic, jack-booted, racist thug of a police officer who shot the innocent youth in the back while his hands were raised trying to surrender. I keep forgetting which BS story we are still trying to defend and which claims have been totally refuted by the facts. Regardless, it \"doesn't matter\" because we have already decided that the cop is guilty.I THINK THAT GENTLE GIANT WOULD HAVE KILLED YOU AND SONGS AND RAP BOTH TALK BADIf you watch the video that Stef mentions at 21:15 you'll know the truth. \nALL THE FUCKING EVIDENCE YOU NEED STARTS AT 6:03 THAT'S WHAT HAPPENED. \nThe whole thing started in the car, the kid ran, the cop ran after him, and then the kid turned around, charged at the cop, the cop freaks the fuck out, and starts shooting, but the kid comes coming at the cop, and then eventually got hit in the head. The end. whites are weakThe white race is the racist race.Once again molyneux spreads complete information that is complete garbage.White Supremacy at its best !Michael Brown would not have been going to college if he had lived. He would have been in the county jail awaiting trial for robbery, assault on a police officer and maybe even attempted murderWhat about the construction workers working in the area, who saw the incident and stated that Brown had his hands raised and was surrendering?  I find it interesting that your witness accounts were limited solely to those 2 accounts that support the minority viewpoint.  Additionally, where was the innocent until proven guilty mindset when OJ Simpson was charged with Nicole's murder? Explain the shots to Brown's back?  You conveniently omit this information.  All witnesses state that Brown's was surrendering except the 2 you mentioned.  I have not seen a single picture of the injuries sustained by the police officer who Brown allegedly beat.  Do you actually believe that if such pictures existed that they would not be all over the media by now?  I am not saying that the officer's actions were motivated by racism.  I am saying that the officer probably has psychopathic tendencies.  It seems that there are more of these types being hired to police the streets of the USA.  \n\nGreat presentation, but highly hypocritical..    These comments are fucking ridiculous seeing this video over a year after. We all know “hands up don’t shoot” is bullshit. Still a tragedy but let’s not keep exploiting this mans death. No good has come from this in anyway shape or form.“Black thugs” what’s your plan @seattlemqrksjoin3 tfDid he really say trevon martin brought watermelon and skittles to make lean? Lol yo white ppl will say aaannnyything to make blk ppl look a certain way other then the truth..even if trevon said he was a no limit nigga so the fuck what,kids say dumb things all the time, i once said i was batman lol and? They sicken me an will make up any kind of excuse..why dont u talk about the second video tbat came out 2 years after the mike brown situation an how the cops said they didnt think it was important but it showed that mike made a trade with the store owner so there was no robbery lol how about u talk about the corruption with the police and media for withholding information?All you people justifying murder are evil.If the injustice was against white kids, would there be ANY excuse?Man this guy has nothing but a bunch of waffling nonsense coming out of his mouth can you answer the question or whatAna is fuxking hotI do not really care to much for some cops but somebody tell this dumb ass girl 1,600 unarmed white people every year are killed by blacks & 3 weeks ago a BLACK COP shot a unarmed white man in salt lake city & 50% of all crime is committed by blacks I can understand some crimes are poverty related but in 2009 AD over 10,000 white women were raped by blacks FBI REPORTS what the fuck does rape have to do with being poor??? Answer nothing & anyone who rapes someone should be hanged by the neck until dead.I agree with Joe that being a cop is an extremely difficult job that not many are qualified to handle. And yes there are lots of good cops out there. However, as intelligent and as unplugged out of the \"matrix\" as Joe always claim to be, he seems to be completely unaware or is ignoring the reality of this country's corrupt prison industrial complex and their ties to our failed judicial system, as well as the racial agenda behind police brutality...Tear gas against the Geneva Convention???? HAHAHAHAHAHAHAH.Tear gas banned by the geneva convention? Really? Stupid cunts. Also he assaulted a man earlier in the day then assaulted a police officer. Thats a violent felony. Add to that how big that thug was and now tell me why you are saying he was unarmed and shouldnt have been shot. The fucker tried to take the cops gun once already. Tell me if you would be this outraged if that thug killed the cop. Double standards. Any one who says different is just as stupid asthese two.You \"need to be able to call in people with guns in CA\" because the citizens are completely disarmed :) That North Hollywood Bank Heist would have been much shorter in cities where people havent been stripped of their 2nd ammendment rights...Anna is a dumb ass n Joe rogan has no clue what he is saying...Anna go do porn or something n leave this job to some one more intelligent.Vile cuntJoe rogan is an idiot.Since when did we start giving a fuck what Joe Rogan has to say about anything. Didn't he used to make people eat bugs and shit, now he's a social commentator? come the fuck on.I wish Joe would have gone all Fear Factor on her and had her eat a fresh steaming pile of shit so her mouth would have been full and we didn't have to hear this worthless cunt speak at all.Non lethal weapon's do not control crowds lol. I love Rogan but this discussion was stupid as fuck.Shibby dibby ignoramus ass bitchYou can't shoot tear gas at professional soldiers but members of the public in your own country is absolutely fine!!THIS BITCH SHOULD BE DEPORTEDJimmy Dore is a dickhead squared.bear mace and gas pedalFucking dumbass attention whores causing more problems. If they were doing that to me they would be eating all the coal I could rollWhat a garbage police,kick them all out of their jobs,what are they paid for if they can do what they supposed to do,they let that shit off protesters blocking thousands of people from which some of them could have an emergency,I wouldn't be surprised,when I see the video,that police like to kissing them.What a idiotic law enforcement you have there!where is the nice lorry driver when you need him, should have just ran these fucks over.mmh 2 years already, still the same moronic bullshit going on in your shit ass countryRun over the mdrfckrs!!!!Run them over2:22 a piece of shit that has no business wearing even a CHP uniform.You know what is worse than being late to work, being shot and killed.Run them downThey should all be shot. I would have ran all of them over.I've always been so good at being moderate and understanding but when I saw the woman in scrubs...screw the Black Lives Matters movement. I hope it dies.look at the dimwad police...escorting back the people being held up...idiotsAll you have to do is drive slowly towards them.  If they're smart, they'll get out of the way.Truly sad. The people who were stopped on the roadway should have simply walked up the  protestors and informed them that in 30 seconds they were going to use them as punching bags, boys and girls if they did not move. If they did not disband, lay into them. Those bitches needed their asses kicked. As far as the CHP, not even one citation was written. Bitch cops.How the fuck is this peaceful? Gun and gas this human road block, problem solved.RUN THEM OVERwhy is Black lives matter out there ? take your Black asses Home ... has Nothin to do with your Black asses !Did the Store owner ever get PAID for the cigars this \"fn innocent\" my ass   kid STOLE???some of us have jobs you fucking losers. Get out of our wayGlad these protestors affect so many people, gives the public more reasons to hate themAnyone stupid enough to stand in the roadway should be run over.  If they die, it will only improve the gene pool.The drivers should have just ran them over and kept going!Blacks are able to do this because it was White people in rush hour traffic coming home from a job! They bring their lazy asses out from watching TV and getting high to fuck with the very people providing their welfare. Yea, these White people are the same who sit on juries that rule on po-lice brutality and shootings. Piss them off. I'm SO sure you're getting them to see your side of the story!cop dont even do anything wtf.protesters i want to break there face in. losers nolifesThe only time I'd want to see a sniper in the bushes start picking them off one by oneFuck this stupid ass generation. Id like to apologize for my generation. I agree with peoples right to protest, speak, etc. \n\nBut for the love of GOD don’t mess with people that didn’t do anything. Get petitions signed, write the government. \n\nWhy you gotta fuck up everyone’s daywouldve just brought my AR-15 and that wouldve done the job\ndont care if i went to jail those nogs would deserve itGet a job!The drivers should've pounded on them!Useless people standing in the middle of the road screaming useless shit.Rich bratsWhy didnt the police do their jobs and arrest these idiots for blocking a public road???  This is ridiculous and these people should have been arrested or ran over for being too stupid to not be on the freeway!Well... bring out the tear gas and the beanbag rounds and rubber bullets*Monkey screamin bout honkies intensifies*A few warning rounds with a gatling gun will clear the freeway in an instant.Omg, these dumbass protesters are preventing cops to do their job because of their whining. I really really hate people who protest like this.\n\nEdit: Look at that ugly ass black girl with the big eyes.....They should have gotten the Fire Dept. with fire trucks and blast them this water jets, they'd get off!All liberal nonsenseI would really love to see a car with a snow plow and just drive straight through the protesterTHESE FUCKING COMMIES didn't even know what happenedThey just need to arrest all those protesters as soon as they start blocking traffic. If I was a driver and i saw them starting to block the road, i wouldn't stop for em.Anyone else pissed off about how it ended?\nJust let them walk off, no big deal. All the crap that they just pulled and no one got pepper sprayedIdiotsI don’t care what they are protesting about. One of them should have run there punk ass’s over. I hope they all get run TF overBlack lives splatter.I'd walk right past the cops and pepper spray them all , Boy I can't wait for my free pass to beat a protesters ass.There should be a law where you won't be prosecuted if you run over people blocking the streets. They sure know how to go about winning people for their cause by doing this! LolJust accelerate, if you go fast enough, no one will be able to film your plates in timeThey need to shoot those racist fucktardsYou whites are so racist always in comment section  . I'm so glad you whites are being exterminated . Another 100 years or so an there will be no whites . Peace on earthsome get pay to protest, and so if you ask what they protesting some have no idea but just flow along,,, by all mean i would run them over and the most fuck up system in us is they cant be arrest but those drive thru them will be arrest that's fuck up system in america, it's ok to have the voice and the right but at no right block off trafficVery weak display from law enforcement.Should run all those MOTHERFUCKERS  OVERNo talk... Get those fuckers off the road period ! I would have run the down... Let them sue...Plow through them they will get out of they way.I would get my car and start doing burnouts in their faces. Either move or get smokedrun them overThe fuck are thes cops being a pussy?California is so stupid ! Just arrest all them and charge them ! Drivers need to get too work To feed their FamiliesHope those fuckers get slammed with major fines. Fucking idiots.One mustang needed in this situation lol💀💀Should of ran everyone of them over.I'd just pop a couple of shots in the air and watch them scatter like roaches when a light turns on.someone should have taken one for the team and plowed right through themUseless cops, talk to the protesters instead of breaking heads.Dumb ass people run over them all 😡If you are the parent of one of these kids you have failed the one job you had as a parent. Dont raise a cunt.Bored stupid kidsrun them overRun the black cunts overRam those pricks.Next time they do that, line up some cars and start making burnout smoke to \"riot gas\" them. Non lethal and eficient. (Double check if it actualy is non lethal of course XD)I just thought about how to deal with this situation as a driver. The only working thing I came up with was getting out of the car, getting other drivers of stoppes cars to come with me and clean the road. But that's self justice. Something we all support irrationally and are against rationally.Fucking idiots, get outta the way....some people gotta get to work!Too bad nobody ran them down!  Hmmmm? If your dumbass lives matter, then stay the fuck out of the street, DUH!!! 🙄🙄run'em over, they're on a freaking freewayIf I ever get in a situation where I can run these assholes over...*I WILL*just run there stupid ass over. there stupid enough to stand in the middle of a freewayThese Californians deserve this backup since they elect people that allow this to happen without consequences. If they tried that where I lived they would be shot at and runned over.There's a lot more drivers there, they should have banded together and collectively beat the living shit out of every one of those little pricks.run them overWould’ve been satisfying if someone threw a Molotov in the middle of the group.Run them over. Ignorant fucks the world will do better without themOne paintball gun is all it takes.Tell them they are breaking the law by blocking an interstate and traffic will be let through. If you get hit by vehicles after being told to leave not only will the drivers of the vehicles noy be charged but any injuries incurred will be billed to the retards standing in the street.If a patient is ever in an ambulance during this and get injured worse because they can’t make it to the hospital the protestors should be liable and if they die then the protestors should be charged with man slaughterYou should be legally allowed to run them down with no consequencesGive me the keys to a county Snowplow,,, I'll get that road open ASAP !And if my kid did that I would beat the shit out of him.If this happen I would drive though them if I have to n if a cop does that Shit then they mess up letting them finish what they have to say like have need to get home or work u see how long that line of cars was. holding people up for there bullshitIdiotzStupid niggersI don't give a fuck what it is they're protesting about. DON'T BLOCK FUCKING TRAFFIC YOU CUNTS. Why piss on everyone else's day? Honestly such cunts. There should be a law where if you intentionally block traffic, drivers reserve the right to run you the fuck over. It's just quickening the Darwinism process anyway.Those dumb fucks, screwing fellow citizens over instead of protesting against the police. 🤦‍♂️I would’ve pressed my m button and shoot the tsar bombar outta my car into themIt's hilarious seeing these morons get hit by carsRUN THEM OVERI understand the point black lives do matter but blocking off traffic like that like WTH is that gonna do... There is people that need to go places hospitals, family,work ,etc and this to me is just plane stupid1)  Obstructing interstate commerce is a Federal Felony offence.\n2)  The cops are useless.\n3)   BLM is the democrats modern version of the racist terroristic KKK they also created.\n4)  These are not protesters they are rioters.\n5)  The drivers of the first row of cars are wimps.\n6)  Imagine dying in a ambulance stopped in a traffic jam miles long.Signs saying black lives matter and they are blocking black and white people. wtf?Drive through themStupid AmericanIf it was me I would have just kept going if you get hit you get hit I'd slowly push my way through ppl  who did that need to grow the fuck upIt should be a law if there a protesters blocking the street you should be leagaly allowed to run them overpepper spray the cunts. They will run.Bunch of pussies who have nothing better to do than to cry about problems that are only escalated because they do stupid shit like thisthe people in ferguson have to loot! the oly thing the goverment cares about is the economy! fuck it up n they will make an effort to stop crooked cops!Welcome to New World Order.Who the hell cares if there are  people peacefully protesting? If the police feels threatened they are gonna act. I say, blow them fuckers in the face with some tg. That is what follows a riot.I want to toss one of those gernades lol not at anyone of course but at a range that would be the fucking shitStuff like this is one of the reasons why people associate violence and danger with black people.I love this woman. THIS is a voice that matters. Fuck black lives matter.finally a black person with a unbiased opinion. An incredibly high percentage of black lives are lost among themselves and only an extremely small fraction from police.  Black people need to take responsibility for their violence.This is sad. Disgrace to all black peopleWhen I c the blk lives matter bullshit.....witch I call bullshit 5 black people were killed in a five period in Newark nj where were they....... I call BullshitbNiggas love being the victim in any situation that's why I separate my from them and other black people need to do the sameSo this bitch is talking about people like Dylan Roof, James Holmes, Jared Loughner, Jerad Miller, Tim McVeigh, Jared Loughner, Jim David Adkisson, Paul Hill, Scott Roeder, Frazier Glen Miller Jr. Elliot Rodger, Buford O' Furrow, John R Houser, etc,. then RIGHT?She is right Blacks are in the shitter because of themselves not the white man.Obama should be saying exactly what this lady is saying.  Instead, he's defending the thugs.  She should clean up her language, however.Im a white person who always thought everyone should be treated fairly.\nWith BLM and creating a bunch of bull and threatening my life and others by making it harder for cops to take out the bad guys, maybe not drawing their weapon fast enough or killing the spirit of being a hero or killing the spirit of NOT putting out 110% and doing JUST enough to comply. (No more rushing into burning houses type of thing) from a few bad cops\n\nAnd with the neighborhood gangs in my neighborhood having the heat taken off them. Emboldening them.\n\n And not the spirit of ALL lives matter (A form of racism in itself)\n\nBLM is causing a feeling that Black Lives don't matter.\n\nPeggy gave me hope there is still hope that there is still intelligence in the black community. \nSo maybe we can still all live together.\nI'm one less white guy willing to join the KKK because of Peggy, NOT BLM.As a black person all I have to say is THANK YOU FOR SPEAKING THE TRUTH. Too many blacks out there causing trouble, dressing like idiots and bring trouble to themselves, killing eachother, causing crimes then they complain the police are after them when they are up to no good. I'm just glad my parents grew me up properly. I stayed away from the garbage.Too much logic and intelligence.  She must be mixed race with some intelligent white DNA in her.One must be fucking stupid if one attacks a police officer and expects to get away with it without any response from the police.Correction: Black ppl have NEVER been the most violent ppl on this planet.  Now some of what she is saying is true but, when it comes to this black on black crime shit,  don't just single my race out when the same shit happens with other races, all across the globe.So now a days, if you're Conservative, support the Confederate Flag,denies racism,and criticize black people; you're deemed a hero by white people? Lmao. Please get this white woman in black face off my screenokay blacklivesmovent thugs  stop with this carp u wanna stand up for a murder but yet a child died by gettin shoot in the cheast all becasue u all wanna act like the plant of the apes movie all because of this excuse me black are killing other blacks and u wanna come after cops and white ppl  and call us names , rastist names all because u  dont get it try lisening to the lawa obeying the the law and stop shooting  inncent ppl  for you own  benfits all of u guys killing other ppl need to be in  jail,AMEN!!!, Peggy Hubbard!! Color makes no difference, it's the person on the inside. The innocent nine year old little girl is the one attention should have been on. Some people just want to cause chaos, black and white!! All of what is going on is exactly what Obama wanted,now look at our country and this mess that it's in. I admire your courage and telling it like it is Peggy Hubbard.Before integration black people had their own schools , business and  banks !!!!!!  After integration they lost every thing !!!!!!Ask your fellow white liberal press networks and blogs to post this, they won't, they cringe at black conservatism.I love her. Every thug deserves a slugi agree with most what you said, but i can't trust police if they won't arrest crooked pedophile protecting treasonous politicans same thing for military peopleBlackLivesMatter was built on deceit and liesI dont like generalizations, as she used it in her rant, BUT to her main point she is RIGHT. Chris rock said it best, there are Black people and there are niggaz. A nigga morns a killer that got gunned down in the street, a Black person mourns the loss of INNOCENT human life such as the little girl that got murdered. Based on comments here, the Black to nigga ratio is dropping.Yea! We should beat up all white people, rob black owned stores, and cause massive riots wasting money! I bet 90% of yall don't work, stop wasting people money and just off yourself....I hope every single person their got shot...that didn't happen though, sadly.#blacklivesdontmatterSeeing the comments on here just proves how backward this country is. dumb mfthe real criminals are on wall street those guys steal more money then any inmate in every Penitentiary every dreamed of stealingSo this is the \"Revolution\"? Setting your own neighbourhood on fire... good job, burn down some suburbs where these cops live... how does making yourself homeless achive anything?Brown Stepfather has his pants half way down. all you white immigrants need to go back to Europe and tbh native Americans we're here before the European settlers came over on there boatsWhat a bunch of complete dumb asses!I agree time for a race war.\"We been at war for 400 years\" please a war was started where three quarter of a million Americans died for you. Stop bitchingMichael Brown was a THUG! God bless the Thin Blue Line!! I graduate from the police academy in December!and what do the people see here,i can't even understand what they are saying,is this black America. is this good for the world to see,how do the people respect a race like this, when they see so much badTHESE PEOPLE DID AS THEY SHOULDVE. WISH THEY WOULDVE LITERALLY BURNED THE ENTIRE CITY DOWNMust be nice looting, protesting, rioting, and burning stuff down in the middle of the night when you don't have to get up to go to work the next dayIs it really that hard just to open fireDirty mongrels!!!95% of the policing problem being protested here is caused by black criminals.  Let's not forget to blame and address the elephant in the room.I hate basterds like this but I would have been funny if they tried pushing more and it flipped back on top of a few of them. #Hacopcarcanstillfightback I wish the car flipped over and crushed the riotersIt's only Ameland!So your friend gets killed which that means your burn down your local homes and items\nSeems correctI hate it how people have to read everything for me. Because I can't read. Because I'm black.Maybe I don't know the exact story and such , but from what I understood this is supposed to be a case of a grown man shooting a kid . This ain't supposed to be racial , you guys are letting in on your hate , whether you are anti black or anti white or w.e , and you seem to be forgetting what is going on here . A police officer shot an innocent kid . THAT'S IT . Want justice for THAT , not for your fckin race . The moment you pick a race , a side you have become a fckin joke . I dont give a rats ass about how many blacks have killed whites and vice versa , what I want to know is why the fck is that POLICE OFFICER walking it off free after emptying his motherfckin gun in a CHILD . \nMichael Brown deserved to die, he was intoxicated, aggressive and attempted to reach for a cops gun.Kid was a hopeless piece of shit .. look at him bully the store owner. His bad decisions got his dumb ass shot and killedy'all racists as fuck. god please bless americadon't let the Elite's divide and conquer tactics work on you!!! they want to keep us racially divided so we can never rise up against them Oh man, you thug life types...you're hilarious. Seriously, you're a fuckin' riot.\n\nLook, take your three dollar pocket knife back to the pawnshop, pull up your pants, stop playing basstracks in some 80s Sedan with rims that cost more than the car itself and sit your ass back in the office where you belong.\n\nThe criminal life ain't for you.The shooting had not one thing to do with him being black. Black people make it a black issue. Bottom line was a grown man robbed a store and ignored police orders. Why do people think its ok to protest on the behalf of a thug who has no respect for the law, yes it is a shame that it came to his death but if he hadnt have been a thief he would still be alive. I hear this bullshit about blacks gotta do what they gotta do, hard streets, from the streets....blah blah blah. you wear your hard living like a badge of honor but with no honor for this country, but hey lets go steal some cigarillos to make blunts, worsen what is already a ghetto, Blacks get my prejudice easilyRemember that time every other race rioted because someone of their race got shot by a white cop after attacking the officer or waving a gun around?\nRemember the huge riot last year when a 13 month old was shot in the head by 2 black kids?\n\nOh.Just finished the video....\nNow to gaze upon the racists and bigots in the comment section. It'll make me glad i'm a human being.hmm , maybe theres more depth on the subject in the comment section.. nope just a bunch of degenerates.Not one pair of work boots was stolen in the ferguson riots.They don't want justice.  Here you see a mob mentality in action.  He's guilty no matter what the Grand Jury says, no matter what the evidence says, let's just hang him from the nearest tree.  What about the officers rights?   They need to learn to speak proper English and get a job.  Who's the bigger racest?  If a white crowd did that they would all be in jail.Mike Brown was a criminal thug. Fuck him5:53 did you see that brick hit that white pig on his helmet. Lmao. Nice shot. Should of hit his faceFuck mo and kansas cityEvery time he interviewed a person I noticed they all \"ghetto\" and can clearly see their education is that of a preschooler. Who ever protested and did all that incredible stupid stuff, Dr Martin Luther King jr would have been disappointed in all of you and I respect him. All the ignorant black people like always ruining things and then they say they didn't do anything and they are always the victims. Wake up stupids you guys aren't the only ones. You're just making America look stupid. *Yes lets destroy someone else's property and ruin their day because we are mad at someone else. Take that Police!*     cunts.Fergueson residents are stupid , they complain about crime and when the police shoots a criminal they get all emo and tell the police to leave while rioting , looting and destroying their own community. Where is the logic in this? I think they're just trolling srs.So every time or don't agree with the police I'm going to go and burn down everything that has no relation to what I don't agree with and call it protesting. These people are so fucking stupid, it's as if we're de-evolving  Over 450 people get killed by cops in the USA every year. If cop would kill so many in my country i would be on the streat an protest no matter if the dead man is white or black.\nBut in the comments here are so many white people that dont give a fuck about a dead black man.\nI dont get it, every unnecessary dead should mater.These people are stupid as fuck , they would't be doing this if they had work at 7am. These is their idea of fun because they're losers and have nothing better to do. Oh yeah and great work burning down that auto place no a few more people are unemployed and cannot provide for their family. Great work , all this because the police shot some criminal who happened to be black. These people are the definition of sheep , there in not one individual thinker among them. I like how the begining, it was peaceful, and now even the fucking reporter is wearing armor XDUnited Shits Of America is collapsing. this is goodThese people just don't get it, if you don't want to get shot don't act like a thug then threaten a police officer, just effin ridiculous.  Just an excuse to act like assholes...\n\nOh and good job destroying your own city.Somebody pick up a gun and kill a cop already LA style im so sick of seeing racist comment. That a shame we still have rascim in 2015 ,,grow the fuck up peopleTHE ONLY JUSTICE WE WILL GET IS IN THE STREET. AN EYE FOR AN EYE. YOU KILL US WE KILL YOUi like how blacks can be all racist against white ppl without consequences ... keep it up nice new world we live in keep it upI find it insane that black people always play the racist card over every single little issue between a coincidental white-black situation, when in most cases race has nothing to do with it.\n\nAlso, they say they want justice. . than why go around destroying private property and looting shops, how in their right mind would ask for justice and rob and destroy peoples lively hood at the same time.\n\nIt's as though these black communities think it is perfectly acceptable for a black person to kill a white cop but when the cop follows procedures and defends him self from a potential fatal attack they get angry . . yeah the black guy might not have had a firearm but could easily have had a knife or something. . why do they value other black people more than a white law enforcement officer. . life is equal and as such they should understand that the officer defended him self from an attack. . and yes it was an attack.    don't get why the cops are armed for civil war ... machine guns against unarmed  civilians throwing bricks... fuck the united states. the people of america must free themselves from oppression !! I see all these signs, \"black lives matter!\", \"no parent should have to bury their child!\",\"justice!\". I bet you they'd know the last three black person shot by a white cop, but if you ask them to name one person in the last hundred who was killed by another black person, not a damn clue. where are the marches and protests over that? you are far more likely to murdered by another black person who isn't a cop. that is a fact. fuck you sharpton. you are no cornell west.cops = pigsOnly 1 out of 11,000 cases presented to a grand jury doesn't return an indictment. Apparently, the militarized police state gunning down an unarmed teen is that 1 time. Unevolved racists used to hide behind white hoods, now they hide behind computer screens & police badges. It's all because he's black.They can't help it but these motherfuckers are primitive compared to white people.  They get frustrated when they live around white people because they can't compete.  Blacks in Africa are much more self-assured because they don't get reminded every day that they can't compete.  Multiculturalism is not good for anybody.  All these people throwing fits are living off tax dollars STOLEN from white people.Shoot all looters on sight......another bulllsship vice documentary that doesnt focus on any facts, just idiots with no jobs who are venting their own racist paranoia10:11 what fucking evidence of by evidence you mean the fact that he was a suspect in an armed robbery and the autopsy reports that's evidence that shows the cop is innocent God damn Us police logic, \"Shit its a brick, Shoot them all, Quick call the army nuke them all!\"man, it's stuff like this that really make me reconsider how the world would be if Hitler were alive? Lol stupid mooslims\"back to Africa\" still a thing?  cause they seem like they really don't like it here...and its not working out...maybe they can turn their continent aroundAll I see here are a bunch of ignorant fucks that are trying their hardest to turn this into a racial thing, which it never was a racial thing from the start, it was self defense plane and simple.  You attack a cop your ass is going to get shot. If you think I am nit upset about the white people as much as the black people who get shot by police every day, you would be ignorant as fuck. \n\nRacism is nit the only problem here, its the militarized police we are seeing. \n\nDown with police culture! I'm just as sick as being disrespected by police as any black man. \n\nIf they use violence, you best bet all of logical America will fight back, despite the colour of their skin! \n\nGo Furgson, next time bring your own guns and shoot back! I dont understand why the black community wants to rally behind a wanna be thug. When the video of the guy robbing the store came out, I would have thought most of the protesters would have gone home. Michael Brown was a turd. This crowd is full of racist, who hate the white community.Thanks Obama0:05 to 0:18 I had no idea cops mooed, I always thought they just oinked. Learn something new every day9:41 Dems a big ass gun! 😂😭Whites should move-out of Ferguson, let's see how nice it becomes after that! East St. Louis, Detroit, Baltimore same thing happened and now look at those cities!!Stats don`t represent the problem. Race baiting and attitude is. Who`s doing the crimes ? Ohh I bet Trayvon is still the little innocent boy too. Don`t speak with a lisp, a sure sign of a left wing democrat ! ",
          353,
          21,
          161,
          100,
          138,
          125,
          8,
          1,
          0,
          12,
          0
         ],
         "yaxis": "y"
        }
       ],
       "layout": {
        "barmode": "relative",
        "height": 500,
        "legend": {
         "tracegroupgap": 0
        },
        "showlegend": false,
        "template": {
         "data": {
          "bar": [
           {
            "error_x": {
             "color": "#2a3f5f"
            },
            "error_y": {
             "color": "#2a3f5f"
            },
            "marker": {
             "line": {
              "color": "#E5ECF6",
              "width": 0.5
             },
             "pattern": {
              "fillmode": "overlay",
              "size": 10,
              "solidity": 0.2
             }
            },
            "type": "bar"
           }
          ],
          "barpolar": [
           {
            "marker": {
             "line": {
              "color": "#E5ECF6",
              "width": 0.5
             },
             "pattern": {
              "fillmode": "overlay",
              "size": 10,
              "solidity": 0.2
             }
            },
            "type": "barpolar"
           }
          ],
          "carpet": [
           {
            "aaxis": {
             "endlinecolor": "#2a3f5f",
             "gridcolor": "white",
             "linecolor": "white",
             "minorgridcolor": "white",
             "startlinecolor": "#2a3f5f"
            },
            "baxis": {
             "endlinecolor": "#2a3f5f",
             "gridcolor": "white",
             "linecolor": "white",
             "minorgridcolor": "white",
             "startlinecolor": "#2a3f5f"
            },
            "type": "carpet"
           }
          ],
          "choropleth": [
           {
            "colorbar": {
             "outlinewidth": 0,
             "ticks": ""
            },
            "type": "choropleth"
           }
          ],
          "contour": [
           {
            "colorbar": {
             "outlinewidth": 0,
             "ticks": ""
            },
            "colorscale": [
             [
              0,
              "#0d0887"
             ],
             [
              0.1111111111111111,
              "#46039f"
             ],
             [
              0.2222222222222222,
              "#7201a8"
             ],
             [
              0.3333333333333333,
              "#9c179e"
             ],
             [
              0.4444444444444444,
              "#bd3786"
             ],
             [
              0.5555555555555556,
              "#d8576b"
             ],
             [
              0.6666666666666666,
              "#ed7953"
             ],
             [
              0.7777777777777778,
              "#fb9f3a"
             ],
             [
              0.8888888888888888,
              "#fdca26"
             ],
             [
              1,
              "#f0f921"
             ]
            ],
            "type": "contour"
           }
          ],
          "contourcarpet": [
           {
            "colorbar": {
             "outlinewidth": 0,
             "ticks": ""
            },
            "type": "contourcarpet"
           }
          ],
          "heatmap": [
           {
            "colorbar": {
             "outlinewidth": 0,
             "ticks": ""
            },
            "colorscale": [
             [
              0,
              "#0d0887"
             ],
             [
              0.1111111111111111,
              "#46039f"
             ],
             [
              0.2222222222222222,
              "#7201a8"
             ],
             [
              0.3333333333333333,
              "#9c179e"
             ],
             [
              0.4444444444444444,
              "#bd3786"
             ],
             [
              0.5555555555555556,
              "#d8576b"
             ],
             [
              0.6666666666666666,
              "#ed7953"
             ],
             [
              0.7777777777777778,
              "#fb9f3a"
             ],
             [
              0.8888888888888888,
              "#fdca26"
             ],
             [
              1,
              "#f0f921"
             ]
            ],
            "type": "heatmap"
           }
          ],
          "heatmapgl": [
           {
            "colorbar": {
             "outlinewidth": 0,
             "ticks": ""
            },
            "colorscale": [
             [
              0,
              "#0d0887"
             ],
             [
              0.1111111111111111,
              "#46039f"
             ],
             [
              0.2222222222222222,
              "#7201a8"
             ],
             [
              0.3333333333333333,
              "#9c179e"
             ],
             [
              0.4444444444444444,
              "#bd3786"
             ],
             [
              0.5555555555555556,
              "#d8576b"
             ],
             [
              0.6666666666666666,
              "#ed7953"
             ],
             [
              0.7777777777777778,
              "#fb9f3a"
             ],
             [
              0.8888888888888888,
              "#fdca26"
             ],
             [
              1,
              "#f0f921"
             ]
            ],
            "type": "heatmapgl"
           }
          ],
          "histogram": [
           {
            "marker": {
             "pattern": {
              "fillmode": "overlay",
              "size": 10,
              "solidity": 0.2
             }
            },
            "type": "histogram"
           }
          ],
          "histogram2d": [
           {
            "colorbar": {
             "outlinewidth": 0,
             "ticks": ""
            },
            "colorscale": [
             [
              0,
              "#0d0887"
             ],
             [
              0.1111111111111111,
              "#46039f"
             ],
             [
              0.2222222222222222,
              "#7201a8"
             ],
             [
              0.3333333333333333,
              "#9c179e"
             ],
             [
              0.4444444444444444,
              "#bd3786"
             ],
             [
              0.5555555555555556,
              "#d8576b"
             ],
             [
              0.6666666666666666,
              "#ed7953"
             ],
             [
              0.7777777777777778,
              "#fb9f3a"
             ],
             [
              0.8888888888888888,
              "#fdca26"
             ],
             [
              1,
              "#f0f921"
             ]
            ],
            "type": "histogram2d"
           }
          ],
          "histogram2dcontour": [
           {
            "colorbar": {
             "outlinewidth": 0,
             "ticks": ""
            },
            "colorscale": [
             [
              0,
              "#0d0887"
             ],
             [
              0.1111111111111111,
              "#46039f"
             ],
             [
              0.2222222222222222,
              "#7201a8"
             ],
             [
              0.3333333333333333,
              "#9c179e"
             ],
             [
              0.4444444444444444,
              "#bd3786"
             ],
             [
              0.5555555555555556,
              "#d8576b"
             ],
             [
              0.6666666666666666,
              "#ed7953"
             ],
             [
              0.7777777777777778,
              "#fb9f3a"
             ],
             [
              0.8888888888888888,
              "#fdca26"
             ],
             [
              1,
              "#f0f921"
             ]
            ],
            "type": "histogram2dcontour"
           }
          ],
          "mesh3d": [
           {
            "colorbar": {
             "outlinewidth": 0,
             "ticks": ""
            },
            "type": "mesh3d"
           }
          ],
          "parcoords": [
           {
            "line": {
             "colorbar": {
              "outlinewidth": 0,
              "ticks": ""
             }
            },
            "type": "parcoords"
           }
          ],
          "pie": [
           {
            "automargin": true,
            "type": "pie"
           }
          ],
          "scatter": [
           {
            "fillpattern": {
             "fillmode": "overlay",
             "size": 10,
             "solidity": 0.2
            },
            "type": "scatter"
           }
          ],
          "scatter3d": [
           {
            "line": {
             "colorbar": {
              "outlinewidth": 0,
              "ticks": ""
             }
            },
            "marker": {
             "colorbar": {
              "outlinewidth": 0,
              "ticks": ""
             }
            },
            "type": "scatter3d"
           }
          ],
          "scattercarpet": [
           {
            "marker": {
             "colorbar": {
              "outlinewidth": 0,
              "ticks": ""
             }
            },
            "type": "scattercarpet"
           }
          ],
          "scattergeo": [
           {
            "marker": {
             "colorbar": {
              "outlinewidth": 0,
              "ticks": ""
             }
            },
            "type": "scattergeo"
           }
          ],
          "scattergl": [
           {
            "marker": {
             "colorbar": {
              "outlinewidth": 0,
              "ticks": ""
             }
            },
            "type": "scattergl"
           }
          ],
          "scattermapbox": [
           {
            "marker": {
             "colorbar": {
              "outlinewidth": 0,
              "ticks": ""
             }
            },
            "type": "scattermapbox"
           }
          ],
          "scatterpolar": [
           {
            "marker": {
             "colorbar": {
              "outlinewidth": 0,
              "ticks": ""
             }
            },
            "type": "scatterpolar"
           }
          ],
          "scatterpolargl": [
           {
            "marker": {
             "colorbar": {
              "outlinewidth": 0,
              "ticks": ""
             }
            },
            "type": "scatterpolargl"
           }
          ],
          "scatterternary": [
           {
            "marker": {
             "colorbar": {
              "outlinewidth": 0,
              "ticks": ""
             }
            },
            "type": "scatterternary"
           }
          ],
          "surface": [
           {
            "colorbar": {
             "outlinewidth": 0,
             "ticks": ""
            },
            "colorscale": [
             [
              0,
              "#0d0887"
             ],
             [
              0.1111111111111111,
              "#46039f"
             ],
             [
              0.2222222222222222,
              "#7201a8"
             ],
             [
              0.3333333333333333,
              "#9c179e"
             ],
             [
              0.4444444444444444,
              "#bd3786"
             ],
             [
              0.5555555555555556,
              "#d8576b"
             ],
             [
              0.6666666666666666,
              "#ed7953"
             ],
             [
              0.7777777777777778,
              "#fb9f3a"
             ],
             [
              0.8888888888888888,
              "#fdca26"
             ],
             [
              1,
              "#f0f921"
             ]
            ],
            "type": "surface"
           }
          ],
          "table": [
           {
            "cells": {
             "fill": {
              "color": "#EBF0F8"
             },
             "line": {
              "color": "white"
             }
            },
            "header": {
             "fill": {
              "color": "#C8D4E3"
             },
             "line": {
              "color": "white"
             }
            },
            "type": "table"
           }
          ]
         },
         "layout": {
          "annotationdefaults": {
           "arrowcolor": "#2a3f5f",
           "arrowhead": 0,
           "arrowwidth": 1
          },
          "autotypenumbers": "strict",
          "coloraxis": {
           "colorbar": {
            "outlinewidth": 0,
            "ticks": ""
           }
          },
          "colorscale": {
           "diverging": [
            [
             0,
             "#8e0152"
            ],
            [
             0.1,
             "#c51b7d"
            ],
            [
             0.2,
             "#de77ae"
            ],
            [
             0.3,
             "#f1b6da"
            ],
            [
             0.4,
             "#fde0ef"
            ],
            [
             0.5,
             "#f7f7f7"
            ],
            [
             0.6,
             "#e6f5d0"
            ],
            [
             0.7,
             "#b8e186"
            ],
            [
             0.8,
             "#7fbc41"
            ],
            [
             0.9,
             "#4d9221"
            ],
            [
             1,
             "#276419"
            ]
           ],
           "sequential": [
            [
             0,
             "#0d0887"
            ],
            [
             0.1111111111111111,
             "#46039f"
            ],
            [
             0.2222222222222222,
             "#7201a8"
            ],
            [
             0.3333333333333333,
             "#9c179e"
            ],
            [
             0.4444444444444444,
             "#bd3786"
            ],
            [
             0.5555555555555556,
             "#d8576b"
            ],
            [
             0.6666666666666666,
             "#ed7953"
            ],
            [
             0.7777777777777778,
             "#fb9f3a"
            ],
            [
             0.8888888888888888,
             "#fdca26"
            ],
            [
             1,
             "#f0f921"
            ]
           ],
           "sequentialminus": [
            [
             0,
             "#0d0887"
            ],
            [
             0.1111111111111111,
             "#46039f"
            ],
            [
             0.2222222222222222,
             "#7201a8"
            ],
            [
             0.3333333333333333,
             "#9c179e"
            ],
            [
             0.4444444444444444,
             "#bd3786"
            ],
            [
             0.5555555555555556,
             "#d8576b"
            ],
            [
             0.6666666666666666,
             "#ed7953"
            ],
            [
             0.7777777777777778,
             "#fb9f3a"
            ],
            [
             0.8888888888888888,
             "#fdca26"
            ],
            [
             1,
             "#f0f921"
            ]
           ]
          },
          "colorway": [
           "#636efa",
           "#EF553B",
           "#00cc96",
           "#ab63fa",
           "#FFA15A",
           "#19d3f3",
           "#FF6692",
           "#B6E880",
           "#FF97FF",
           "#FECB52"
          ],
          "font": {
           "color": "#2a3f5f"
          },
          "geo": {
           "bgcolor": "white",
           "lakecolor": "white",
           "landcolor": "#E5ECF6",
           "showlakes": true,
           "showland": true,
           "subunitcolor": "white"
          },
          "hoverlabel": {
           "align": "left"
          },
          "hovermode": "closest",
          "mapbox": {
           "style": "light"
          },
          "paper_bgcolor": "white",
          "plot_bgcolor": "#E5ECF6",
          "polar": {
           "angularaxis": {
            "gridcolor": "white",
            "linecolor": "white",
            "ticks": ""
           },
           "bgcolor": "#E5ECF6",
           "radialaxis": {
            "gridcolor": "white",
            "linecolor": "white",
            "ticks": ""
           }
          },
          "scene": {
           "xaxis": {
            "backgroundcolor": "#E5ECF6",
            "gridcolor": "white",
            "gridwidth": 2,
            "linecolor": "white",
            "showbackground": true,
            "ticks": "",
            "zerolinecolor": "white"
           },
           "yaxis": {
            "backgroundcolor": "#E5ECF6",
            "gridcolor": "white",
            "gridwidth": 2,
            "linecolor": "white",
            "showbackground": true,
            "ticks": "",
            "zerolinecolor": "white"
           },
           "zaxis": {
            "backgroundcolor": "#E5ECF6",
            "gridcolor": "white",
            "gridwidth": 2,
            "linecolor": "white",
            "showbackground": true,
            "ticks": "",
            "zerolinecolor": "white"
           }
          },
          "shapedefaults": {
           "line": {
            "color": "#2a3f5f"
           }
          },
          "ternary": {
           "aaxis": {
            "gridcolor": "white",
            "linecolor": "white",
            "ticks": ""
           },
           "baxis": {
            "gridcolor": "white",
            "linecolor": "white",
            "ticks": ""
           },
           "bgcolor": "#E5ECF6",
           "caxis": {
            "gridcolor": "white",
            "linecolor": "white",
            "ticks": ""
           }
          },
          "title": {
           "x": 0.05
          },
          "xaxis": {
           "automargin": true,
           "gridcolor": "white",
           "linecolor": "white",
           "ticks": "",
           "title": {
            "standoff": 15
           },
           "zerolinecolor": "white",
           "zerolinewidth": 2
          },
          "yaxis": {
           "automargin": true,
           "gridcolor": "white",
           "linecolor": "white",
           "ticks": "",
           "title": {
            "standoff": 15
           },
           "zerolinecolor": "white",
           "zerolinewidth": 2
          }
         }
        },
        "title": {
         "text": "Contribución de cada columna en \"IsToxic\""
        },
        "width": 800,
        "xaxis": {
         "anchor": "y",
         "domain": [
          0,
          1
         ],
         "tickfont": {
          "size": 12
         },
         "title": {
          "text": "Columna"
         }
        },
        "yaxis": {
         "anchor": "x",
         "domain": [
          0,
          1
         ],
         "tickfont": {
          "size": 15
         },
         "title": {
          "text": "Conteo"
         }
        }
       }
      }
     },
     "metadata": {},
     "output_type": "display_data"
    }
   ],
   "source": [
    "toxic_rows = df[df['IsToxic'] == True]\n",
    "column_counts = toxic_rows.drop(columns=['IsToxic']).sum()\n",
    "data = {'Columna': column_counts.index, 'Conteo': column_counts.values}\n",
    "column_counts_df = pd.DataFrame(data)\n",
    "\n",
    "fig = px.bar(column_counts_df, x='Columna', y='Conteo',\n",
    "             title='Contribución de cada columna en \"IsToxic\"',\n",
    "             labels={'Columna': 'Columna', 'Conteo': 'Conteo'},\n",
    "             width=800, height=500)\n",
    "\n",
    "fig.update_layout(xaxis=dict(tickfont=dict(size=12)),\n",
    "                  yaxis=dict(tickfont=dict(size=15)),\n",
    "                  xaxis_title='Columna', yaxis_title='Conteo',\n",
    "                  showlegend=False)\n",
    "\n",
    "fig.show()"
   ]
  },
  {
   "cell_type": "code",
   "execution_count": 37,
   "metadata": {},
   "outputs": [
    {
     "name": "stdout",
     "output_type": "stream",
     "text": [
      "     IsToxic  IsAbusive  IsThreat  IsProvocative  IsObscene  IsHatespeech  \\\n",
      "0      False      False     False          False      False         False   \n",
      "1       True       True     False          False      False         False   \n",
      "2       True       True     False          False       True         False   \n",
      "3      False      False     False          False      False         False   \n",
      "4      False      False     False          False      False         False   \n",
      "..       ...        ...       ...            ...        ...           ...   \n",
      "995    False      False     False          False      False         False   \n",
      "996     True      False     False          False      False          True   \n",
      "997    False      False     False          False      False         False   \n",
      "998    False      False     False          False      False         False   \n",
      "999    False      False     False          False      False         False   \n",
      "\n",
      "     IsRacist  IsNationalist  IsSexist  IsHomophobic  IsReligiousHate  \\\n",
      "0       False          False     False         False            False   \n",
      "1       False          False     False         False            False   \n",
      "2       False          False     False         False            False   \n",
      "3       False          False     False         False            False   \n",
      "4       False          False     False         False            False   \n",
      "..        ...            ...       ...           ...              ...   \n",
      "995     False          False     False         False            False   \n",
      "996      True          False     False         False            False   \n",
      "997     False          False     False         False            False   \n",
      "998     False          False     False         False            False   \n",
      "999     False          False     False         False            False   \n",
      "\n",
      "     IsRadicalism  HatePercentage  \n",
      "0           False        0.000000  \n",
      "1           False        9.090909  \n",
      "2           False       18.181818  \n",
      "3           False        0.000000  \n",
      "4           False        0.000000  \n",
      "..            ...             ...  \n",
      "995         False        0.000000  \n",
      "996         False       18.181818  \n",
      "997         False        0.000000  \n",
      "998         False        0.000000  \n",
      "999         False        0.000000  \n",
      "\n",
      "[1000 rows x 13 columns]\n"
     ]
    }
   ],
   "source": [
    "hate_columns = ['IsAbusive', 'IsThreat', 'IsProvocative', 'IsObscene', \n",
    "                'IsHatespeech', 'IsRacist', 'IsNationalist', 'IsSexist', \n",
    "                'IsHomophobic', 'IsReligiousHate', 'IsRadicalism']\n",
    "\n",
    "df['HatePercentage'] = df[hate_columns].sum(axis=1) / len(hate_columns) * 100\n",
    "\n",
    "print(df[['IsToxic'] + hate_columns + ['HatePercentage']])"
   ]
  },
  {
   "cell_type": "code",
   "execution_count": 38,
   "metadata": {},
   "outputs": [
    {
     "data": {
      "text/html": [
       "<div>\n",
       "<style scoped>\n",
       "    .dataframe tbody tr th:only-of-type {\n",
       "        vertical-align: middle;\n",
       "    }\n",
       "\n",
       "    .dataframe tbody tr th {\n",
       "        vertical-align: top;\n",
       "    }\n",
       "\n",
       "    .dataframe thead th {\n",
       "        text-align: right;\n",
       "    }\n",
       "</style>\n",
       "<table border=\"1\" class=\"dataframe\">\n",
       "  <thead>\n",
       "    <tr style=\"text-align: right;\">\n",
       "      <th></th>\n",
       "      <th>CommentId</th>\n",
       "      <th>VideoId</th>\n",
       "      <th>Text</th>\n",
       "      <th>IsToxic</th>\n",
       "      <th>IsAbusive</th>\n",
       "      <th>IsThreat</th>\n",
       "      <th>IsProvocative</th>\n",
       "      <th>IsObscene</th>\n",
       "      <th>IsHatespeech</th>\n",
       "      <th>IsRacist</th>\n",
       "      <th>IsNationalist</th>\n",
       "      <th>IsSexist</th>\n",
       "      <th>IsHomophobic</th>\n",
       "      <th>IsReligiousHate</th>\n",
       "      <th>IsRadicalism</th>\n",
       "      <th>HatePercentage</th>\n",
       "    </tr>\n",
       "  </thead>\n",
       "  <tbody>\n",
       "    <tr>\n",
       "      <th>0</th>\n",
       "      <td>Ugg2KwwX0V8-aXgCoAEC</td>\n",
       "      <td>04kJtp6pVXI</td>\n",
       "      <td>If only people would just take a step back and...</td>\n",
       "      <td>False</td>\n",
       "      <td>False</td>\n",
       "      <td>False</td>\n",
       "      <td>False</td>\n",
       "      <td>False</td>\n",
       "      <td>False</td>\n",
       "      <td>False</td>\n",
       "      <td>False</td>\n",
       "      <td>False</td>\n",
       "      <td>False</td>\n",
       "      <td>False</td>\n",
       "      <td>False</td>\n",
       "      <td>0.000000</td>\n",
       "    </tr>\n",
       "    <tr>\n",
       "      <th>1</th>\n",
       "      <td>Ugg2s5AzSPioEXgCoAEC</td>\n",
       "      <td>04kJtp6pVXI</td>\n",
       "      <td>Law enforcement is not trained to shoot to app...</td>\n",
       "      <td>True</td>\n",
       "      <td>True</td>\n",
       "      <td>False</td>\n",
       "      <td>False</td>\n",
       "      <td>False</td>\n",
       "      <td>False</td>\n",
       "      <td>False</td>\n",
       "      <td>False</td>\n",
       "      <td>False</td>\n",
       "      <td>False</td>\n",
       "      <td>False</td>\n",
       "      <td>False</td>\n",
       "      <td>9.090909</td>\n",
       "    </tr>\n",
       "    <tr>\n",
       "      <th>2</th>\n",
       "      <td>Ugg3dWTOxryFfHgCoAEC</td>\n",
       "      <td>04kJtp6pVXI</td>\n",
       "      <td>\\nDont you reckon them 'black lives matter' ba...</td>\n",
       "      <td>True</td>\n",
       "      <td>True</td>\n",
       "      <td>False</td>\n",
       "      <td>False</td>\n",
       "      <td>True</td>\n",
       "      <td>False</td>\n",
       "      <td>False</td>\n",
       "      <td>False</td>\n",
       "      <td>False</td>\n",
       "      <td>False</td>\n",
       "      <td>False</td>\n",
       "      <td>False</td>\n",
       "      <td>18.181818</td>\n",
       "    </tr>\n",
       "    <tr>\n",
       "      <th>3</th>\n",
       "      <td>Ugg7Gd006w1MPngCoAEC</td>\n",
       "      <td>04kJtp6pVXI</td>\n",
       "      <td>There are a very large number of people who do...</td>\n",
       "      <td>False</td>\n",
       "      <td>False</td>\n",
       "      <td>False</td>\n",
       "      <td>False</td>\n",
       "      <td>False</td>\n",
       "      <td>False</td>\n",
       "      <td>False</td>\n",
       "      <td>False</td>\n",
       "      <td>False</td>\n",
       "      <td>False</td>\n",
       "      <td>False</td>\n",
       "      <td>False</td>\n",
       "      <td>0.000000</td>\n",
       "    </tr>\n",
       "    <tr>\n",
       "      <th>4</th>\n",
       "      <td>Ugg8FfTbbNF8IngCoAEC</td>\n",
       "      <td>04kJtp6pVXI</td>\n",
       "      <td>The Arab dude is absolutely right, he should h...</td>\n",
       "      <td>False</td>\n",
       "      <td>False</td>\n",
       "      <td>False</td>\n",
       "      <td>False</td>\n",
       "      <td>False</td>\n",
       "      <td>False</td>\n",
       "      <td>False</td>\n",
       "      <td>False</td>\n",
       "      <td>False</td>\n",
       "      <td>False</td>\n",
       "      <td>False</td>\n",
       "      <td>False</td>\n",
       "      <td>0.000000</td>\n",
       "    </tr>\n",
       "    <tr>\n",
       "      <th>5</th>\n",
       "      <td>Ugg9a6FtoXdxmXgCoAEC</td>\n",
       "      <td>04kJtp6pVXI</td>\n",
       "      <td>here people his facebook is https://www.facebo...</td>\n",
       "      <td>True</td>\n",
       "      <td>False</td>\n",
       "      <td>False</td>\n",
       "      <td>False</td>\n",
       "      <td>False</td>\n",
       "      <td>True</td>\n",
       "      <td>False</td>\n",
       "      <td>False</td>\n",
       "      <td>False</td>\n",
       "      <td>False</td>\n",
       "      <td>True</td>\n",
       "      <td>False</td>\n",
       "      <td>18.181818</td>\n",
       "    </tr>\n",
       "    <tr>\n",
       "      <th>6</th>\n",
       "      <td>Ugga9KzkNDGvlXgCoAEC</td>\n",
       "      <td>04kJtp6pVXI</td>\n",
       "      <td>Check out this you tube post. \"Black man goes ...</td>\n",
       "      <td>True</td>\n",
       "      <td>False</td>\n",
       "      <td>False</td>\n",
       "      <td>False</td>\n",
       "      <td>False</td>\n",
       "      <td>True</td>\n",
       "      <td>True</td>\n",
       "      <td>False</td>\n",
       "      <td>False</td>\n",
       "      <td>False</td>\n",
       "      <td>False</td>\n",
       "      <td>False</td>\n",
       "      <td>18.181818</td>\n",
       "    </tr>\n",
       "    <tr>\n",
       "      <th>7</th>\n",
       "      <td>UggBlIXoph7p-3gCoAEC</td>\n",
       "      <td>04kJtp6pVXI</td>\n",
       "      <td>I would LOVE to see this pussy go to Staten Is...</td>\n",
       "      <td>True</td>\n",
       "      <td>True</td>\n",
       "      <td>False</td>\n",
       "      <td>False</td>\n",
       "      <td>True</td>\n",
       "      <td>True</td>\n",
       "      <td>True</td>\n",
       "      <td>False</td>\n",
       "      <td>False</td>\n",
       "      <td>False</td>\n",
       "      <td>False</td>\n",
       "      <td>False</td>\n",
       "      <td>36.363636</td>\n",
       "    </tr>\n",
       "    <tr>\n",
       "      <th>8</th>\n",
       "      <td>UggD1aYSn7KOR3gCoAEC</td>\n",
       "      <td>04kJtp6pVXI</td>\n",
       "      <td>I agree with the protestor.</td>\n",
       "      <td>False</td>\n",
       "      <td>False</td>\n",
       "      <td>False</td>\n",
       "      <td>False</td>\n",
       "      <td>False</td>\n",
       "      <td>False</td>\n",
       "      <td>False</td>\n",
       "      <td>False</td>\n",
       "      <td>False</td>\n",
       "      <td>False</td>\n",
       "      <td>False</td>\n",
       "      <td>False</td>\n",
       "      <td>0.000000</td>\n",
       "    </tr>\n",
       "    <tr>\n",
       "      <th>9</th>\n",
       "      <td>UggGm8a1fu8brngCoAEC</td>\n",
       "      <td>04kJtp6pVXI</td>\n",
       "      <td>mike browns father was made to say that boooshit</td>\n",
       "      <td>True</td>\n",
       "      <td>True</td>\n",
       "      <td>False</td>\n",
       "      <td>False</td>\n",
       "      <td>True</td>\n",
       "      <td>False</td>\n",
       "      <td>False</td>\n",
       "      <td>False</td>\n",
       "      <td>False</td>\n",
       "      <td>False</td>\n",
       "      <td>False</td>\n",
       "      <td>False</td>\n",
       "      <td>18.181818</td>\n",
       "    </tr>\n",
       "    <tr>\n",
       "      <th>10</th>\n",
       "      <td>UggguNlx1Uu89HgCoAEC</td>\n",
       "      <td>04kJtp6pVXI</td>\n",
       "      <td>the guy on the right is so on point. don't jud...</td>\n",
       "      <td>True</td>\n",
       "      <td>True</td>\n",
       "      <td>False</td>\n",
       "      <td>False</td>\n",
       "      <td>True</td>\n",
       "      <td>False</td>\n",
       "      <td>False</td>\n",
       "      <td>False</td>\n",
       "      <td>False</td>\n",
       "      <td>False</td>\n",
       "      <td>False</td>\n",
       "      <td>False</td>\n",
       "      <td>18.181818</td>\n",
       "    </tr>\n",
       "    <tr>\n",
       "      <th>11</th>\n",
       "      <td>UggHKcxZ-FvsJ3gCoAEC</td>\n",
       "      <td>04kJtp6pVXI</td>\n",
       "      <td>moral of the story, don't reach for a cops gun...</td>\n",
       "      <td>False</td>\n",
       "      <td>False</td>\n",
       "      <td>False</td>\n",
       "      <td>False</td>\n",
       "      <td>False</td>\n",
       "      <td>False</td>\n",
       "      <td>False</td>\n",
       "      <td>False</td>\n",
       "      <td>False</td>\n",
       "      <td>False</td>\n",
       "      <td>False</td>\n",
       "      <td>False</td>\n",
       "      <td>0.000000</td>\n",
       "    </tr>\n",
       "    <tr>\n",
       "      <th>12</th>\n",
       "      <td>UggLbJp619j8BHgCoAEC</td>\n",
       "      <td>04kJtp6pVXI</td>\n",
       "      <td>Masri is about as close as you can get to ISIS...</td>\n",
       "      <td>True</td>\n",
       "      <td>True</td>\n",
       "      <td>False</td>\n",
       "      <td>False</td>\n",
       "      <td>False</td>\n",
       "      <td>False</td>\n",
       "      <td>False</td>\n",
       "      <td>False</td>\n",
       "      <td>False</td>\n",
       "      <td>False</td>\n",
       "      <td>False</td>\n",
       "      <td>False</td>\n",
       "      <td>9.090909</td>\n",
       "    </tr>\n",
       "    <tr>\n",
       "      <th>13</th>\n",
       "      <td>UggMY2Oggks5LngCoAEC</td>\n",
       "      <td>04kJtp6pVXI</td>\n",
       "      <td>We all know with the chimpers there is no comp...</td>\n",
       "      <td>True</td>\n",
       "      <td>False</td>\n",
       "      <td>False</td>\n",
       "      <td>False</td>\n",
       "      <td>False</td>\n",
       "      <td>True</td>\n",
       "      <td>True</td>\n",
       "      <td>False</td>\n",
       "      <td>False</td>\n",
       "      <td>False</td>\n",
       "      <td>False</td>\n",
       "      <td>False</td>\n",
       "      <td>18.181818</td>\n",
       "    </tr>\n",
       "    <tr>\n",
       "      <th>14</th>\n",
       "      <td>UggNrFQh7L5JuXgCoAEC</td>\n",
       "      <td>04kJtp6pVXI</td>\n",
       "      <td>\"I can believe whatever I wanna believe, I don...</td>\n",
       "      <td>True</td>\n",
       "      <td>True</td>\n",
       "      <td>False</td>\n",
       "      <td>False</td>\n",
       "      <td>False</td>\n",
       "      <td>False</td>\n",
       "      <td>False</td>\n",
       "      <td>False</td>\n",
       "      <td>False</td>\n",
       "      <td>False</td>\n",
       "      <td>False</td>\n",
       "      <td>False</td>\n",
       "      <td>9.090909</td>\n",
       "    </tr>\n",
       "    <tr>\n",
       "      <th>15</th>\n",
       "      <td>UggPT9Z38D5yt3gCoAEC</td>\n",
       "      <td>04kJtp6pVXI</td>\n",
       "      <td>Bassem Masri is a terrorist part of isis</td>\n",
       "      <td>True</td>\n",
       "      <td>False</td>\n",
       "      <td>False</td>\n",
       "      <td>False</td>\n",
       "      <td>False</td>\n",
       "      <td>True</td>\n",
       "      <td>False</td>\n",
       "      <td>False</td>\n",
       "      <td>False</td>\n",
       "      <td>False</td>\n",
       "      <td>True</td>\n",
       "      <td>False</td>\n",
       "      <td>18.181818</td>\n",
       "    </tr>\n",
       "    <tr>\n",
       "      <th>16</th>\n",
       "      <td>UggRCZiMOIRLg3gCoAEC</td>\n",
       "      <td>04kJtp6pVXI</td>\n",
       "      <td>I would'nt waist my time trying to reason with...</td>\n",
       "      <td>True</td>\n",
       "      <td>True</td>\n",
       "      <td>False</td>\n",
       "      <td>True</td>\n",
       "      <td>False</td>\n",
       "      <td>False</td>\n",
       "      <td>False</td>\n",
       "      <td>False</td>\n",
       "      <td>False</td>\n",
       "      <td>False</td>\n",
       "      <td>False</td>\n",
       "      <td>False</td>\n",
       "      <td>18.181818</td>\n",
       "    </tr>\n",
       "    <tr>\n",
       "      <th>17</th>\n",
       "      <td>UggSYiWItbnmgngCoAEC</td>\n",
       "      <td>04kJtp6pVXI</td>\n",
       "      <td>I wish mr masri was dead,,</td>\n",
       "      <td>True</td>\n",
       "      <td>True</td>\n",
       "      <td>False</td>\n",
       "      <td>False</td>\n",
       "      <td>False</td>\n",
       "      <td>False</td>\n",
       "      <td>False</td>\n",
       "      <td>False</td>\n",
       "      <td>False</td>\n",
       "      <td>False</td>\n",
       "      <td>False</td>\n",
       "      <td>False</td>\n",
       "      <td>9.090909</td>\n",
       "    </tr>\n",
       "    <tr>\n",
       "      <th>18</th>\n",
       "      <td>Uggt6lvUxwS-7XgCoAEC</td>\n",
       "      <td>04kJtp6pVXI</td>\n",
       "      <td>Thus, with a collapse of the USA, only two pos...</td>\n",
       "      <td>False</td>\n",
       "      <td>False</td>\n",
       "      <td>False</td>\n",
       "      <td>False</td>\n",
       "      <td>False</td>\n",
       "      <td>False</td>\n",
       "      <td>False</td>\n",
       "      <td>False</td>\n",
       "      <td>False</td>\n",
       "      <td>False</td>\n",
       "      <td>False</td>\n",
       "      <td>False</td>\n",
       "      <td>0.000000</td>\n",
       "    </tr>\n",
       "    <tr>\n",
       "      <th>19</th>\n",
       "      <td>Uggte-vb2ZLTQ3gCoAEC</td>\n",
       "      <td>04kJtp6pVXI</td>\n",
       "      <td>You actually CAN shout \"fire\" in a crowded the...</td>\n",
       "      <td>True</td>\n",
       "      <td>True</td>\n",
       "      <td>False</td>\n",
       "      <td>False</td>\n",
       "      <td>True</td>\n",
       "      <td>False</td>\n",
       "      <td>False</td>\n",
       "      <td>False</td>\n",
       "      <td>False</td>\n",
       "      <td>False</td>\n",
       "      <td>False</td>\n",
       "      <td>False</td>\n",
       "      <td>18.181818</td>\n",
       "    </tr>\n",
       "    <tr>\n",
       "      <th>20</th>\n",
       "      <td>UggtH27r-TTcZHgCoAEC</td>\n",
       "      <td>04kJtp6pVXI</td>\n",
       "      <td>I think ,he kill him</td>\n",
       "      <td>True</td>\n",
       "      <td>True</td>\n",
       "      <td>False</td>\n",
       "      <td>False</td>\n",
       "      <td>False</td>\n",
       "      <td>False</td>\n",
       "      <td>False</td>\n",
       "      <td>False</td>\n",
       "      <td>False</td>\n",
       "      <td>False</td>\n",
       "      <td>False</td>\n",
       "      <td>False</td>\n",
       "      <td>9.090909</td>\n",
       "    </tr>\n",
       "  </tbody>\n",
       "</table>\n",
       "</div>"
      ],
      "text/plain": [
       "               CommentId      VideoId  \\\n",
       "0   Ugg2KwwX0V8-aXgCoAEC  04kJtp6pVXI   \n",
       "1   Ugg2s5AzSPioEXgCoAEC  04kJtp6pVXI   \n",
       "2   Ugg3dWTOxryFfHgCoAEC  04kJtp6pVXI   \n",
       "3   Ugg7Gd006w1MPngCoAEC  04kJtp6pVXI   \n",
       "4   Ugg8FfTbbNF8IngCoAEC  04kJtp6pVXI   \n",
       "5   Ugg9a6FtoXdxmXgCoAEC  04kJtp6pVXI   \n",
       "6   Ugga9KzkNDGvlXgCoAEC  04kJtp6pVXI   \n",
       "7   UggBlIXoph7p-3gCoAEC  04kJtp6pVXI   \n",
       "8   UggD1aYSn7KOR3gCoAEC  04kJtp6pVXI   \n",
       "9   UggGm8a1fu8brngCoAEC  04kJtp6pVXI   \n",
       "10  UggguNlx1Uu89HgCoAEC  04kJtp6pVXI   \n",
       "11  UggHKcxZ-FvsJ3gCoAEC  04kJtp6pVXI   \n",
       "12  UggLbJp619j8BHgCoAEC  04kJtp6pVXI   \n",
       "13  UggMY2Oggks5LngCoAEC  04kJtp6pVXI   \n",
       "14  UggNrFQh7L5JuXgCoAEC  04kJtp6pVXI   \n",
       "15  UggPT9Z38D5yt3gCoAEC  04kJtp6pVXI   \n",
       "16  UggRCZiMOIRLg3gCoAEC  04kJtp6pVXI   \n",
       "17  UggSYiWItbnmgngCoAEC  04kJtp6pVXI   \n",
       "18  Uggt6lvUxwS-7XgCoAEC  04kJtp6pVXI   \n",
       "19  Uggte-vb2ZLTQ3gCoAEC  04kJtp6pVXI   \n",
       "20  UggtH27r-TTcZHgCoAEC  04kJtp6pVXI   \n",
       "\n",
       "                                                 Text  IsToxic  IsAbusive  \\\n",
       "0   If only people would just take a step back and...    False      False   \n",
       "1   Law enforcement is not trained to shoot to app...     True       True   \n",
       "2   \\nDont you reckon them 'black lives matter' ba...     True       True   \n",
       "3   There are a very large number of people who do...    False      False   \n",
       "4   The Arab dude is absolutely right, he should h...    False      False   \n",
       "5   here people his facebook is https://www.facebo...     True      False   \n",
       "6   Check out this you tube post. \"Black man goes ...     True      False   \n",
       "7   I would LOVE to see this pussy go to Staten Is...     True       True   \n",
       "8                         I agree with the protestor.    False      False   \n",
       "9    mike browns father was made to say that boooshit     True       True   \n",
       "10  the guy on the right is so on point. don't jud...     True       True   \n",
       "11  moral of the story, don't reach for a cops gun...    False      False   \n",
       "12  Masri is about as close as you can get to ISIS...     True       True   \n",
       "13  We all know with the chimpers there is no comp...     True      False   \n",
       "14  \"I can believe whatever I wanna believe, I don...     True       True   \n",
       "15           Bassem Masri is a terrorist part of isis     True      False   \n",
       "16  I would'nt waist my time trying to reason with...     True       True   \n",
       "17                         I wish mr masri was dead,,     True       True   \n",
       "18  Thus, with a collapse of the USA, only two pos...    False      False   \n",
       "19  You actually CAN shout \"fire\" in a crowded the...     True       True   \n",
       "20                               I think ,he kill him     True       True   \n",
       "\n",
       "    IsThreat  IsProvocative  IsObscene  IsHatespeech  IsRacist  IsNationalist  \\\n",
       "0      False          False      False         False     False          False   \n",
       "1      False          False      False         False     False          False   \n",
       "2      False          False       True         False     False          False   \n",
       "3      False          False      False         False     False          False   \n",
       "4      False          False      False         False     False          False   \n",
       "5      False          False      False          True     False          False   \n",
       "6      False          False      False          True      True          False   \n",
       "7      False          False       True          True      True          False   \n",
       "8      False          False      False         False     False          False   \n",
       "9      False          False       True         False     False          False   \n",
       "10     False          False       True         False     False          False   \n",
       "11     False          False      False         False     False          False   \n",
       "12     False          False      False         False     False          False   \n",
       "13     False          False      False          True      True          False   \n",
       "14     False          False      False         False     False          False   \n",
       "15     False          False      False          True     False          False   \n",
       "16     False           True      False         False     False          False   \n",
       "17     False          False      False         False     False          False   \n",
       "18     False          False      False         False     False          False   \n",
       "19     False          False       True         False     False          False   \n",
       "20     False          False      False         False     False          False   \n",
       "\n",
       "    IsSexist  IsHomophobic  IsReligiousHate  IsRadicalism  HatePercentage  \n",
       "0      False         False            False         False        0.000000  \n",
       "1      False         False            False         False        9.090909  \n",
       "2      False         False            False         False       18.181818  \n",
       "3      False         False            False         False        0.000000  \n",
       "4      False         False            False         False        0.000000  \n",
       "5      False         False             True         False       18.181818  \n",
       "6      False         False            False         False       18.181818  \n",
       "7      False         False            False         False       36.363636  \n",
       "8      False         False            False         False        0.000000  \n",
       "9      False         False            False         False       18.181818  \n",
       "10     False         False            False         False       18.181818  \n",
       "11     False         False            False         False        0.000000  \n",
       "12     False         False            False         False        9.090909  \n",
       "13     False         False            False         False       18.181818  \n",
       "14     False         False            False         False        9.090909  \n",
       "15     False         False             True         False       18.181818  \n",
       "16     False         False            False         False       18.181818  \n",
       "17     False         False            False         False        9.090909  \n",
       "18     False         False            False         False        0.000000  \n",
       "19     False         False            False         False       18.181818  \n",
       "20     False         False            False         False        9.090909  "
      ]
     },
     "execution_count": 38,
     "metadata": {},
     "output_type": "execute_result"
    }
   ],
   "source": [
    "df.head(21)"
   ]
  },
  {
   "cell_type": "code",
   "execution_count": 39,
   "metadata": {},
   "outputs": [
    {
     "name": "stderr",
     "output_type": "stream",
     "text": [
      "PandasGUI INFO — pandasgui.gui — Opening PandasGUI\n",
      "C:\\Users\\Administrator\\AppData\\Local\\Temp\\ipykernel_19652\\1525291607.py:1: FutureWarning:\n",
      "\n",
      "Series.__getitem__ treating keys as positions is deprecated. In a future version, integer keys will always be treated as labels (consistent with DataFrame behavior). To access a value by position, use `ser.iloc[pos]`\n",
      "\n",
      "C:\\Users\\Administrator\\AppData\\Local\\Temp\\ipykernel_19652\\1525291607.py:1: FutureWarning:\n",
      "\n",
      "Series.__getitem__ treating keys as positions is deprecated. In a future version, integer keys will always be treated as labels (consistent with DataFrame behavior). To access a value by position, use `ser.iloc[pos]`\n",
      "\n",
      "C:\\Users\\Administrator\\AppData\\Local\\Temp\\ipykernel_19652\\1525291607.py:1: FutureWarning:\n",
      "\n",
      "Series.__getitem__ treating keys as positions is deprecated. In a future version, integer keys will always be treated as labels (consistent with DataFrame behavior). To access a value by position, use `ser.iloc[pos]`\n",
      "\n",
      "C:\\Users\\Administrator\\AppData\\Local\\Temp\\ipykernel_19652\\1525291607.py:1: FutureWarning:\n",
      "\n",
      "Series.__getitem__ treating keys as positions is deprecated. In a future version, integer keys will always be treated as labels (consistent with DataFrame behavior). To access a value by position, use `ser.iloc[pos]`\n",
      "\n",
      "C:\\Users\\Administrator\\AppData\\Local\\Temp\\ipykernel_19652\\1525291607.py:1: FutureWarning:\n",
      "\n",
      "Series.__getitem__ treating keys as positions is deprecated. In a future version, integer keys will always be treated as labels (consistent with DataFrame behavior). To access a value by position, use `ser.iloc[pos]`\n",
      "\n",
      "C:\\Users\\Administrator\\AppData\\Local\\Temp\\ipykernel_19652\\1525291607.py:1: FutureWarning:\n",
      "\n",
      "Series.__getitem__ treating keys as positions is deprecated. In a future version, integer keys will always be treated as labels (consistent with DataFrame behavior). To access a value by position, use `ser.iloc[pos]`\n",
      "\n"
     ]
    },
    {
     "data": {
      "text/plain": [
       "<pandasgui.gui.PandasGui at 0x205cdfdd000>"
      ]
     },
     "execution_count": 39,
     "metadata": {},
     "output_type": "execute_result"
    }
   ],
   "source": [
    "# show(df)"
   ]
  },
  {
   "cell_type": "code",
   "execution_count": null,
   "metadata": {},
   "outputs": [],
   "source": []
  }
 ],
 "metadata": {
  "kernelspec": {
   "display_name": "nlp",
   "language": "python",
   "name": "python3"
  },
  "language_info": {
   "codemirror_mode": {
    "name": "ipython",
    "version": 3
   },
   "file_extension": ".py",
   "mimetype": "text/x-python",
   "name": "python",
   "nbconvert_exporter": "python",
   "pygments_lexer": "ipython3",
   "version": "3.11.6"
  },
  "orig_nbformat": 4
 },
 "nbformat": 4,
 "nbformat_minor": 2
}
